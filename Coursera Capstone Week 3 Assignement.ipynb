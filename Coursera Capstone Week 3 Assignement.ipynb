{
 "cells": [
  {
   "cell_type": "markdown",
   "metadata": {},
   "source": []
  },
  {
   "cell_type": "markdown",
   "metadata": {},
   "source": [
    "<h1 align=center><font size = 7>Coursera - IBM Data Science Certification </font></h1>\n",
    "\n",
    "\n",
    "<h1 align=center><font size = 5>Applied Data Science Capstone - Week 3 Project Assignment  </font></h1>"
   ]
  },
  {
   "cell_type": "markdown",
   "metadata": {},
   "source": [
    "<h1 align=left><font size = 5>Segmenting and Clustering Neighborhoods in Toronto </font></h1>"
   ]
  },
  {
   "cell_type": "markdown",
   "metadata": {},
   "source": [
    "\n"
   ]
  },
  {
   "cell_type": "markdown",
   "metadata": {},
   "source": [
    "### Introduction "
   ]
  },
  {
   "cell_type": "markdown",
   "metadata": {},
   "source": [
    "In this project we will be using location data about the city of Toronto, Canada in order to create segments and clusters of its neighborhoods. \n",
    "\n",
    "We will be using data from the Wikipedia page: \n",
    "\n",
    "https://en.wikipedia.org/w/index.php?title=List_of_postal_codes_of_Canada:_M&direction=prev&oldid=926287641\n",
    "\n",
    "First we will scrape, wrangle and clean the data in order to read it into a structured dataframe. \n",
    "\n",
    "Once we have the data structured we can start the process of analysis and exploration that will lead us to cluster the neighborhoods in the city \n",
    "\n",
    "At last we will proceed with the visualization"
   ]
  },
  {
   "cell_type": "code",
   "execution_count": null,
   "metadata": {},
   "outputs": [],
   "source": []
  },
  {
   "cell_type": "code",
   "execution_count": 1,
   "metadata": {},
   "outputs": [
    {
     "name": "stdout",
     "output_type": "stream",
     "text": [
      "Libraries successfully imported\n"
     ]
    }
   ],
   "source": [
    "# Here we import the required libraries \n",
    "\n",
    "import numpy as np\n",
    "import pandas as pd\n",
    "import wikipedia as wp\n",
    "pd.set_option('display.max_columns', None)\n",
    "pd.set_option('display.max_rows', None)\n",
    "\n",
    "import json\n",
    "from pandas.io.json import json_normalize\n",
    "from geopy.geocoders import Nominatim\n",
    "import requests\n",
    "\n",
    "import matplotlib.cm as cm\n",
    "import matplotlib.colors as colors\n",
    "\n",
    "from sklearn.cluster import KMeans\n",
    "from sklearn.datasets import make_blobs\n",
    "\n",
    "import folium\n",
    "from bs4 import BeautifulSoup\n",
    "import lxml\n",
    "\n",
    "print('Libraries successfully imported')"
   ]
  },
  {
   "cell_type": "markdown",
   "metadata": {},
   "source": [
    "### Retrieving and scraping Data"
   ]
  },
  {
   "cell_type": "code",
   "execution_count": 2,
   "metadata": {
    "scrolled": true
   },
   "outputs": [],
   "source": [
    "# link to data : https://en.wikipedia.org/w/index.php?title=List_of_postal_codes_of_Canada:_M&direction=prev&oldid=926287641"
   ]
  },
  {
   "cell_type": "code",
   "execution_count": 3,
   "metadata": {},
   "outputs": [
    {
     "data": {
      "text/plain": [
       "'https://en.wikipedia.org/w/index.php?title=List_of_postal_codes_of_Canada:_M&direction=prev&oldid=926287641'"
      ]
     },
     "execution_count": 3,
     "metadata": {},
     "output_type": "execute_result"
    }
   ],
   "source": [
    "'https://en.wikipedia.org/w/index.php?title=List_of_postal_codes_of_Canada:_M&direction=prev&oldid=926287641'"
   ]
  },
  {
   "cell_type": "code",
   "execution_count": 4,
   "metadata": {},
   "outputs": [
    {
     "data": {
      "text/html": [
       "<div>\n",
       "<style scoped>\n",
       "    .dataframe tbody tr th:only-of-type {\n",
       "        vertical-align: middle;\n",
       "    }\n",
       "\n",
       "    .dataframe tbody tr th {\n",
       "        vertical-align: top;\n",
       "    }\n",
       "\n",
       "    .dataframe thead th {\n",
       "        text-align: right;\n",
       "    }\n",
       "</style>\n",
       "<table border=\"1\" class=\"dataframe\">\n",
       "  <thead>\n",
       "    <tr style=\"text-align: right;\">\n",
       "      <th></th>\n",
       "      <th>Postcode</th>\n",
       "      <th>Borough</th>\n",
       "      <th>Neighbourhood</th>\n",
       "    </tr>\n",
       "  </thead>\n",
       "  <tbody>\n",
       "    <tr>\n",
       "      <th>0</th>\n",
       "      <td>M1A</td>\n",
       "      <td>Not assigned</td>\n",
       "      <td>Not assigned</td>\n",
       "    </tr>\n",
       "    <tr>\n",
       "      <th>1</th>\n",
       "      <td>M2A</td>\n",
       "      <td>Not assigned</td>\n",
       "      <td>Not assigned</td>\n",
       "    </tr>\n",
       "    <tr>\n",
       "      <th>2</th>\n",
       "      <td>M3A</td>\n",
       "      <td>North York</td>\n",
       "      <td>Parkwoods</td>\n",
       "    </tr>\n",
       "    <tr>\n",
       "      <th>3</th>\n",
       "      <td>M4A</td>\n",
       "      <td>North York</td>\n",
       "      <td>Victoria Village</td>\n",
       "    </tr>\n",
       "    <tr>\n",
       "      <th>4</th>\n",
       "      <td>M5A</td>\n",
       "      <td>Downtown Toronto</td>\n",
       "      <td>Harbourfront</td>\n",
       "    </tr>\n",
       "  </tbody>\n",
       "</table>\n",
       "</div>"
      ],
      "text/plain": [
       "  Postcode           Borough     Neighbourhood\n",
       "0      M1A      Not assigned      Not assigned\n",
       "1      M2A      Not assigned      Not assigned\n",
       "2      M3A        North York         Parkwoods\n",
       "3      M4A        North York  Victoria Village\n",
       "4      M5A  Downtown Toronto      Harbourfront"
      ]
     },
     "execution_count": 4,
     "metadata": {},
     "output_type": "execute_result"
    }
   ],
   "source": [
    "# read the data from wikipedia\n",
    "url='https://en.wikipedia.org/w/index.php?title=List_of_postal_codes_of_Canada:_M&direction=prev&oldid=926287641'\n",
    "response = requests.get(url)\n",
    "\n",
    "# convert html data\n",
    "data = response.text\n",
    "soup = BeautifulSoup(data,'html.parser')\n",
    "wiki_table=soup.find('table')\n",
    "\n",
    "#generate dataframe\n",
    "df = pd.read_html(str(wiki_table))[0]\n",
    "df.head()"
   ]
  },
  {
   "cell_type": "code",
   "execution_count": 5,
   "metadata": {},
   "outputs": [
    {
     "data": {
      "text/html": [
       "<div>\n",
       "<style scoped>\n",
       "    .dataframe tbody tr th:only-of-type {\n",
       "        vertical-align: middle;\n",
       "    }\n",
       "\n",
       "    .dataframe tbody tr th {\n",
       "        vertical-align: top;\n",
       "    }\n",
       "\n",
       "    .dataframe thead th {\n",
       "        text-align: right;\n",
       "    }\n",
       "</style>\n",
       "<table border=\"1\" class=\"dataframe\">\n",
       "  <thead>\n",
       "    <tr style=\"text-align: right;\">\n",
       "      <th></th>\n",
       "      <th>PostalCode</th>\n",
       "      <th>Borough</th>\n",
       "      <th>Neighborhood</th>\n",
       "    </tr>\n",
       "  </thead>\n",
       "  <tbody>\n",
       "    <tr>\n",
       "      <th>1</th>\n",
       "      <td>M2A</td>\n",
       "      <td>Not assigned</td>\n",
       "      <td>Not assigned</td>\n",
       "    </tr>\n",
       "    <tr>\n",
       "      <th>2</th>\n",
       "      <td>M3A</td>\n",
       "      <td>North York</td>\n",
       "      <td>Parkwoods</td>\n",
       "    </tr>\n",
       "    <tr>\n",
       "      <th>3</th>\n",
       "      <td>M4A</td>\n",
       "      <td>North York</td>\n",
       "      <td>Victoria Village</td>\n",
       "    </tr>\n",
       "    <tr>\n",
       "      <th>4</th>\n",
       "      <td>M5A</td>\n",
       "      <td>Downtown Toronto</td>\n",
       "      <td>Harbourfront</td>\n",
       "    </tr>\n",
       "    <tr>\n",
       "      <th>5</th>\n",
       "      <td>M5A</td>\n",
       "      <td>Downtown Toronto</td>\n",
       "      <td>Regent Park</td>\n",
       "    </tr>\n",
       "  </tbody>\n",
       "</table>\n",
       "</div>"
      ],
      "text/plain": [
       "  PostalCode           Borough      Neighborhood\n",
       "1        M2A      Not assigned      Not assigned\n",
       "2        M3A        North York         Parkwoods\n",
       "3        M4A        North York  Victoria Village\n",
       "4        M5A  Downtown Toronto      Harbourfront\n",
       "5        M5A  Downtown Toronto       Regent Park"
      ]
     },
     "execution_count": 5,
     "metadata": {},
     "output_type": "execute_result"
    }
   ],
   "source": [
    "# Drop the first column\n",
    "df.drop(0,inplace=True)\n",
    "\n",
    "#Rename columns\n",
    "df.columns = ['PostalCode','Borough','Neighborhood']\n",
    "df.head()"
   ]
  },
  {
   "cell_type": "code",
   "execution_count": 6,
   "metadata": {},
   "outputs": [
    {
     "data": {
      "text/html": [
       "<div>\n",
       "<style scoped>\n",
       "    .dataframe tbody tr th:only-of-type {\n",
       "        vertical-align: middle;\n",
       "    }\n",
       "\n",
       "    .dataframe tbody tr th {\n",
       "        vertical-align: top;\n",
       "    }\n",
       "\n",
       "    .dataframe thead th {\n",
       "        text-align: right;\n",
       "    }\n",
       "</style>\n",
       "<table border=\"1\" class=\"dataframe\">\n",
       "  <thead>\n",
       "    <tr style=\"text-align: right;\">\n",
       "      <th></th>\n",
       "      <th>index</th>\n",
       "      <th>PostalCode</th>\n",
       "      <th>Borough</th>\n",
       "      <th>Neighborhood</th>\n",
       "    </tr>\n",
       "  </thead>\n",
       "  <tbody>\n",
       "    <tr>\n",
       "      <th>0</th>\n",
       "      <td>2</td>\n",
       "      <td>M3A</td>\n",
       "      <td>North York</td>\n",
       "      <td>Parkwoods</td>\n",
       "    </tr>\n",
       "    <tr>\n",
       "      <th>1</th>\n",
       "      <td>3</td>\n",
       "      <td>M4A</td>\n",
       "      <td>North York</td>\n",
       "      <td>Victoria Village</td>\n",
       "    </tr>\n",
       "    <tr>\n",
       "      <th>2</th>\n",
       "      <td>4</td>\n",
       "      <td>M5A</td>\n",
       "      <td>Downtown Toronto</td>\n",
       "      <td>Harbourfront</td>\n",
       "    </tr>\n",
       "    <tr>\n",
       "      <th>3</th>\n",
       "      <td>5</td>\n",
       "      <td>M5A</td>\n",
       "      <td>Downtown Toronto</td>\n",
       "      <td>Regent Park</td>\n",
       "    </tr>\n",
       "    <tr>\n",
       "      <th>4</th>\n",
       "      <td>6</td>\n",
       "      <td>M6A</td>\n",
       "      <td>North York</td>\n",
       "      <td>Lawrence Heights</td>\n",
       "    </tr>\n",
       "  </tbody>\n",
       "</table>\n",
       "</div>"
      ],
      "text/plain": [
       "   index PostalCode           Borough      Neighborhood\n",
       "0      2        M3A        North York         Parkwoods\n",
       "1      3        M4A        North York  Victoria Village\n",
       "2      4        M5A  Downtown Toronto      Harbourfront\n",
       "3      5        M5A  Downtown Toronto       Regent Park\n",
       "4      6        M6A        North York  Lawrence Heights"
      ]
     },
     "execution_count": 6,
     "metadata": {},
     "output_type": "execute_result"
    }
   ],
   "source": [
    "# Remove \"Borough\" with 'Not assigned' values\n",
    "df2=df[df['Borough'].str.contains(\"Not assigned\") == False].reset_index()\n",
    "df2.head()"
   ]
  },
  {
   "cell_type": "code",
   "execution_count": 7,
   "metadata": {},
   "outputs": [
    {
     "data": {
      "text/html": [
       "<div>\n",
       "<style scoped>\n",
       "    .dataframe tbody tr th:only-of-type {\n",
       "        vertical-align: middle;\n",
       "    }\n",
       "\n",
       "    .dataframe tbody tr th {\n",
       "        vertical-align: top;\n",
       "    }\n",
       "\n",
       "    .dataframe thead th {\n",
       "        text-align: right;\n",
       "    }\n",
       "</style>\n",
       "<table border=\"1\" class=\"dataframe\">\n",
       "  <thead>\n",
       "    <tr style=\"text-align: right;\">\n",
       "      <th></th>\n",
       "      <th>PostalCode</th>\n",
       "      <th>Borough</th>\n",
       "      <th>Neighborhood</th>\n",
       "    </tr>\n",
       "  </thead>\n",
       "  <tbody>\n",
       "    <tr>\n",
       "      <th>0</th>\n",
       "      <td>M1B</td>\n",
       "      <td>Scarborough</td>\n",
       "      <td>Rouge, Malvern</td>\n",
       "    </tr>\n",
       "    <tr>\n",
       "      <th>1</th>\n",
       "      <td>M1C</td>\n",
       "      <td>Scarborough</td>\n",
       "      <td>Highland Creek, Rouge Hill, Port Union</td>\n",
       "    </tr>\n",
       "    <tr>\n",
       "      <th>2</th>\n",
       "      <td>M1E</td>\n",
       "      <td>Scarborough</td>\n",
       "      <td>Guildwood, Morningside, West Hill</td>\n",
       "    </tr>\n",
       "    <tr>\n",
       "      <th>3</th>\n",
       "      <td>M1G</td>\n",
       "      <td>Scarborough</td>\n",
       "      <td>Woburn</td>\n",
       "    </tr>\n",
       "    <tr>\n",
       "      <th>4</th>\n",
       "      <td>M1H</td>\n",
       "      <td>Scarborough</td>\n",
       "      <td>Cedarbrae</td>\n",
       "    </tr>\n",
       "  </tbody>\n",
       "</table>\n",
       "</div>"
      ],
      "text/plain": [
       "  PostalCode      Borough                            Neighborhood\n",
       "0        M1B  Scarborough                          Rouge, Malvern\n",
       "1        M1C  Scarborough  Highland Creek, Rouge Hill, Port Union\n",
       "2        M1E  Scarborough       Guildwood, Morningside, West Hill\n",
       "3        M1G  Scarborough                                  Woburn\n",
       "4        M1H  Scarborough                               Cedarbrae"
      ]
     },
     "execution_count": 7,
     "metadata": {},
     "output_type": "execute_result"
    }
   ],
   "source": [
    "# combining rows \n",
    "df3= df2.groupby(['PostalCode', 'Borough'])['Neighborhood'].apply(', '.join).reset_index()\n",
    "df3.head()"
   ]
  },
  {
   "cell_type": "code",
   "execution_count": 8,
   "metadata": {},
   "outputs": [
    {
     "data": {
      "text/plain": [
       "(103, 3)"
      ]
     },
     "execution_count": 8,
     "metadata": {},
     "output_type": "execute_result"
    }
   ],
   "source": [
    "df3.shape"
   ]
  },
  {
   "cell_type": "markdown",
   "metadata": {},
   "source": [
    "#### Reading geospatianl data (source: https://cocl.us/Geospatial_data)"
   ]
  },
  {
   "cell_type": "code",
   "execution_count": 9,
   "metadata": {},
   "outputs": [
    {
     "data": {
      "text/html": [
       "<div>\n",
       "<style scoped>\n",
       "    .dataframe tbody tr th:only-of-type {\n",
       "        vertical-align: middle;\n",
       "    }\n",
       "\n",
       "    .dataframe tbody tr th {\n",
       "        vertical-align: top;\n",
       "    }\n",
       "\n",
       "    .dataframe thead th {\n",
       "        text-align: right;\n",
       "    }\n",
       "</style>\n",
       "<table border=\"1\" class=\"dataframe\">\n",
       "  <thead>\n",
       "    <tr style=\"text-align: right;\">\n",
       "      <th></th>\n",
       "      <th>Postal Code</th>\n",
       "      <th>Latitude</th>\n",
       "      <th>Longitude</th>\n",
       "    </tr>\n",
       "  </thead>\n",
       "  <tbody>\n",
       "    <tr>\n",
       "      <th>0</th>\n",
       "      <td>M1B</td>\n",
       "      <td>43.806686</td>\n",
       "      <td>-79.194353</td>\n",
       "    </tr>\n",
       "    <tr>\n",
       "      <th>1</th>\n",
       "      <td>M1C</td>\n",
       "      <td>43.784535</td>\n",
       "      <td>-79.160497</td>\n",
       "    </tr>\n",
       "    <tr>\n",
       "      <th>2</th>\n",
       "      <td>M1E</td>\n",
       "      <td>43.763573</td>\n",
       "      <td>-79.188711</td>\n",
       "    </tr>\n",
       "    <tr>\n",
       "      <th>3</th>\n",
       "      <td>M1G</td>\n",
       "      <td>43.770992</td>\n",
       "      <td>-79.216917</td>\n",
       "    </tr>\n",
       "    <tr>\n",
       "      <th>4</th>\n",
       "      <td>M1H</td>\n",
       "      <td>43.773136</td>\n",
       "      <td>-79.239476</td>\n",
       "    </tr>\n",
       "  </tbody>\n",
       "</table>\n",
       "</div>"
      ],
      "text/plain": [
       "  Postal Code   Latitude  Longitude\n",
       "0         M1B  43.806686 -79.194353\n",
       "1         M1C  43.784535 -79.160497\n",
       "2         M1E  43.763573 -79.188711\n",
       "3         M1G  43.770992 -79.216917\n",
       "4         M1H  43.773136 -79.239476"
      ]
     },
     "execution_count": 9,
     "metadata": {},
     "output_type": "execute_result"
    }
   ],
   "source": [
    "# retrieving the data + create dataframe\n",
    "url='https://cocl.us/Geospatial_data/Geospatial_Coordinates.csv'\n",
    "df_geo=pd.read_csv(url)\n",
    "df_geo.head()"
   ]
  },
  {
   "cell_type": "code",
   "execution_count": 10,
   "metadata": {
    "scrolled": false
   },
   "outputs": [
    {
     "data": {
      "text/html": [
       "<div>\n",
       "<style scoped>\n",
       "    .dataframe tbody tr th:only-of-type {\n",
       "        vertical-align: middle;\n",
       "    }\n",
       "\n",
       "    .dataframe tbody tr th {\n",
       "        vertical-align: top;\n",
       "    }\n",
       "\n",
       "    .dataframe thead th {\n",
       "        text-align: right;\n",
       "    }\n",
       "</style>\n",
       "<table border=\"1\" class=\"dataframe\">\n",
       "  <thead>\n",
       "    <tr style=\"text-align: right;\">\n",
       "      <th></th>\n",
       "      <th>PostalCode</th>\n",
       "      <th>Borough</th>\n",
       "      <th>Neighborhood</th>\n",
       "    </tr>\n",
       "  </thead>\n",
       "  <tbody>\n",
       "    <tr>\n",
       "      <th>0</th>\n",
       "      <td>M1B</td>\n",
       "      <td>Scarborough</td>\n",
       "      <td>Rouge, Malvern</td>\n",
       "    </tr>\n",
       "    <tr>\n",
       "      <th>1</th>\n",
       "      <td>M1C</td>\n",
       "      <td>Scarborough</td>\n",
       "      <td>Highland Creek, Rouge Hill, Port Union</td>\n",
       "    </tr>\n",
       "    <tr>\n",
       "      <th>2</th>\n",
       "      <td>M1E</td>\n",
       "      <td>Scarborough</td>\n",
       "      <td>Guildwood, Morningside, West Hill</td>\n",
       "    </tr>\n",
       "    <tr>\n",
       "      <th>3</th>\n",
       "      <td>M1G</td>\n",
       "      <td>Scarborough</td>\n",
       "      <td>Woburn</td>\n",
       "    </tr>\n",
       "    <tr>\n",
       "      <th>4</th>\n",
       "      <td>M1H</td>\n",
       "      <td>Scarborough</td>\n",
       "      <td>Cedarbrae</td>\n",
       "    </tr>\n",
       "  </tbody>\n",
       "</table>\n",
       "</div>"
      ],
      "text/plain": [
       "  PostalCode      Borough                            Neighborhood\n",
       "0        M1B  Scarborough                          Rouge, Malvern\n",
       "1        M1C  Scarborough  Highland Creek, Rouge Hill, Port Union\n",
       "2        M1E  Scarborough       Guildwood, Morningside, West Hill\n",
       "3        M1G  Scarborough                                  Woburn\n",
       "4        M1H  Scarborough                               Cedarbrae"
      ]
     },
     "execution_count": 10,
     "metadata": {},
     "output_type": "execute_result"
    }
   ],
   "source": [
    "df3.head()"
   ]
  },
  {
   "cell_type": "code",
   "execution_count": 11,
   "metadata": {},
   "outputs": [
    {
     "data": {
      "text/html": [
       "<div>\n",
       "<style scoped>\n",
       "    .dataframe tbody tr th:only-of-type {\n",
       "        vertical-align: middle;\n",
       "    }\n",
       "\n",
       "    .dataframe tbody tr th {\n",
       "        vertical-align: top;\n",
       "    }\n",
       "\n",
       "    .dataframe thead th {\n",
       "        text-align: right;\n",
       "    }\n",
       "</style>\n",
       "<table border=\"1\" class=\"dataframe\">\n",
       "  <thead>\n",
       "    <tr style=\"text-align: right;\">\n",
       "      <th></th>\n",
       "      <th>PostalCode</th>\n",
       "      <th>Latitude</th>\n",
       "      <th>Longitude</th>\n",
       "    </tr>\n",
       "  </thead>\n",
       "  <tbody>\n",
       "    <tr>\n",
       "      <th>0</th>\n",
       "      <td>M1B</td>\n",
       "      <td>43.806686</td>\n",
       "      <td>-79.194353</td>\n",
       "    </tr>\n",
       "    <tr>\n",
       "      <th>1</th>\n",
       "      <td>M1C</td>\n",
       "      <td>43.784535</td>\n",
       "      <td>-79.160497</td>\n",
       "    </tr>\n",
       "    <tr>\n",
       "      <th>2</th>\n",
       "      <td>M1E</td>\n",
       "      <td>43.763573</td>\n",
       "      <td>-79.188711</td>\n",
       "    </tr>\n",
       "    <tr>\n",
       "      <th>3</th>\n",
       "      <td>M1G</td>\n",
       "      <td>43.770992</td>\n",
       "      <td>-79.216917</td>\n",
       "    </tr>\n",
       "    <tr>\n",
       "      <th>4</th>\n",
       "      <td>M1H</td>\n",
       "      <td>43.773136</td>\n",
       "      <td>-79.239476</td>\n",
       "    </tr>\n",
       "  </tbody>\n",
       "</table>\n",
       "</div>"
      ],
      "text/plain": [
       "  PostalCode   Latitude  Longitude\n",
       "0        M1B  43.806686 -79.194353\n",
       "1        M1C  43.784535 -79.160497\n",
       "2        M1E  43.763573 -79.188711\n",
       "3        M1G  43.770992 -79.216917\n",
       "4        M1H  43.773136 -79.239476"
      ]
     },
     "execution_count": 11,
     "metadata": {},
     "output_type": "execute_result"
    }
   ],
   "source": [
    "# adjust dataset\n",
    "df_geo = df_geo.rename(columns = {'Postal Code':'PostalCode'}) \n",
    "df_geo.head()"
   ]
  },
  {
   "cell_type": "code",
   "execution_count": 12,
   "metadata": {},
   "outputs": [
    {
     "data": {
      "text/html": [
       "<div>\n",
       "<style scoped>\n",
       "    .dataframe tbody tr th:only-of-type {\n",
       "        vertical-align: middle;\n",
       "    }\n",
       "\n",
       "    .dataframe tbody tr th {\n",
       "        vertical-align: top;\n",
       "    }\n",
       "\n",
       "    .dataframe thead th {\n",
       "        text-align: right;\n",
       "    }\n",
       "</style>\n",
       "<table border=\"1\" class=\"dataframe\">\n",
       "  <thead>\n",
       "    <tr style=\"text-align: right;\">\n",
       "      <th></th>\n",
       "      <th>PostalCode</th>\n",
       "      <th>Borough</th>\n",
       "      <th>Neighborhood</th>\n",
       "      <th>Latitude</th>\n",
       "      <th>Longitude</th>\n",
       "    </tr>\n",
       "  </thead>\n",
       "  <tbody>\n",
       "    <tr>\n",
       "      <th>0</th>\n",
       "      <td>M1B</td>\n",
       "      <td>Scarborough</td>\n",
       "      <td>Rouge, Malvern</td>\n",
       "      <td>43.806686</td>\n",
       "      <td>-79.194353</td>\n",
       "    </tr>\n",
       "    <tr>\n",
       "      <th>1</th>\n",
       "      <td>M1C</td>\n",
       "      <td>Scarborough</td>\n",
       "      <td>Highland Creek, Rouge Hill, Port Union</td>\n",
       "      <td>43.784535</td>\n",
       "      <td>-79.160497</td>\n",
       "    </tr>\n",
       "    <tr>\n",
       "      <th>2</th>\n",
       "      <td>M1E</td>\n",
       "      <td>Scarborough</td>\n",
       "      <td>Guildwood, Morningside, West Hill</td>\n",
       "      <td>43.763573</td>\n",
       "      <td>-79.188711</td>\n",
       "    </tr>\n",
       "    <tr>\n",
       "      <th>3</th>\n",
       "      <td>M1G</td>\n",
       "      <td>Scarborough</td>\n",
       "      <td>Woburn</td>\n",
       "      <td>43.770992</td>\n",
       "      <td>-79.216917</td>\n",
       "    </tr>\n",
       "    <tr>\n",
       "      <th>4</th>\n",
       "      <td>M1H</td>\n",
       "      <td>Scarborough</td>\n",
       "      <td>Cedarbrae</td>\n",
       "      <td>43.773136</td>\n",
       "      <td>-79.239476</td>\n",
       "    </tr>\n",
       "  </tbody>\n",
       "</table>\n",
       "</div>"
      ],
      "text/plain": [
       "  PostalCode      Borough                            Neighborhood   Latitude  \\\n",
       "0        M1B  Scarborough                          Rouge, Malvern  43.806686   \n",
       "1        M1C  Scarborough  Highland Creek, Rouge Hill, Port Union  43.784535   \n",
       "2        M1E  Scarborough       Guildwood, Morningside, West Hill  43.763573   \n",
       "3        M1G  Scarborough                                  Woburn  43.770992   \n",
       "4        M1H  Scarborough                               Cedarbrae  43.773136   \n",
       "\n",
       "   Longitude  \n",
       "0 -79.194353  \n",
       "1 -79.160497  \n",
       "2 -79.188711  \n",
       "3 -79.216917  \n",
       "4 -79.239476  "
      ]
     },
     "execution_count": 12,
     "metadata": {},
     "output_type": "execute_result"
    }
   ],
   "source": [
    "#merging data to match column name\n",
    "df3 = pd.merge(df3, df_geo, on = 'PostalCode')\n",
    "df3.head()"
   ]
  },
  {
   "cell_type": "code",
   "execution_count": 13,
   "metadata": {},
   "outputs": [
    {
     "data": {
      "text/plain": [
       "(103, 5)"
      ]
     },
     "execution_count": 13,
     "metadata": {},
     "output_type": "execute_result"
    }
   ],
   "source": [
    "df3.shape"
   ]
  },
  {
   "cell_type": "code",
   "execution_count": null,
   "metadata": {},
   "outputs": [],
   "source": []
  },
  {
   "cell_type": "code",
   "execution_count": 14,
   "metadata": {},
   "outputs": [
    {
     "data": {
      "text/html": [
       "<div>\n",
       "<style scoped>\n",
       "    .dataframe tbody tr th:only-of-type {\n",
       "        vertical-align: middle;\n",
       "    }\n",
       "\n",
       "    .dataframe tbody tr th {\n",
       "        vertical-align: top;\n",
       "    }\n",
       "\n",
       "    .dataframe thead th {\n",
       "        text-align: right;\n",
       "    }\n",
       "</style>\n",
       "<table border=\"1\" class=\"dataframe\">\n",
       "  <thead>\n",
       "    <tr style=\"text-align: right;\">\n",
       "      <th></th>\n",
       "      <th>PostalCode</th>\n",
       "      <th>Borough</th>\n",
       "      <th>Neighborhood</th>\n",
       "      <th>Latitude</th>\n",
       "      <th>Longitude</th>\n",
       "    </tr>\n",
       "  </thead>\n",
       "  <tbody>\n",
       "    <tr>\n",
       "      <th>0</th>\n",
       "      <td>M4E</td>\n",
       "      <td>East Toronto</td>\n",
       "      <td>The Beaches</td>\n",
       "      <td>43.676357</td>\n",
       "      <td>-79.293031</td>\n",
       "    </tr>\n",
       "    <tr>\n",
       "      <th>1</th>\n",
       "      <td>M4K</td>\n",
       "      <td>East Toronto</td>\n",
       "      <td>The Danforth West, Riverdale</td>\n",
       "      <td>43.679557</td>\n",
       "      <td>-79.352188</td>\n",
       "    </tr>\n",
       "    <tr>\n",
       "      <th>2</th>\n",
       "      <td>M4L</td>\n",
       "      <td>East Toronto</td>\n",
       "      <td>The Beaches West, India Bazaar</td>\n",
       "      <td>43.668999</td>\n",
       "      <td>-79.315572</td>\n",
       "    </tr>\n",
       "    <tr>\n",
       "      <th>3</th>\n",
       "      <td>M4M</td>\n",
       "      <td>East Toronto</td>\n",
       "      <td>Studio District</td>\n",
       "      <td>43.659526</td>\n",
       "      <td>-79.340923</td>\n",
       "    </tr>\n",
       "    <tr>\n",
       "      <th>4</th>\n",
       "      <td>M4N</td>\n",
       "      <td>Central Toronto</td>\n",
       "      <td>Lawrence Park</td>\n",
       "      <td>43.728020</td>\n",
       "      <td>-79.388790</td>\n",
       "    </tr>\n",
       "  </tbody>\n",
       "</table>\n",
       "</div>"
      ],
      "text/plain": [
       "  PostalCode          Borough                    Neighborhood   Latitude  \\\n",
       "0        M4E     East Toronto                     The Beaches  43.676357   \n",
       "1        M4K     East Toronto    The Danforth West, Riverdale  43.679557   \n",
       "2        M4L     East Toronto  The Beaches West, India Bazaar  43.668999   \n",
       "3        M4M     East Toronto                 Studio District  43.659526   \n",
       "4        M4N  Central Toronto                   Lawrence Park  43.728020   \n",
       "\n",
       "   Longitude  \n",
       "0 -79.293031  \n",
       "1 -79.352188  \n",
       "2 -79.315572  \n",
       "3 -79.340923  \n",
       "4 -79.388790  "
      ]
     },
     "execution_count": 14,
     "metadata": {},
     "output_type": "execute_result"
    }
   ],
   "source": [
    "#using only \"Borough\" containing word \"Toronto\" \n",
    "df4=df3[df3['Borough'].str.contains('Toronto')]\n",
    "df5=df4.reset_index(drop=True)\n",
    "df5.head()"
   ]
  },
  {
   "cell_type": "code",
   "execution_count": 15,
   "metadata": {},
   "outputs": [
    {
     "data": {
      "text/plain": [
       "(38, 5)"
      ]
     },
     "execution_count": 15,
     "metadata": {},
     "output_type": "execute_result"
    }
   ],
   "source": [
    "df5.shape"
   ]
  },
  {
   "cell_type": "code",
   "execution_count": null,
   "metadata": {},
   "outputs": [],
   "source": []
  },
  {
   "cell_type": "code",
   "execution_count": 16,
   "metadata": {},
   "outputs": [
    {
     "data": {
      "text/plain": [
       "Downtown Toronto    18\n",
       "Central Toronto      9\n",
       "West Toronto         6\n",
       "East Toronto         5\n",
       "Name: Borough, dtype: int64"
      ]
     },
     "execution_count": 16,
     "metadata": {},
     "output_type": "execute_result"
    }
   ],
   "source": [
    "# reading different values of Borough \n",
    "df5['Borough'].value_counts()"
   ]
  },
  {
   "cell_type": "code",
   "execution_count": null,
   "metadata": {},
   "outputs": [],
   "source": []
  },
  {
   "cell_type": "code",
   "execution_count": 17,
   "metadata": {},
   "outputs": [
    {
     "data": {
      "text/html": [
       "<div>\n",
       "<style scoped>\n",
       "    .dataframe tbody tr th:only-of-type {\n",
       "        vertical-align: middle;\n",
       "    }\n",
       "\n",
       "    .dataframe tbody tr th {\n",
       "        vertical-align: top;\n",
       "    }\n",
       "\n",
       "    .dataframe thead th {\n",
       "        text-align: right;\n",
       "    }\n",
       "</style>\n",
       "<table border=\"1\" class=\"dataframe\">\n",
       "  <thead>\n",
       "    <tr style=\"text-align: right;\">\n",
       "      <th></th>\n",
       "      <th>PostalCode</th>\n",
       "      <th>Borough</th>\n",
       "      <th>Neighborhood</th>\n",
       "      <th>Latitude</th>\n",
       "      <th>Longitude</th>\n",
       "      <th>Label</th>\n",
       "    </tr>\n",
       "  </thead>\n",
       "  <tbody>\n",
       "    <tr>\n",
       "      <th>0</th>\n",
       "      <td>M4E</td>\n",
       "      <td>East Toronto</td>\n",
       "      <td>The Beaches</td>\n",
       "      <td>43.676357</td>\n",
       "      <td>-79.293031</td>\n",
       "      <td>4</td>\n",
       "    </tr>\n",
       "    <tr>\n",
       "      <th>1</th>\n",
       "      <td>M4K</td>\n",
       "      <td>East Toronto</td>\n",
       "      <td>The Danforth West, Riverdale</td>\n",
       "      <td>43.679557</td>\n",
       "      <td>-79.352188</td>\n",
       "      <td>4</td>\n",
       "    </tr>\n",
       "    <tr>\n",
       "      <th>2</th>\n",
       "      <td>M4L</td>\n",
       "      <td>East Toronto</td>\n",
       "      <td>The Beaches West, India Bazaar</td>\n",
       "      <td>43.668999</td>\n",
       "      <td>-79.315572</td>\n",
       "      <td>4</td>\n",
       "    </tr>\n",
       "    <tr>\n",
       "      <th>3</th>\n",
       "      <td>M4M</td>\n",
       "      <td>East Toronto</td>\n",
       "      <td>Studio District</td>\n",
       "      <td>43.659526</td>\n",
       "      <td>-79.340923</td>\n",
       "      <td>4</td>\n",
       "    </tr>\n",
       "    <tr>\n",
       "      <th>4</th>\n",
       "      <td>M4N</td>\n",
       "      <td>Central Toronto</td>\n",
       "      <td>Lawrence Park</td>\n",
       "      <td>43.728020</td>\n",
       "      <td>-79.388790</td>\n",
       "      <td>2</td>\n",
       "    </tr>\n",
       "  </tbody>\n",
       "</table>\n",
       "</div>"
      ],
      "text/plain": [
       "  PostalCode          Borough                    Neighborhood   Latitude  \\\n",
       "0        M4E     East Toronto                     The Beaches  43.676357   \n",
       "1        M4K     East Toronto    The Danforth West, Riverdale  43.679557   \n",
       "2        M4L     East Toronto  The Beaches West, India Bazaar  43.668999   \n",
       "3        M4M     East Toronto                 Studio District  43.659526   \n",
       "4        M4N  Central Toronto                   Lawrence Park  43.728020   \n",
       "\n",
       "   Longitude  Label  \n",
       "0 -79.293031      4  \n",
       "1 -79.352188      4  \n",
       "2 -79.315572      4  \n",
       "3 -79.340923      4  \n",
       "4 -79.388790      2  "
      ]
     },
     "execution_count": 17,
     "metadata": {},
     "output_type": "execute_result"
    }
   ],
   "source": [
    "# Create a new column as Label and get the date from 'Borough' as integer\n",
    "df5['Label']=df5['Borough'].replace(to_replace=['Downtown Toronto','Central Toronto','West Toronto','East Toronto'],value=[1,2,3,4],inplace=False)\n",
    "df5.head()"
   ]
  },
  {
   "cell_type": "markdown",
   "metadata": {},
   "source": [
    "### Visualizing data"
   ]
  },
  {
   "cell_type": "code",
   "execution_count": 18,
   "metadata": {},
   "outputs": [
    {
     "name": "stdout",
     "output_type": "stream",
     "text": [
      "The geographical coordinates of Toronto are 43.6534817, -79.3839347.\n"
     ]
    }
   ],
   "source": [
    "address = 'Toronto'\n",
    "geolocator = Nominatim(user_agent=\"toronto_explorer\")\n",
    "location = geolocator.geocode(address)\n",
    "latitude = location.latitude\n",
    "longitude = location.longitude\n",
    "print(f'The geographical coordinates of Toronto are {latitude}, {longitude}.')"
   ]
  },
  {
   "cell_type": "markdown",
   "metadata": {},
   "source": [
    "### Creating cluster Map of the city "
   ]
  },
  {
   "cell_type": "code",
   "execution_count": 19,
   "metadata": {},
   "outputs": [],
   "source": [
    "#for set the cluster number as label number\n",
    "kclusters=len(df5.Label.unique())\n",
    "\n",
    "# create map\n",
    "map_toronto = folium.Map(location=[latitude, longitude], zoom_start=11)\n",
    "\n",
    "# set color scheme for the clusters\n",
    "x = np.arange(kclusters)\n",
    "ys = [i + x + (i*x)**2 for i in range(kclusters)]\n",
    "colors_array = cm.rainbow(np.linspace(0, 1, len(ys)))\n",
    "rainbow = [colors.rgb2hex(i) for i in colors_array]\n",
    "\n",
    "# add markers to the map\n",
    "markers_colors = []\n",
    "for lat, lon, cluster in zip(df5['Latitude'], df5['Longitude'], df5['Label']):\n",
    "    label = folium.Popup(str(df5['Borough']) + ' Cluster ' + str(cluster), parse_html=True)\n",
    "    folium.CircleMarker(\n",
    "        [lat, lon],\n",
    "        radius=5,\n",
    "        popup=label,\n",
    "        color=rainbow[cluster-1],\n",
    "        fill=True,\n",
    "        fill_color=rainbow[cluster-1],\n",
    "        fill_opacity=0.7).add_to(map_toronto)"
   ]
  },
  {
   "cell_type": "markdown",
   "metadata": {},
   "source": [
    "Display Toronto neighborhood's map with clusters"
   ]
  },
  {
   "cell_type": "code",
   "execution_count": null,
   "metadata": {
    "scrolled": true
   },
   "outputs": [],
   "source": []
  },
  {
   "cell_type": "code",
   "execution_count": 20,
   "metadata": {},
   "outputs": [
    {
     "data": {
      "text/html": [
       "<div style=\"width:100%;\"><div style=\"position:relative;width:100%;height:0;padding-bottom:60%;\"><span style=\"color:#565656\">Make this Notebook Trusted to load map: File -> Trust Notebook</span><iframe src=\"about:blank\" style=\"position:absolute;width:100%;height:100%;left:0;top:0;border:none !important;\" data-html=%3C%21DOCTYPE%20html%3E%0A%3Chead%3E%20%20%20%20%0A%20%20%20%20%3Cmeta%20http-equiv%3D%22content-type%22%20content%3D%22text/html%3B%20charset%3DUTF-8%22%20/%3E%0A%20%20%20%20%0A%20%20%20%20%20%20%20%20%3Cscript%3E%0A%20%20%20%20%20%20%20%20%20%20%20%20L_NO_TOUCH%20%3D%20false%3B%0A%20%20%20%20%20%20%20%20%20%20%20%20L_DISABLE_3D%20%3D%20false%3B%0A%20%20%20%20%20%20%20%20%3C/script%3E%0A%20%20%20%20%0A%20%20%20%20%3Cstyle%3Ehtml%2C%20body%20%7Bwidth%3A%20100%25%3Bheight%3A%20100%25%3Bmargin%3A%200%3Bpadding%3A%200%3B%7D%3C/style%3E%0A%20%20%20%20%3Cstyle%3E%23map%20%7Bposition%3Aabsolute%3Btop%3A0%3Bbottom%3A0%3Bright%3A0%3Bleft%3A0%3B%7D%3C/style%3E%0A%20%20%20%20%3Cscript%20src%3D%22https%3A//cdn.jsdelivr.net/npm/leaflet%401.6.0/dist/leaflet.js%22%3E%3C/script%3E%0A%20%20%20%20%3Cscript%20src%3D%22https%3A//code.jquery.com/jquery-1.12.4.min.js%22%3E%3C/script%3E%0A%20%20%20%20%3Cscript%20src%3D%22https%3A//maxcdn.bootstrapcdn.com/bootstrap/3.2.0/js/bootstrap.min.js%22%3E%3C/script%3E%0A%20%20%20%20%3Cscript%20src%3D%22https%3A//cdnjs.cloudflare.com/ajax/libs/Leaflet.awesome-markers/2.0.2/leaflet.awesome-markers.js%22%3E%3C/script%3E%0A%20%20%20%20%3Clink%20rel%3D%22stylesheet%22%20href%3D%22https%3A//cdn.jsdelivr.net/npm/leaflet%401.6.0/dist/leaflet.css%22/%3E%0A%20%20%20%20%3Clink%20rel%3D%22stylesheet%22%20href%3D%22https%3A//maxcdn.bootstrapcdn.com/bootstrap/3.2.0/css/bootstrap.min.css%22/%3E%0A%20%20%20%20%3Clink%20rel%3D%22stylesheet%22%20href%3D%22https%3A//maxcdn.bootstrapcdn.com/bootstrap/3.2.0/css/bootstrap-theme.min.css%22/%3E%0A%20%20%20%20%3Clink%20rel%3D%22stylesheet%22%20href%3D%22https%3A//maxcdn.bootstrapcdn.com/font-awesome/4.6.3/css/font-awesome.min.css%22/%3E%0A%20%20%20%20%3Clink%20rel%3D%22stylesheet%22%20href%3D%22https%3A//cdnjs.cloudflare.com/ajax/libs/Leaflet.awesome-markers/2.0.2/leaflet.awesome-markers.css%22/%3E%0A%20%20%20%20%3Clink%20rel%3D%22stylesheet%22%20href%3D%22https%3A//cdn.jsdelivr.net/gh/python-visualization/folium/folium/templates/leaflet.awesome.rotate.min.css%22/%3E%0A%20%20%20%20%0A%20%20%20%20%20%20%20%20%20%20%20%20%3Cmeta%20name%3D%22viewport%22%20content%3D%22width%3Ddevice-width%2C%0A%20%20%20%20%20%20%20%20%20%20%20%20%20%20%20%20initial-scale%3D1.0%2C%20maximum-scale%3D1.0%2C%20user-scalable%3Dno%22%20/%3E%0A%20%20%20%20%20%20%20%20%20%20%20%20%3Cstyle%3E%0A%20%20%20%20%20%20%20%20%20%20%20%20%20%20%20%20%23map_de5b9ea3f44742b4ab10e6c52d81254e%20%7B%0A%20%20%20%20%20%20%20%20%20%20%20%20%20%20%20%20%20%20%20%20position%3A%20relative%3B%0A%20%20%20%20%20%20%20%20%20%20%20%20%20%20%20%20%20%20%20%20width%3A%20100.0%25%3B%0A%20%20%20%20%20%20%20%20%20%20%20%20%20%20%20%20%20%20%20%20height%3A%20100.0%25%3B%0A%20%20%20%20%20%20%20%20%20%20%20%20%20%20%20%20%20%20%20%20left%3A%200.0%25%3B%0A%20%20%20%20%20%20%20%20%20%20%20%20%20%20%20%20%20%20%20%20top%3A%200.0%25%3B%0A%20%20%20%20%20%20%20%20%20%20%20%20%20%20%20%20%7D%0A%20%20%20%20%20%20%20%20%20%20%20%20%3C/style%3E%0A%20%20%20%20%20%20%20%20%0A%3C/head%3E%0A%3Cbody%3E%20%20%20%20%0A%20%20%20%20%0A%20%20%20%20%20%20%20%20%20%20%20%20%3Cdiv%20class%3D%22folium-map%22%20id%3D%22map_de5b9ea3f44742b4ab10e6c52d81254e%22%20%3E%3C/div%3E%0A%20%20%20%20%20%20%20%20%0A%3C/body%3E%0A%3Cscript%3E%20%20%20%20%0A%20%20%20%20%0A%20%20%20%20%20%20%20%20%20%20%20%20var%20map_de5b9ea3f44742b4ab10e6c52d81254e%20%3D%20L.map%28%0A%20%20%20%20%20%20%20%20%20%20%20%20%20%20%20%20%22map_de5b9ea3f44742b4ab10e6c52d81254e%22%2C%0A%20%20%20%20%20%20%20%20%20%20%20%20%20%20%20%20%7B%0A%20%20%20%20%20%20%20%20%20%20%20%20%20%20%20%20%20%20%20%20center%3A%20%5B43.6534817%2C%20-79.3839347%5D%2C%0A%20%20%20%20%20%20%20%20%20%20%20%20%20%20%20%20%20%20%20%20crs%3A%20L.CRS.EPSG3857%2C%0A%20%20%20%20%20%20%20%20%20%20%20%20%20%20%20%20%20%20%20%20zoom%3A%2011%2C%0A%20%20%20%20%20%20%20%20%20%20%20%20%20%20%20%20%20%20%20%20zoomControl%3A%20true%2C%0A%20%20%20%20%20%20%20%20%20%20%20%20%20%20%20%20%20%20%20%20preferCanvas%3A%20false%2C%0A%20%20%20%20%20%20%20%20%20%20%20%20%20%20%20%20%7D%0A%20%20%20%20%20%20%20%20%20%20%20%20%29%3B%0A%0A%20%20%20%20%20%20%20%20%20%20%20%20%0A%0A%20%20%20%20%20%20%20%20%0A%20%20%20%20%0A%20%20%20%20%20%20%20%20%20%20%20%20var%20tile_layer_b5e6efc9b1b54a20a8ebfab455d81c00%20%3D%20L.tileLayer%28%0A%20%20%20%20%20%20%20%20%20%20%20%20%20%20%20%20%22https%3A//%7Bs%7D.tile.openstreetmap.org/%7Bz%7D/%7Bx%7D/%7By%7D.png%22%2C%0A%20%20%20%20%20%20%20%20%20%20%20%20%20%20%20%20%7B%22attribution%22%3A%20%22Data%20by%20%5Cu0026copy%3B%20%5Cu003ca%20href%3D%5C%22http%3A//openstreetmap.org%5C%22%5Cu003eOpenStreetMap%5Cu003c/a%5Cu003e%2C%20under%20%5Cu003ca%20href%3D%5C%22http%3A//www.openstreetmap.org/copyright%5C%22%5Cu003eODbL%5Cu003c/a%5Cu003e.%22%2C%20%22detectRetina%22%3A%20false%2C%20%22maxNativeZoom%22%3A%2018%2C%20%22maxZoom%22%3A%2018%2C%20%22minZoom%22%3A%200%2C%20%22noWrap%22%3A%20false%2C%20%22opacity%22%3A%201%2C%20%22subdomains%22%3A%20%22abc%22%2C%20%22tms%22%3A%20false%7D%0A%20%20%20%20%20%20%20%20%20%20%20%20%29.addTo%28map_de5b9ea3f44742b4ab10e6c52d81254e%29%3B%0A%20%20%20%20%20%20%20%20%0A%20%20%20%20%0A%20%20%20%20%20%20%20%20%20%20%20%20var%20circle_marker_65fb58d4a38144aebc9901ef7e043e33%20%3D%20L.circleMarker%28%0A%20%20%20%20%20%20%20%20%20%20%20%20%20%20%20%20%5B43.6763574%2C%20-79.2930312%5D%2C%0A%20%20%20%20%20%20%20%20%20%20%20%20%20%20%20%20%7B%22bubblingMouseEvents%22%3A%20true%2C%20%22color%22%3A%20%22%23ff0000%22%2C%20%22dashArray%22%3A%20null%2C%20%22dashOffset%22%3A%20null%2C%20%22fill%22%3A%20true%2C%20%22fillColor%22%3A%20%22%23ff0000%22%2C%20%22fillOpacity%22%3A%200.7%2C%20%22fillRule%22%3A%20%22evenodd%22%2C%20%22lineCap%22%3A%20%22round%22%2C%20%22lineJoin%22%3A%20%22round%22%2C%20%22opacity%22%3A%201.0%2C%20%22radius%22%3A%205%2C%20%22stroke%22%3A%20true%2C%20%22weight%22%3A%203%7D%0A%20%20%20%20%20%20%20%20%20%20%20%20%29.addTo%28map_de5b9ea3f44742b4ab10e6c52d81254e%29%3B%0A%20%20%20%20%20%20%20%20%0A%20%20%20%20%0A%20%20%20%20%20%20%20%20var%20popup_70c2ef48e27c4d3badb22a2f8a6ae7f6%20%3D%20L.popup%28%7B%22maxWidth%22%3A%20%22100%25%22%7D%29%3B%0A%0A%20%20%20%20%20%20%20%20%0A%20%20%20%20%20%20%20%20%20%20%20%20var%20html_fc03dc3ad565465faf81e59e580ce9d7%20%3D%20%24%28%60%3Cdiv%20id%3D%22html_fc03dc3ad565465faf81e59e580ce9d7%22%20style%3D%22width%3A%20100.0%25%3B%20height%3A%20100.0%25%3B%22%3E0%20%20%20%20%20%20%20%20%20East%20Toronto%201%20%20%20%20%20%20%20%20%20East%20Toronto%202%20%20%20%20%20%20%20%20%20East%20Toronto%203%20%20%20%20%20%20%20%20%20East%20Toronto%204%20%20%20%20%20%20Central%20Toronto%205%20%20%20%20%20%20Central%20Toronto%206%20%20%20%20%20%20Central%20Toronto%207%20%20%20%20%20%20Central%20Toronto%208%20%20%20%20%20%20Central%20Toronto%209%20%20%20%20%20%20Central%20Toronto%2010%20%20%20%20Downtown%20Toronto%2011%20%20%20%20Downtown%20Toronto%2012%20%20%20%20Downtown%20Toronto%2013%20%20%20%20Downtown%20Toronto%2014%20%20%20%20Downtown%20Toronto%2015%20%20%20%20Downtown%20Toronto%2016%20%20%20%20Downtown%20Toronto%2017%20%20%20%20Downtown%20Toronto%2018%20%20%20%20Downtown%20Toronto%2019%20%20%20%20Downtown%20Toronto%2020%20%20%20%20Downtown%20Toronto%2021%20%20%20%20Downtown%20Toronto%2022%20%20%20%20%20Central%20Toronto%2023%20%20%20%20%20Central%20Toronto%2024%20%20%20%20%20Central%20Toronto%2025%20%20%20%20Downtown%20Toronto%2026%20%20%20%20Downtown%20Toronto%2027%20%20%20%20Downtown%20Toronto%2028%20%20%20%20Downtown%20Toronto%2029%20%20%20%20Downtown%20Toronto%2030%20%20%20%20Downtown%20Toronto%2031%20%20%20%20%20%20%20%20West%20Toronto%2032%20%20%20%20%20%20%20%20West%20Toronto%2033%20%20%20%20%20%20%20%20West%20Toronto%2034%20%20%20%20%20%20%20%20West%20Toronto%2035%20%20%20%20%20%20%20%20West%20Toronto%2036%20%20%20%20%20%20%20%20West%20Toronto%2037%20%20%20%20%20%20%20%20East%20Toronto%20Name%3A%20Borough%2C%20dtype%3A%20object%20Cluster%204%3C/div%3E%60%29%5B0%5D%3B%0A%20%20%20%20%20%20%20%20%20%20%20%20popup_70c2ef48e27c4d3badb22a2f8a6ae7f6.setContent%28html_fc03dc3ad565465faf81e59e580ce9d7%29%3B%0A%20%20%20%20%20%20%20%20%0A%0A%20%20%20%20%20%20%20%20circle_marker_65fb58d4a38144aebc9901ef7e043e33.bindPopup%28popup_70c2ef48e27c4d3badb22a2f8a6ae7f6%29%0A%20%20%20%20%20%20%20%20%3B%0A%0A%20%20%20%20%20%20%20%20%0A%20%20%20%20%0A%20%20%20%20%0A%20%20%20%20%20%20%20%20%20%20%20%20var%20circle_marker_89acfd96f816496b898a3e4d3bf70dd8%20%3D%20L.circleMarker%28%0A%20%20%20%20%20%20%20%20%20%20%20%20%20%20%20%20%5B43.6795571%2C%20-79.352188%5D%2C%0A%20%20%20%20%20%20%20%20%20%20%20%20%20%20%20%20%7B%22bubblingMouseEvents%22%3A%20true%2C%20%22color%22%3A%20%22%23ff0000%22%2C%20%22dashArray%22%3A%20null%2C%20%22dashOffset%22%3A%20null%2C%20%22fill%22%3A%20true%2C%20%22fillColor%22%3A%20%22%23ff0000%22%2C%20%22fillOpacity%22%3A%200.7%2C%20%22fillRule%22%3A%20%22evenodd%22%2C%20%22lineCap%22%3A%20%22round%22%2C%20%22lineJoin%22%3A%20%22round%22%2C%20%22opacity%22%3A%201.0%2C%20%22radius%22%3A%205%2C%20%22stroke%22%3A%20true%2C%20%22weight%22%3A%203%7D%0A%20%20%20%20%20%20%20%20%20%20%20%20%29.addTo%28map_de5b9ea3f44742b4ab10e6c52d81254e%29%3B%0A%20%20%20%20%20%20%20%20%0A%20%20%20%20%0A%20%20%20%20%20%20%20%20var%20popup_fdd0ec91d68a4a2ca32f24bb630a2de8%20%3D%20L.popup%28%7B%22maxWidth%22%3A%20%22100%25%22%7D%29%3B%0A%0A%20%20%20%20%20%20%20%20%0A%20%20%20%20%20%20%20%20%20%20%20%20var%20html_a03b49270e6c483c9135a523f9c00fa3%20%3D%20%24%28%60%3Cdiv%20id%3D%22html_a03b49270e6c483c9135a523f9c00fa3%22%20style%3D%22width%3A%20100.0%25%3B%20height%3A%20100.0%25%3B%22%3E0%20%20%20%20%20%20%20%20%20East%20Toronto%201%20%20%20%20%20%20%20%20%20East%20Toronto%202%20%20%20%20%20%20%20%20%20East%20Toronto%203%20%20%20%20%20%20%20%20%20East%20Toronto%204%20%20%20%20%20%20Central%20Toronto%205%20%20%20%20%20%20Central%20Toronto%206%20%20%20%20%20%20Central%20Toronto%207%20%20%20%20%20%20Central%20Toronto%208%20%20%20%20%20%20Central%20Toronto%209%20%20%20%20%20%20Central%20Toronto%2010%20%20%20%20Downtown%20Toronto%2011%20%20%20%20Downtown%20Toronto%2012%20%20%20%20Downtown%20Toronto%2013%20%20%20%20Downtown%20Toronto%2014%20%20%20%20Downtown%20Toronto%2015%20%20%20%20Downtown%20Toronto%2016%20%20%20%20Downtown%20Toronto%2017%20%20%20%20Downtown%20Toronto%2018%20%20%20%20Downtown%20Toronto%2019%20%20%20%20Downtown%20Toronto%2020%20%20%20%20Downtown%20Toronto%2021%20%20%20%20Downtown%20Toronto%2022%20%20%20%20%20Central%20Toronto%2023%20%20%20%20%20Central%20Toronto%2024%20%20%20%20%20Central%20Toronto%2025%20%20%20%20Downtown%20Toronto%2026%20%20%20%20Downtown%20Toronto%2027%20%20%20%20Downtown%20Toronto%2028%20%20%20%20Downtown%20Toronto%2029%20%20%20%20Downtown%20Toronto%2030%20%20%20%20Downtown%20Toronto%2031%20%20%20%20%20%20%20%20West%20Toronto%2032%20%20%20%20%20%20%20%20West%20Toronto%2033%20%20%20%20%20%20%20%20West%20Toronto%2034%20%20%20%20%20%20%20%20West%20Toronto%2035%20%20%20%20%20%20%20%20West%20Toronto%2036%20%20%20%20%20%20%20%20West%20Toronto%2037%20%20%20%20%20%20%20%20East%20Toronto%20Name%3A%20Borough%2C%20dtype%3A%20object%20Cluster%204%3C/div%3E%60%29%5B0%5D%3B%0A%20%20%20%20%20%20%20%20%20%20%20%20popup_fdd0ec91d68a4a2ca32f24bb630a2de8.setContent%28html_a03b49270e6c483c9135a523f9c00fa3%29%3B%0A%20%20%20%20%20%20%20%20%0A%0A%20%20%20%20%20%20%20%20circle_marker_89acfd96f816496b898a3e4d3bf70dd8.bindPopup%28popup_fdd0ec91d68a4a2ca32f24bb630a2de8%29%0A%20%20%20%20%20%20%20%20%3B%0A%0A%20%20%20%20%20%20%20%20%0A%20%20%20%20%0A%20%20%20%20%0A%20%20%20%20%20%20%20%20%20%20%20%20var%20circle_marker_ba6e374385a34679a0072eba6b7820c0%20%3D%20L.circleMarker%28%0A%20%20%20%20%20%20%20%20%20%20%20%20%20%20%20%20%5B43.6689985%2C%20-79.3155716%5D%2C%0A%20%20%20%20%20%20%20%20%20%20%20%20%20%20%20%20%7B%22bubblingMouseEvents%22%3A%20true%2C%20%22color%22%3A%20%22%23ff0000%22%2C%20%22dashArray%22%3A%20null%2C%20%22dashOffset%22%3A%20null%2C%20%22fill%22%3A%20true%2C%20%22fillColor%22%3A%20%22%23ff0000%22%2C%20%22fillOpacity%22%3A%200.7%2C%20%22fillRule%22%3A%20%22evenodd%22%2C%20%22lineCap%22%3A%20%22round%22%2C%20%22lineJoin%22%3A%20%22round%22%2C%20%22opacity%22%3A%201.0%2C%20%22radius%22%3A%205%2C%20%22stroke%22%3A%20true%2C%20%22weight%22%3A%203%7D%0A%20%20%20%20%20%20%20%20%20%20%20%20%29.addTo%28map_de5b9ea3f44742b4ab10e6c52d81254e%29%3B%0A%20%20%20%20%20%20%20%20%0A%20%20%20%20%0A%20%20%20%20%20%20%20%20var%20popup_2b2407b32ecc40548f8a996db3afb9ea%20%3D%20L.popup%28%7B%22maxWidth%22%3A%20%22100%25%22%7D%29%3B%0A%0A%20%20%20%20%20%20%20%20%0A%20%20%20%20%20%20%20%20%20%20%20%20var%20html_dad0778e8c33453c9611fc429369ebb4%20%3D%20%24%28%60%3Cdiv%20id%3D%22html_dad0778e8c33453c9611fc429369ebb4%22%20style%3D%22width%3A%20100.0%25%3B%20height%3A%20100.0%25%3B%22%3E0%20%20%20%20%20%20%20%20%20East%20Toronto%201%20%20%20%20%20%20%20%20%20East%20Toronto%202%20%20%20%20%20%20%20%20%20East%20Toronto%203%20%20%20%20%20%20%20%20%20East%20Toronto%204%20%20%20%20%20%20Central%20Toronto%205%20%20%20%20%20%20Central%20Toronto%206%20%20%20%20%20%20Central%20Toronto%207%20%20%20%20%20%20Central%20Toronto%208%20%20%20%20%20%20Central%20Toronto%209%20%20%20%20%20%20Central%20Toronto%2010%20%20%20%20Downtown%20Toronto%2011%20%20%20%20Downtown%20Toronto%2012%20%20%20%20Downtown%20Toronto%2013%20%20%20%20Downtown%20Toronto%2014%20%20%20%20Downtown%20Toronto%2015%20%20%20%20Downtown%20Toronto%2016%20%20%20%20Downtown%20Toronto%2017%20%20%20%20Downtown%20Toronto%2018%20%20%20%20Downtown%20Toronto%2019%20%20%20%20Downtown%20Toronto%2020%20%20%20%20Downtown%20Toronto%2021%20%20%20%20Downtown%20Toronto%2022%20%20%20%20%20Central%20Toronto%2023%20%20%20%20%20Central%20Toronto%2024%20%20%20%20%20Central%20Toronto%2025%20%20%20%20Downtown%20Toronto%2026%20%20%20%20Downtown%20Toronto%2027%20%20%20%20Downtown%20Toronto%2028%20%20%20%20Downtown%20Toronto%2029%20%20%20%20Downtown%20Toronto%2030%20%20%20%20Downtown%20Toronto%2031%20%20%20%20%20%20%20%20West%20Toronto%2032%20%20%20%20%20%20%20%20West%20Toronto%2033%20%20%20%20%20%20%20%20West%20Toronto%2034%20%20%20%20%20%20%20%20West%20Toronto%2035%20%20%20%20%20%20%20%20West%20Toronto%2036%20%20%20%20%20%20%20%20West%20Toronto%2037%20%20%20%20%20%20%20%20East%20Toronto%20Name%3A%20Borough%2C%20dtype%3A%20object%20Cluster%204%3C/div%3E%60%29%5B0%5D%3B%0A%20%20%20%20%20%20%20%20%20%20%20%20popup_2b2407b32ecc40548f8a996db3afb9ea.setContent%28html_dad0778e8c33453c9611fc429369ebb4%29%3B%0A%20%20%20%20%20%20%20%20%0A%0A%20%20%20%20%20%20%20%20circle_marker_ba6e374385a34679a0072eba6b7820c0.bindPopup%28popup_2b2407b32ecc40548f8a996db3afb9ea%29%0A%20%20%20%20%20%20%20%20%3B%0A%0A%20%20%20%20%20%20%20%20%0A%20%20%20%20%0A%20%20%20%20%0A%20%20%20%20%20%20%20%20%20%20%20%20var%20circle_marker_19a22ed9445a412e8dc6a3d95056829e%20%3D%20L.circleMarker%28%0A%20%20%20%20%20%20%20%20%20%20%20%20%20%20%20%20%5B43.6595255%2C%20-79.340923%5D%2C%0A%20%20%20%20%20%20%20%20%20%20%20%20%20%20%20%20%7B%22bubblingMouseEvents%22%3A%20true%2C%20%22color%22%3A%20%22%23ff0000%22%2C%20%22dashArray%22%3A%20null%2C%20%22dashOffset%22%3A%20null%2C%20%22fill%22%3A%20true%2C%20%22fillColor%22%3A%20%22%23ff0000%22%2C%20%22fillOpacity%22%3A%200.7%2C%20%22fillRule%22%3A%20%22evenodd%22%2C%20%22lineCap%22%3A%20%22round%22%2C%20%22lineJoin%22%3A%20%22round%22%2C%20%22opacity%22%3A%201.0%2C%20%22radius%22%3A%205%2C%20%22stroke%22%3A%20true%2C%20%22weight%22%3A%203%7D%0A%20%20%20%20%20%20%20%20%20%20%20%20%29.addTo%28map_de5b9ea3f44742b4ab10e6c52d81254e%29%3B%0A%20%20%20%20%20%20%20%20%0A%20%20%20%20%0A%20%20%20%20%20%20%20%20var%20popup_91c747763db04f57a8485ac7d976bcec%20%3D%20L.popup%28%7B%22maxWidth%22%3A%20%22100%25%22%7D%29%3B%0A%0A%20%20%20%20%20%20%20%20%0A%20%20%20%20%20%20%20%20%20%20%20%20var%20html_37f5c57517b64fb8b93d8129e622bc64%20%3D%20%24%28%60%3Cdiv%20id%3D%22html_37f5c57517b64fb8b93d8129e622bc64%22%20style%3D%22width%3A%20100.0%25%3B%20height%3A%20100.0%25%3B%22%3E0%20%20%20%20%20%20%20%20%20East%20Toronto%201%20%20%20%20%20%20%20%20%20East%20Toronto%202%20%20%20%20%20%20%20%20%20East%20Toronto%203%20%20%20%20%20%20%20%20%20East%20Toronto%204%20%20%20%20%20%20Central%20Toronto%205%20%20%20%20%20%20Central%20Toronto%206%20%20%20%20%20%20Central%20Toronto%207%20%20%20%20%20%20Central%20Toronto%208%20%20%20%20%20%20Central%20Toronto%209%20%20%20%20%20%20Central%20Toronto%2010%20%20%20%20Downtown%20Toronto%2011%20%20%20%20Downtown%20Toronto%2012%20%20%20%20Downtown%20Toronto%2013%20%20%20%20Downtown%20Toronto%2014%20%20%20%20Downtown%20Toronto%2015%20%20%20%20Downtown%20Toronto%2016%20%20%20%20Downtown%20Toronto%2017%20%20%20%20Downtown%20Toronto%2018%20%20%20%20Downtown%20Toronto%2019%20%20%20%20Downtown%20Toronto%2020%20%20%20%20Downtown%20Toronto%2021%20%20%20%20Downtown%20Toronto%2022%20%20%20%20%20Central%20Toronto%2023%20%20%20%20%20Central%20Toronto%2024%20%20%20%20%20Central%20Toronto%2025%20%20%20%20Downtown%20Toronto%2026%20%20%20%20Downtown%20Toronto%2027%20%20%20%20Downtown%20Toronto%2028%20%20%20%20Downtown%20Toronto%2029%20%20%20%20Downtown%20Toronto%2030%20%20%20%20Downtown%20Toronto%2031%20%20%20%20%20%20%20%20West%20Toronto%2032%20%20%20%20%20%20%20%20West%20Toronto%2033%20%20%20%20%20%20%20%20West%20Toronto%2034%20%20%20%20%20%20%20%20West%20Toronto%2035%20%20%20%20%20%20%20%20West%20Toronto%2036%20%20%20%20%20%20%20%20West%20Toronto%2037%20%20%20%20%20%20%20%20East%20Toronto%20Name%3A%20Borough%2C%20dtype%3A%20object%20Cluster%204%3C/div%3E%60%29%5B0%5D%3B%0A%20%20%20%20%20%20%20%20%20%20%20%20popup_91c747763db04f57a8485ac7d976bcec.setContent%28html_37f5c57517b64fb8b93d8129e622bc64%29%3B%0A%20%20%20%20%20%20%20%20%0A%0A%20%20%20%20%20%20%20%20circle_marker_19a22ed9445a412e8dc6a3d95056829e.bindPopup%28popup_91c747763db04f57a8485ac7d976bcec%29%0A%20%20%20%20%20%20%20%20%3B%0A%0A%20%20%20%20%20%20%20%20%0A%20%20%20%20%0A%20%20%20%20%0A%20%20%20%20%20%20%20%20%20%20%20%20var%20circle_marker_663d64840d3e40d2820a4c90381d36e0%20%3D%20L.circleMarker%28%0A%20%20%20%20%20%20%20%20%20%20%20%20%20%20%20%20%5B43.7280205%2C%20-79.3887901%5D%2C%0A%20%20%20%20%20%20%20%20%20%20%20%20%20%20%20%20%7B%22bubblingMouseEvents%22%3A%20true%2C%20%22color%22%3A%20%22%232adddd%22%2C%20%22dashArray%22%3A%20null%2C%20%22dashOffset%22%3A%20null%2C%20%22fill%22%3A%20true%2C%20%22fillColor%22%3A%20%22%232adddd%22%2C%20%22fillOpacity%22%3A%200.7%2C%20%22fillRule%22%3A%20%22evenodd%22%2C%20%22lineCap%22%3A%20%22round%22%2C%20%22lineJoin%22%3A%20%22round%22%2C%20%22opacity%22%3A%201.0%2C%20%22radius%22%3A%205%2C%20%22stroke%22%3A%20true%2C%20%22weight%22%3A%203%7D%0A%20%20%20%20%20%20%20%20%20%20%20%20%29.addTo%28map_de5b9ea3f44742b4ab10e6c52d81254e%29%3B%0A%20%20%20%20%20%20%20%20%0A%20%20%20%20%0A%20%20%20%20%20%20%20%20var%20popup_d9dc4291060d4233b47547faf6680f2e%20%3D%20L.popup%28%7B%22maxWidth%22%3A%20%22100%25%22%7D%29%3B%0A%0A%20%20%20%20%20%20%20%20%0A%20%20%20%20%20%20%20%20%20%20%20%20var%20html_4b3496e9706d417da4aa94bf6af3bc9f%20%3D%20%24%28%60%3Cdiv%20id%3D%22html_4b3496e9706d417da4aa94bf6af3bc9f%22%20style%3D%22width%3A%20100.0%25%3B%20height%3A%20100.0%25%3B%22%3E0%20%20%20%20%20%20%20%20%20East%20Toronto%201%20%20%20%20%20%20%20%20%20East%20Toronto%202%20%20%20%20%20%20%20%20%20East%20Toronto%203%20%20%20%20%20%20%20%20%20East%20Toronto%204%20%20%20%20%20%20Central%20Toronto%205%20%20%20%20%20%20Central%20Toronto%206%20%20%20%20%20%20Central%20Toronto%207%20%20%20%20%20%20Central%20Toronto%208%20%20%20%20%20%20Central%20Toronto%209%20%20%20%20%20%20Central%20Toronto%2010%20%20%20%20Downtown%20Toronto%2011%20%20%20%20Downtown%20Toronto%2012%20%20%20%20Downtown%20Toronto%2013%20%20%20%20Downtown%20Toronto%2014%20%20%20%20Downtown%20Toronto%2015%20%20%20%20Downtown%20Toronto%2016%20%20%20%20Downtown%20Toronto%2017%20%20%20%20Downtown%20Toronto%2018%20%20%20%20Downtown%20Toronto%2019%20%20%20%20Downtown%20Toronto%2020%20%20%20%20Downtown%20Toronto%2021%20%20%20%20Downtown%20Toronto%2022%20%20%20%20%20Central%20Toronto%2023%20%20%20%20%20Central%20Toronto%2024%20%20%20%20%20Central%20Toronto%2025%20%20%20%20Downtown%20Toronto%2026%20%20%20%20Downtown%20Toronto%2027%20%20%20%20Downtown%20Toronto%2028%20%20%20%20Downtown%20Toronto%2029%20%20%20%20Downtown%20Toronto%2030%20%20%20%20Downtown%20Toronto%2031%20%20%20%20%20%20%20%20West%20Toronto%2032%20%20%20%20%20%20%20%20West%20Toronto%2033%20%20%20%20%20%20%20%20West%20Toronto%2034%20%20%20%20%20%20%20%20West%20Toronto%2035%20%20%20%20%20%20%20%20West%20Toronto%2036%20%20%20%20%20%20%20%20West%20Toronto%2037%20%20%20%20%20%20%20%20East%20Toronto%20Name%3A%20Borough%2C%20dtype%3A%20object%20Cluster%202%3C/div%3E%60%29%5B0%5D%3B%0A%20%20%20%20%20%20%20%20%20%20%20%20popup_d9dc4291060d4233b47547faf6680f2e.setContent%28html_4b3496e9706d417da4aa94bf6af3bc9f%29%3B%0A%20%20%20%20%20%20%20%20%0A%0A%20%20%20%20%20%20%20%20circle_marker_663d64840d3e40d2820a4c90381d36e0.bindPopup%28popup_d9dc4291060d4233b47547faf6680f2e%29%0A%20%20%20%20%20%20%20%20%3B%0A%0A%20%20%20%20%20%20%20%20%0A%20%20%20%20%0A%20%20%20%20%0A%20%20%20%20%20%20%20%20%20%20%20%20var%20circle_marker_7cfef8853fdd4c59ae92fdaa7f5aee7c%20%3D%20L.circleMarker%28%0A%20%20%20%20%20%20%20%20%20%20%20%20%20%20%20%20%5B43.7127511%2C%20-79.3901975%5D%2C%0A%20%20%20%20%20%20%20%20%20%20%20%20%20%20%20%20%7B%22bubblingMouseEvents%22%3A%20true%2C%20%22color%22%3A%20%22%232adddd%22%2C%20%22dashArray%22%3A%20null%2C%20%22dashOffset%22%3A%20null%2C%20%22fill%22%3A%20true%2C%20%22fillColor%22%3A%20%22%232adddd%22%2C%20%22fillOpacity%22%3A%200.7%2C%20%22fillRule%22%3A%20%22evenodd%22%2C%20%22lineCap%22%3A%20%22round%22%2C%20%22lineJoin%22%3A%20%22round%22%2C%20%22opacity%22%3A%201.0%2C%20%22radius%22%3A%205%2C%20%22stroke%22%3A%20true%2C%20%22weight%22%3A%203%7D%0A%20%20%20%20%20%20%20%20%20%20%20%20%29.addTo%28map_de5b9ea3f44742b4ab10e6c52d81254e%29%3B%0A%20%20%20%20%20%20%20%20%0A%20%20%20%20%0A%20%20%20%20%20%20%20%20var%20popup_73267e92c4984a80ab8d0755508cdf26%20%3D%20L.popup%28%7B%22maxWidth%22%3A%20%22100%25%22%7D%29%3B%0A%0A%20%20%20%20%20%20%20%20%0A%20%20%20%20%20%20%20%20%20%20%20%20var%20html_304b70f5a0044b46997a68de72c54e6e%20%3D%20%24%28%60%3Cdiv%20id%3D%22html_304b70f5a0044b46997a68de72c54e6e%22%20style%3D%22width%3A%20100.0%25%3B%20height%3A%20100.0%25%3B%22%3E0%20%20%20%20%20%20%20%20%20East%20Toronto%201%20%20%20%20%20%20%20%20%20East%20Toronto%202%20%20%20%20%20%20%20%20%20East%20Toronto%203%20%20%20%20%20%20%20%20%20East%20Toronto%204%20%20%20%20%20%20Central%20Toronto%205%20%20%20%20%20%20Central%20Toronto%206%20%20%20%20%20%20Central%20Toronto%207%20%20%20%20%20%20Central%20Toronto%208%20%20%20%20%20%20Central%20Toronto%209%20%20%20%20%20%20Central%20Toronto%2010%20%20%20%20Downtown%20Toronto%2011%20%20%20%20Downtown%20Toronto%2012%20%20%20%20Downtown%20Toronto%2013%20%20%20%20Downtown%20Toronto%2014%20%20%20%20Downtown%20Toronto%2015%20%20%20%20Downtown%20Toronto%2016%20%20%20%20Downtown%20Toronto%2017%20%20%20%20Downtown%20Toronto%2018%20%20%20%20Downtown%20Toronto%2019%20%20%20%20Downtown%20Toronto%2020%20%20%20%20Downtown%20Toronto%2021%20%20%20%20Downtown%20Toronto%2022%20%20%20%20%20Central%20Toronto%2023%20%20%20%20%20Central%20Toronto%2024%20%20%20%20%20Central%20Toronto%2025%20%20%20%20Downtown%20Toronto%2026%20%20%20%20Downtown%20Toronto%2027%20%20%20%20Downtown%20Toronto%2028%20%20%20%20Downtown%20Toronto%2029%20%20%20%20Downtown%20Toronto%2030%20%20%20%20Downtown%20Toronto%2031%20%20%20%20%20%20%20%20West%20Toronto%2032%20%20%20%20%20%20%20%20West%20Toronto%2033%20%20%20%20%20%20%20%20West%20Toronto%2034%20%20%20%20%20%20%20%20West%20Toronto%2035%20%20%20%20%20%20%20%20West%20Toronto%2036%20%20%20%20%20%20%20%20West%20Toronto%2037%20%20%20%20%20%20%20%20East%20Toronto%20Name%3A%20Borough%2C%20dtype%3A%20object%20Cluster%202%3C/div%3E%60%29%5B0%5D%3B%0A%20%20%20%20%20%20%20%20%20%20%20%20popup_73267e92c4984a80ab8d0755508cdf26.setContent%28html_304b70f5a0044b46997a68de72c54e6e%29%3B%0A%20%20%20%20%20%20%20%20%0A%0A%20%20%20%20%20%20%20%20circle_marker_7cfef8853fdd4c59ae92fdaa7f5aee7c.bindPopup%28popup_73267e92c4984a80ab8d0755508cdf26%29%0A%20%20%20%20%20%20%20%20%3B%0A%0A%20%20%20%20%20%20%20%20%0A%20%20%20%20%0A%20%20%20%20%0A%20%20%20%20%20%20%20%20%20%20%20%20var%20circle_marker_af6875012cb74d8884ab6e01f9c93dee%20%3D%20L.circleMarker%28%0A%20%20%20%20%20%20%20%20%20%20%20%20%20%20%20%20%5B43.7153834%2C%20-79.4056784%5D%2C%0A%20%20%20%20%20%20%20%20%20%20%20%20%20%20%20%20%7B%22bubblingMouseEvents%22%3A%20true%2C%20%22color%22%3A%20%22%232adddd%22%2C%20%22dashArray%22%3A%20null%2C%20%22dashOffset%22%3A%20null%2C%20%22fill%22%3A%20true%2C%20%22fillColor%22%3A%20%22%232adddd%22%2C%20%22fillOpacity%22%3A%200.7%2C%20%22fillRule%22%3A%20%22evenodd%22%2C%20%22lineCap%22%3A%20%22round%22%2C%20%22lineJoin%22%3A%20%22round%22%2C%20%22opacity%22%3A%201.0%2C%20%22radius%22%3A%205%2C%20%22stroke%22%3A%20true%2C%20%22weight%22%3A%203%7D%0A%20%20%20%20%20%20%20%20%20%20%20%20%29.addTo%28map_de5b9ea3f44742b4ab10e6c52d81254e%29%3B%0A%20%20%20%20%20%20%20%20%0A%20%20%20%20%0A%20%20%20%20%20%20%20%20var%20popup_2a4b495a8bec46d7a394a6a09473731f%20%3D%20L.popup%28%7B%22maxWidth%22%3A%20%22100%25%22%7D%29%3B%0A%0A%20%20%20%20%20%20%20%20%0A%20%20%20%20%20%20%20%20%20%20%20%20var%20html_0f34d3937f024cc0b819f6d508c8a1d7%20%3D%20%24%28%60%3Cdiv%20id%3D%22html_0f34d3937f024cc0b819f6d508c8a1d7%22%20style%3D%22width%3A%20100.0%25%3B%20height%3A%20100.0%25%3B%22%3E0%20%20%20%20%20%20%20%20%20East%20Toronto%201%20%20%20%20%20%20%20%20%20East%20Toronto%202%20%20%20%20%20%20%20%20%20East%20Toronto%203%20%20%20%20%20%20%20%20%20East%20Toronto%204%20%20%20%20%20%20Central%20Toronto%205%20%20%20%20%20%20Central%20Toronto%206%20%20%20%20%20%20Central%20Toronto%207%20%20%20%20%20%20Central%20Toronto%208%20%20%20%20%20%20Central%20Toronto%209%20%20%20%20%20%20Central%20Toronto%2010%20%20%20%20Downtown%20Toronto%2011%20%20%20%20Downtown%20Toronto%2012%20%20%20%20Downtown%20Toronto%2013%20%20%20%20Downtown%20Toronto%2014%20%20%20%20Downtown%20Toronto%2015%20%20%20%20Downtown%20Toronto%2016%20%20%20%20Downtown%20Toronto%2017%20%20%20%20Downtown%20Toronto%2018%20%20%20%20Downtown%20Toronto%2019%20%20%20%20Downtown%20Toronto%2020%20%20%20%20Downtown%20Toronto%2021%20%20%20%20Downtown%20Toronto%2022%20%20%20%20%20Central%20Toronto%2023%20%20%20%20%20Central%20Toronto%2024%20%20%20%20%20Central%20Toronto%2025%20%20%20%20Downtown%20Toronto%2026%20%20%20%20Downtown%20Toronto%2027%20%20%20%20Downtown%20Toronto%2028%20%20%20%20Downtown%20Toronto%2029%20%20%20%20Downtown%20Toronto%2030%20%20%20%20Downtown%20Toronto%2031%20%20%20%20%20%20%20%20West%20Toronto%2032%20%20%20%20%20%20%20%20West%20Toronto%2033%20%20%20%20%20%20%20%20West%20Toronto%2034%20%20%20%20%20%20%20%20West%20Toronto%2035%20%20%20%20%20%20%20%20West%20Toronto%2036%20%20%20%20%20%20%20%20West%20Toronto%2037%20%20%20%20%20%20%20%20East%20Toronto%20Name%3A%20Borough%2C%20dtype%3A%20object%20Cluster%202%3C/div%3E%60%29%5B0%5D%3B%0A%20%20%20%20%20%20%20%20%20%20%20%20popup_2a4b495a8bec46d7a394a6a09473731f.setContent%28html_0f34d3937f024cc0b819f6d508c8a1d7%29%3B%0A%20%20%20%20%20%20%20%20%0A%0A%20%20%20%20%20%20%20%20circle_marker_af6875012cb74d8884ab6e01f9c93dee.bindPopup%28popup_2a4b495a8bec46d7a394a6a09473731f%29%0A%20%20%20%20%20%20%20%20%3B%0A%0A%20%20%20%20%20%20%20%20%0A%20%20%20%20%0A%20%20%20%20%0A%20%20%20%20%20%20%20%20%20%20%20%20var%20circle_marker_b27a2071de06452dbf0b6edf3669fe49%20%3D%20L.circleMarker%28%0A%20%20%20%20%20%20%20%20%20%20%20%20%20%20%20%20%5B43.7043244%2C%20-79.3887901%5D%2C%0A%20%20%20%20%20%20%20%20%20%20%20%20%20%20%20%20%7B%22bubblingMouseEvents%22%3A%20true%2C%20%22color%22%3A%20%22%232adddd%22%2C%20%22dashArray%22%3A%20null%2C%20%22dashOffset%22%3A%20null%2C%20%22fill%22%3A%20true%2C%20%22fillColor%22%3A%20%22%232adddd%22%2C%20%22fillOpacity%22%3A%200.7%2C%20%22fillRule%22%3A%20%22evenodd%22%2C%20%22lineCap%22%3A%20%22round%22%2C%20%22lineJoin%22%3A%20%22round%22%2C%20%22opacity%22%3A%201.0%2C%20%22radius%22%3A%205%2C%20%22stroke%22%3A%20true%2C%20%22weight%22%3A%203%7D%0A%20%20%20%20%20%20%20%20%20%20%20%20%29.addTo%28map_de5b9ea3f44742b4ab10e6c52d81254e%29%3B%0A%20%20%20%20%20%20%20%20%0A%20%20%20%20%0A%20%20%20%20%20%20%20%20var%20popup_7e786f1146504c77a59d7725ebc8651c%20%3D%20L.popup%28%7B%22maxWidth%22%3A%20%22100%25%22%7D%29%3B%0A%0A%20%20%20%20%20%20%20%20%0A%20%20%20%20%20%20%20%20%20%20%20%20var%20html_35cad907e6d5484090d4889252755093%20%3D%20%24%28%60%3Cdiv%20id%3D%22html_35cad907e6d5484090d4889252755093%22%20style%3D%22width%3A%20100.0%25%3B%20height%3A%20100.0%25%3B%22%3E0%20%20%20%20%20%20%20%20%20East%20Toronto%201%20%20%20%20%20%20%20%20%20East%20Toronto%202%20%20%20%20%20%20%20%20%20East%20Toronto%203%20%20%20%20%20%20%20%20%20East%20Toronto%204%20%20%20%20%20%20Central%20Toronto%205%20%20%20%20%20%20Central%20Toronto%206%20%20%20%20%20%20Central%20Toronto%207%20%20%20%20%20%20Central%20Toronto%208%20%20%20%20%20%20Central%20Toronto%209%20%20%20%20%20%20Central%20Toronto%2010%20%20%20%20Downtown%20Toronto%2011%20%20%20%20Downtown%20Toronto%2012%20%20%20%20Downtown%20Toronto%2013%20%20%20%20Downtown%20Toronto%2014%20%20%20%20Downtown%20Toronto%2015%20%20%20%20Downtown%20Toronto%2016%20%20%20%20Downtown%20Toronto%2017%20%20%20%20Downtown%20Toronto%2018%20%20%20%20Downtown%20Toronto%2019%20%20%20%20Downtown%20Toronto%2020%20%20%20%20Downtown%20Toronto%2021%20%20%20%20Downtown%20Toronto%2022%20%20%20%20%20Central%20Toronto%2023%20%20%20%20%20Central%20Toronto%2024%20%20%20%20%20Central%20Toronto%2025%20%20%20%20Downtown%20Toronto%2026%20%20%20%20Downtown%20Toronto%2027%20%20%20%20Downtown%20Toronto%2028%20%20%20%20Downtown%20Toronto%2029%20%20%20%20Downtown%20Toronto%2030%20%20%20%20Downtown%20Toronto%2031%20%20%20%20%20%20%20%20West%20Toronto%2032%20%20%20%20%20%20%20%20West%20Toronto%2033%20%20%20%20%20%20%20%20West%20Toronto%2034%20%20%20%20%20%20%20%20West%20Toronto%2035%20%20%20%20%20%20%20%20West%20Toronto%2036%20%20%20%20%20%20%20%20West%20Toronto%2037%20%20%20%20%20%20%20%20East%20Toronto%20Name%3A%20Borough%2C%20dtype%3A%20object%20Cluster%202%3C/div%3E%60%29%5B0%5D%3B%0A%20%20%20%20%20%20%20%20%20%20%20%20popup_7e786f1146504c77a59d7725ebc8651c.setContent%28html_35cad907e6d5484090d4889252755093%29%3B%0A%20%20%20%20%20%20%20%20%0A%0A%20%20%20%20%20%20%20%20circle_marker_b27a2071de06452dbf0b6edf3669fe49.bindPopup%28popup_7e786f1146504c77a59d7725ebc8651c%29%0A%20%20%20%20%20%20%20%20%3B%0A%0A%20%20%20%20%20%20%20%20%0A%20%20%20%20%0A%20%20%20%20%0A%20%20%20%20%20%20%20%20%20%20%20%20var%20circle_marker_1f563ace98394c549933a84c00891043%20%3D%20L.circleMarker%28%0A%20%20%20%20%20%20%20%20%20%20%20%20%20%20%20%20%5B43.6895743%2C%20-79.3831599%5D%2C%0A%20%20%20%20%20%20%20%20%20%20%20%20%20%20%20%20%7B%22bubblingMouseEvents%22%3A%20true%2C%20%22color%22%3A%20%22%232adddd%22%2C%20%22dashArray%22%3A%20null%2C%20%22dashOffset%22%3A%20null%2C%20%22fill%22%3A%20true%2C%20%22fillColor%22%3A%20%22%232adddd%22%2C%20%22fillOpacity%22%3A%200.7%2C%20%22fillRule%22%3A%20%22evenodd%22%2C%20%22lineCap%22%3A%20%22round%22%2C%20%22lineJoin%22%3A%20%22round%22%2C%20%22opacity%22%3A%201.0%2C%20%22radius%22%3A%205%2C%20%22stroke%22%3A%20true%2C%20%22weight%22%3A%203%7D%0A%20%20%20%20%20%20%20%20%20%20%20%20%29.addTo%28map_de5b9ea3f44742b4ab10e6c52d81254e%29%3B%0A%20%20%20%20%20%20%20%20%0A%20%20%20%20%0A%20%20%20%20%20%20%20%20var%20popup_7e5dd08326e548e9b817e5ebe901df7c%20%3D%20L.popup%28%7B%22maxWidth%22%3A%20%22100%25%22%7D%29%3B%0A%0A%20%20%20%20%20%20%20%20%0A%20%20%20%20%20%20%20%20%20%20%20%20var%20html_55d254f4f4244dcfa27285e16d2a92a9%20%3D%20%24%28%60%3Cdiv%20id%3D%22html_55d254f4f4244dcfa27285e16d2a92a9%22%20style%3D%22width%3A%20100.0%25%3B%20height%3A%20100.0%25%3B%22%3E0%20%20%20%20%20%20%20%20%20East%20Toronto%201%20%20%20%20%20%20%20%20%20East%20Toronto%202%20%20%20%20%20%20%20%20%20East%20Toronto%203%20%20%20%20%20%20%20%20%20East%20Toronto%204%20%20%20%20%20%20Central%20Toronto%205%20%20%20%20%20%20Central%20Toronto%206%20%20%20%20%20%20Central%20Toronto%207%20%20%20%20%20%20Central%20Toronto%208%20%20%20%20%20%20Central%20Toronto%209%20%20%20%20%20%20Central%20Toronto%2010%20%20%20%20Downtown%20Toronto%2011%20%20%20%20Downtown%20Toronto%2012%20%20%20%20Downtown%20Toronto%2013%20%20%20%20Downtown%20Toronto%2014%20%20%20%20Downtown%20Toronto%2015%20%20%20%20Downtown%20Toronto%2016%20%20%20%20Downtown%20Toronto%2017%20%20%20%20Downtown%20Toronto%2018%20%20%20%20Downtown%20Toronto%2019%20%20%20%20Downtown%20Toronto%2020%20%20%20%20Downtown%20Toronto%2021%20%20%20%20Downtown%20Toronto%2022%20%20%20%20%20Central%20Toronto%2023%20%20%20%20%20Central%20Toronto%2024%20%20%20%20%20Central%20Toronto%2025%20%20%20%20Downtown%20Toronto%2026%20%20%20%20Downtown%20Toronto%2027%20%20%20%20Downtown%20Toronto%2028%20%20%20%20Downtown%20Toronto%2029%20%20%20%20Downtown%20Toronto%2030%20%20%20%20Downtown%20Toronto%2031%20%20%20%20%20%20%20%20West%20Toronto%2032%20%20%20%20%20%20%20%20West%20Toronto%2033%20%20%20%20%20%20%20%20West%20Toronto%2034%20%20%20%20%20%20%20%20West%20Toronto%2035%20%20%20%20%20%20%20%20West%20Toronto%2036%20%20%20%20%20%20%20%20West%20Toronto%2037%20%20%20%20%20%20%20%20East%20Toronto%20Name%3A%20Borough%2C%20dtype%3A%20object%20Cluster%202%3C/div%3E%60%29%5B0%5D%3B%0A%20%20%20%20%20%20%20%20%20%20%20%20popup_7e5dd08326e548e9b817e5ebe901df7c.setContent%28html_55d254f4f4244dcfa27285e16d2a92a9%29%3B%0A%20%20%20%20%20%20%20%20%0A%0A%20%20%20%20%20%20%20%20circle_marker_1f563ace98394c549933a84c00891043.bindPopup%28popup_7e5dd08326e548e9b817e5ebe901df7c%29%0A%20%20%20%20%20%20%20%20%3B%0A%0A%20%20%20%20%20%20%20%20%0A%20%20%20%20%0A%20%20%20%20%0A%20%20%20%20%20%20%20%20%20%20%20%20var%20circle_marker_9293b469bb97464b94b3446e6020f806%20%3D%20L.circleMarker%28%0A%20%20%20%20%20%20%20%20%20%20%20%20%20%20%20%20%5B43.6864123%2C%20-79.4000493%5D%2C%0A%20%20%20%20%20%20%20%20%20%20%20%20%20%20%20%20%7B%22bubblingMouseEvents%22%3A%20true%2C%20%22color%22%3A%20%22%232adddd%22%2C%20%22dashArray%22%3A%20null%2C%20%22dashOffset%22%3A%20null%2C%20%22fill%22%3A%20true%2C%20%22fillColor%22%3A%20%22%232adddd%22%2C%20%22fillOpacity%22%3A%200.7%2C%20%22fillRule%22%3A%20%22evenodd%22%2C%20%22lineCap%22%3A%20%22round%22%2C%20%22lineJoin%22%3A%20%22round%22%2C%20%22opacity%22%3A%201.0%2C%20%22radius%22%3A%205%2C%20%22stroke%22%3A%20true%2C%20%22weight%22%3A%203%7D%0A%20%20%20%20%20%20%20%20%20%20%20%20%29.addTo%28map_de5b9ea3f44742b4ab10e6c52d81254e%29%3B%0A%20%20%20%20%20%20%20%20%0A%20%20%20%20%0A%20%20%20%20%20%20%20%20var%20popup_fca64ec849f24252bb32ef6b9e1b6dff%20%3D%20L.popup%28%7B%22maxWidth%22%3A%20%22100%25%22%7D%29%3B%0A%0A%20%20%20%20%20%20%20%20%0A%20%20%20%20%20%20%20%20%20%20%20%20var%20html_b692364bcdf14e5185f14f147c5aa94f%20%3D%20%24%28%60%3Cdiv%20id%3D%22html_b692364bcdf14e5185f14f147c5aa94f%22%20style%3D%22width%3A%20100.0%25%3B%20height%3A%20100.0%25%3B%22%3E0%20%20%20%20%20%20%20%20%20East%20Toronto%201%20%20%20%20%20%20%20%20%20East%20Toronto%202%20%20%20%20%20%20%20%20%20East%20Toronto%203%20%20%20%20%20%20%20%20%20East%20Toronto%204%20%20%20%20%20%20Central%20Toronto%205%20%20%20%20%20%20Central%20Toronto%206%20%20%20%20%20%20Central%20Toronto%207%20%20%20%20%20%20Central%20Toronto%208%20%20%20%20%20%20Central%20Toronto%209%20%20%20%20%20%20Central%20Toronto%2010%20%20%20%20Downtown%20Toronto%2011%20%20%20%20Downtown%20Toronto%2012%20%20%20%20Downtown%20Toronto%2013%20%20%20%20Downtown%20Toronto%2014%20%20%20%20Downtown%20Toronto%2015%20%20%20%20Downtown%20Toronto%2016%20%20%20%20Downtown%20Toronto%2017%20%20%20%20Downtown%20Toronto%2018%20%20%20%20Downtown%20Toronto%2019%20%20%20%20Downtown%20Toronto%2020%20%20%20%20Downtown%20Toronto%2021%20%20%20%20Downtown%20Toronto%2022%20%20%20%20%20Central%20Toronto%2023%20%20%20%20%20Central%20Toronto%2024%20%20%20%20%20Central%20Toronto%2025%20%20%20%20Downtown%20Toronto%2026%20%20%20%20Downtown%20Toronto%2027%20%20%20%20Downtown%20Toronto%2028%20%20%20%20Downtown%20Toronto%2029%20%20%20%20Downtown%20Toronto%2030%20%20%20%20Downtown%20Toronto%2031%20%20%20%20%20%20%20%20West%20Toronto%2032%20%20%20%20%20%20%20%20West%20Toronto%2033%20%20%20%20%20%20%20%20West%20Toronto%2034%20%20%20%20%20%20%20%20West%20Toronto%2035%20%20%20%20%20%20%20%20West%20Toronto%2036%20%20%20%20%20%20%20%20West%20Toronto%2037%20%20%20%20%20%20%20%20East%20Toronto%20Name%3A%20Borough%2C%20dtype%3A%20object%20Cluster%202%3C/div%3E%60%29%5B0%5D%3B%0A%20%20%20%20%20%20%20%20%20%20%20%20popup_fca64ec849f24252bb32ef6b9e1b6dff.setContent%28html_b692364bcdf14e5185f14f147c5aa94f%29%3B%0A%20%20%20%20%20%20%20%20%0A%0A%20%20%20%20%20%20%20%20circle_marker_9293b469bb97464b94b3446e6020f806.bindPopup%28popup_fca64ec849f24252bb32ef6b9e1b6dff%29%0A%20%20%20%20%20%20%20%20%3B%0A%0A%20%20%20%20%20%20%20%20%0A%20%20%20%20%0A%20%20%20%20%0A%20%20%20%20%20%20%20%20%20%20%20%20var%20circle_marker_45371c41dfed4f86a019ec86f01cc95f%20%3D%20L.circleMarker%28%0A%20%20%20%20%20%20%20%20%20%20%20%20%20%20%20%20%5B43.6795626%2C%20-79.3775294%5D%2C%0A%20%20%20%20%20%20%20%20%20%20%20%20%20%20%20%20%7B%22bubblingMouseEvents%22%3A%20true%2C%20%22color%22%3A%20%22%238000ff%22%2C%20%22dashArray%22%3A%20null%2C%20%22dashOffset%22%3A%20null%2C%20%22fill%22%3A%20true%2C%20%22fillColor%22%3A%20%22%238000ff%22%2C%20%22fillOpacity%22%3A%200.7%2C%20%22fillRule%22%3A%20%22evenodd%22%2C%20%22lineCap%22%3A%20%22round%22%2C%20%22lineJoin%22%3A%20%22round%22%2C%20%22opacity%22%3A%201.0%2C%20%22radius%22%3A%205%2C%20%22stroke%22%3A%20true%2C%20%22weight%22%3A%203%7D%0A%20%20%20%20%20%20%20%20%20%20%20%20%29.addTo%28map_de5b9ea3f44742b4ab10e6c52d81254e%29%3B%0A%20%20%20%20%20%20%20%20%0A%20%20%20%20%0A%20%20%20%20%20%20%20%20var%20popup_2abf16076e0046c6b5aefc41561318f8%20%3D%20L.popup%28%7B%22maxWidth%22%3A%20%22100%25%22%7D%29%3B%0A%0A%20%20%20%20%20%20%20%20%0A%20%20%20%20%20%20%20%20%20%20%20%20var%20html_b70d68e38d1148f2ad1074b9acbc85d3%20%3D%20%24%28%60%3Cdiv%20id%3D%22html_b70d68e38d1148f2ad1074b9acbc85d3%22%20style%3D%22width%3A%20100.0%25%3B%20height%3A%20100.0%25%3B%22%3E0%20%20%20%20%20%20%20%20%20East%20Toronto%201%20%20%20%20%20%20%20%20%20East%20Toronto%202%20%20%20%20%20%20%20%20%20East%20Toronto%203%20%20%20%20%20%20%20%20%20East%20Toronto%204%20%20%20%20%20%20Central%20Toronto%205%20%20%20%20%20%20Central%20Toronto%206%20%20%20%20%20%20Central%20Toronto%207%20%20%20%20%20%20Central%20Toronto%208%20%20%20%20%20%20Central%20Toronto%209%20%20%20%20%20%20Central%20Toronto%2010%20%20%20%20Downtown%20Toronto%2011%20%20%20%20Downtown%20Toronto%2012%20%20%20%20Downtown%20Toronto%2013%20%20%20%20Downtown%20Toronto%2014%20%20%20%20Downtown%20Toronto%2015%20%20%20%20Downtown%20Toronto%2016%20%20%20%20Downtown%20Toronto%2017%20%20%20%20Downtown%20Toronto%2018%20%20%20%20Downtown%20Toronto%2019%20%20%20%20Downtown%20Toronto%2020%20%20%20%20Downtown%20Toronto%2021%20%20%20%20Downtown%20Toronto%2022%20%20%20%20%20Central%20Toronto%2023%20%20%20%20%20Central%20Toronto%2024%20%20%20%20%20Central%20Toronto%2025%20%20%20%20Downtown%20Toronto%2026%20%20%20%20Downtown%20Toronto%2027%20%20%20%20Downtown%20Toronto%2028%20%20%20%20Downtown%20Toronto%2029%20%20%20%20Downtown%20Toronto%2030%20%20%20%20Downtown%20Toronto%2031%20%20%20%20%20%20%20%20West%20Toronto%2032%20%20%20%20%20%20%20%20West%20Toronto%2033%20%20%20%20%20%20%20%20West%20Toronto%2034%20%20%20%20%20%20%20%20West%20Toronto%2035%20%20%20%20%20%20%20%20West%20Toronto%2036%20%20%20%20%20%20%20%20West%20Toronto%2037%20%20%20%20%20%20%20%20East%20Toronto%20Name%3A%20Borough%2C%20dtype%3A%20object%20Cluster%201%3C/div%3E%60%29%5B0%5D%3B%0A%20%20%20%20%20%20%20%20%20%20%20%20popup_2abf16076e0046c6b5aefc41561318f8.setContent%28html_b70d68e38d1148f2ad1074b9acbc85d3%29%3B%0A%20%20%20%20%20%20%20%20%0A%0A%20%20%20%20%20%20%20%20circle_marker_45371c41dfed4f86a019ec86f01cc95f.bindPopup%28popup_2abf16076e0046c6b5aefc41561318f8%29%0A%20%20%20%20%20%20%20%20%3B%0A%0A%20%20%20%20%20%20%20%20%0A%20%20%20%20%0A%20%20%20%20%0A%20%20%20%20%20%20%20%20%20%20%20%20var%20circle_marker_acb3fbae4f3c44c48d5d34c851b88aac%20%3D%20L.circleMarker%28%0A%20%20%20%20%20%20%20%20%20%20%20%20%20%20%20%20%5B43.667967%2C%20-79.3676753%5D%2C%0A%20%20%20%20%20%20%20%20%20%20%20%20%20%20%20%20%7B%22bubblingMouseEvents%22%3A%20true%2C%20%22color%22%3A%20%22%238000ff%22%2C%20%22dashArray%22%3A%20null%2C%20%22dashOffset%22%3A%20null%2C%20%22fill%22%3A%20true%2C%20%22fillColor%22%3A%20%22%238000ff%22%2C%20%22fillOpacity%22%3A%200.7%2C%20%22fillRule%22%3A%20%22evenodd%22%2C%20%22lineCap%22%3A%20%22round%22%2C%20%22lineJoin%22%3A%20%22round%22%2C%20%22opacity%22%3A%201.0%2C%20%22radius%22%3A%205%2C%20%22stroke%22%3A%20true%2C%20%22weight%22%3A%203%7D%0A%20%20%20%20%20%20%20%20%20%20%20%20%29.addTo%28map_de5b9ea3f44742b4ab10e6c52d81254e%29%3B%0A%20%20%20%20%20%20%20%20%0A%20%20%20%20%0A%20%20%20%20%20%20%20%20var%20popup_7351548430a848d4a6539143513e5877%20%3D%20L.popup%28%7B%22maxWidth%22%3A%20%22100%25%22%7D%29%3B%0A%0A%20%20%20%20%20%20%20%20%0A%20%20%20%20%20%20%20%20%20%20%20%20var%20html_fd91958bcbef4331bd44da12a9c98d04%20%3D%20%24%28%60%3Cdiv%20id%3D%22html_fd91958bcbef4331bd44da12a9c98d04%22%20style%3D%22width%3A%20100.0%25%3B%20height%3A%20100.0%25%3B%22%3E0%20%20%20%20%20%20%20%20%20East%20Toronto%201%20%20%20%20%20%20%20%20%20East%20Toronto%202%20%20%20%20%20%20%20%20%20East%20Toronto%203%20%20%20%20%20%20%20%20%20East%20Toronto%204%20%20%20%20%20%20Central%20Toronto%205%20%20%20%20%20%20Central%20Toronto%206%20%20%20%20%20%20Central%20Toronto%207%20%20%20%20%20%20Central%20Toronto%208%20%20%20%20%20%20Central%20Toronto%209%20%20%20%20%20%20Central%20Toronto%2010%20%20%20%20Downtown%20Toronto%2011%20%20%20%20Downtown%20Toronto%2012%20%20%20%20Downtown%20Toronto%2013%20%20%20%20Downtown%20Toronto%2014%20%20%20%20Downtown%20Toronto%2015%20%20%20%20Downtown%20Toronto%2016%20%20%20%20Downtown%20Toronto%2017%20%20%20%20Downtown%20Toronto%2018%20%20%20%20Downtown%20Toronto%2019%20%20%20%20Downtown%20Toronto%2020%20%20%20%20Downtown%20Toronto%2021%20%20%20%20Downtown%20Toronto%2022%20%20%20%20%20Central%20Toronto%2023%20%20%20%20%20Central%20Toronto%2024%20%20%20%20%20Central%20Toronto%2025%20%20%20%20Downtown%20Toronto%2026%20%20%20%20Downtown%20Toronto%2027%20%20%20%20Downtown%20Toronto%2028%20%20%20%20Downtown%20Toronto%2029%20%20%20%20Downtown%20Toronto%2030%20%20%20%20Downtown%20Toronto%2031%20%20%20%20%20%20%20%20West%20Toronto%2032%20%20%20%20%20%20%20%20West%20Toronto%2033%20%20%20%20%20%20%20%20West%20Toronto%2034%20%20%20%20%20%20%20%20West%20Toronto%2035%20%20%20%20%20%20%20%20West%20Toronto%2036%20%20%20%20%20%20%20%20West%20Toronto%2037%20%20%20%20%20%20%20%20East%20Toronto%20Name%3A%20Borough%2C%20dtype%3A%20object%20Cluster%201%3C/div%3E%60%29%5B0%5D%3B%0A%20%20%20%20%20%20%20%20%20%20%20%20popup_7351548430a848d4a6539143513e5877.setContent%28html_fd91958bcbef4331bd44da12a9c98d04%29%3B%0A%20%20%20%20%20%20%20%20%0A%0A%20%20%20%20%20%20%20%20circle_marker_acb3fbae4f3c44c48d5d34c851b88aac.bindPopup%28popup_7351548430a848d4a6539143513e5877%29%0A%20%20%20%20%20%20%20%20%3B%0A%0A%20%20%20%20%20%20%20%20%0A%20%20%20%20%0A%20%20%20%20%0A%20%20%20%20%20%20%20%20%20%20%20%20var%20circle_marker_af3ab5e279d7491d94eadc5c6db16886%20%3D%20L.circleMarker%28%0A%20%20%20%20%20%20%20%20%20%20%20%20%20%20%20%20%5B43.6658599%2C%20-79.3831599%5D%2C%0A%20%20%20%20%20%20%20%20%20%20%20%20%20%20%20%20%7B%22bubblingMouseEvents%22%3A%20true%2C%20%22color%22%3A%20%22%238000ff%22%2C%20%22dashArray%22%3A%20null%2C%20%22dashOffset%22%3A%20null%2C%20%22fill%22%3A%20true%2C%20%22fillColor%22%3A%20%22%238000ff%22%2C%20%22fillOpacity%22%3A%200.7%2C%20%22fillRule%22%3A%20%22evenodd%22%2C%20%22lineCap%22%3A%20%22round%22%2C%20%22lineJoin%22%3A%20%22round%22%2C%20%22opacity%22%3A%201.0%2C%20%22radius%22%3A%205%2C%20%22stroke%22%3A%20true%2C%20%22weight%22%3A%203%7D%0A%20%20%20%20%20%20%20%20%20%20%20%20%29.addTo%28map_de5b9ea3f44742b4ab10e6c52d81254e%29%3B%0A%20%20%20%20%20%20%20%20%0A%20%20%20%20%0A%20%20%20%20%20%20%20%20var%20popup_2b8559a679944de28892f88d21b0bf14%20%3D%20L.popup%28%7B%22maxWidth%22%3A%20%22100%25%22%7D%29%3B%0A%0A%20%20%20%20%20%20%20%20%0A%20%20%20%20%20%20%20%20%20%20%20%20var%20html_a214ccfb289d450d89f98958a3b29e60%20%3D%20%24%28%60%3Cdiv%20id%3D%22html_a214ccfb289d450d89f98958a3b29e60%22%20style%3D%22width%3A%20100.0%25%3B%20height%3A%20100.0%25%3B%22%3E0%20%20%20%20%20%20%20%20%20East%20Toronto%201%20%20%20%20%20%20%20%20%20East%20Toronto%202%20%20%20%20%20%20%20%20%20East%20Toronto%203%20%20%20%20%20%20%20%20%20East%20Toronto%204%20%20%20%20%20%20Central%20Toronto%205%20%20%20%20%20%20Central%20Toronto%206%20%20%20%20%20%20Central%20Toronto%207%20%20%20%20%20%20Central%20Toronto%208%20%20%20%20%20%20Central%20Toronto%209%20%20%20%20%20%20Central%20Toronto%2010%20%20%20%20Downtown%20Toronto%2011%20%20%20%20Downtown%20Toronto%2012%20%20%20%20Downtown%20Toronto%2013%20%20%20%20Downtown%20Toronto%2014%20%20%20%20Downtown%20Toronto%2015%20%20%20%20Downtown%20Toronto%2016%20%20%20%20Downtown%20Toronto%2017%20%20%20%20Downtown%20Toronto%2018%20%20%20%20Downtown%20Toronto%2019%20%20%20%20Downtown%20Toronto%2020%20%20%20%20Downtown%20Toronto%2021%20%20%20%20Downtown%20Toronto%2022%20%20%20%20%20Central%20Toronto%2023%20%20%20%20%20Central%20Toronto%2024%20%20%20%20%20Central%20Toronto%2025%20%20%20%20Downtown%20Toronto%2026%20%20%20%20Downtown%20Toronto%2027%20%20%20%20Downtown%20Toronto%2028%20%20%20%20Downtown%20Toronto%2029%20%20%20%20Downtown%20Toronto%2030%20%20%20%20Downtown%20Toronto%2031%20%20%20%20%20%20%20%20West%20Toronto%2032%20%20%20%20%20%20%20%20West%20Toronto%2033%20%20%20%20%20%20%20%20West%20Toronto%2034%20%20%20%20%20%20%20%20West%20Toronto%2035%20%20%20%20%20%20%20%20West%20Toronto%2036%20%20%20%20%20%20%20%20West%20Toronto%2037%20%20%20%20%20%20%20%20East%20Toronto%20Name%3A%20Borough%2C%20dtype%3A%20object%20Cluster%201%3C/div%3E%60%29%5B0%5D%3B%0A%20%20%20%20%20%20%20%20%20%20%20%20popup_2b8559a679944de28892f88d21b0bf14.setContent%28html_a214ccfb289d450d89f98958a3b29e60%29%3B%0A%20%20%20%20%20%20%20%20%0A%0A%20%20%20%20%20%20%20%20circle_marker_af3ab5e279d7491d94eadc5c6db16886.bindPopup%28popup_2b8559a679944de28892f88d21b0bf14%29%0A%20%20%20%20%20%20%20%20%3B%0A%0A%20%20%20%20%20%20%20%20%0A%20%20%20%20%0A%20%20%20%20%0A%20%20%20%20%20%20%20%20%20%20%20%20var%20circle_marker_346676097c8a4404b5bc0c6ac4c4a0d6%20%3D%20L.circleMarker%28%0A%20%20%20%20%20%20%20%20%20%20%20%20%20%20%20%20%5B43.6542599%2C%20-79.3606359%5D%2C%0A%20%20%20%20%20%20%20%20%20%20%20%20%20%20%20%20%7B%22bubblingMouseEvents%22%3A%20true%2C%20%22color%22%3A%20%22%238000ff%22%2C%20%22dashArray%22%3A%20null%2C%20%22dashOffset%22%3A%20null%2C%20%22fill%22%3A%20true%2C%20%22fillColor%22%3A%20%22%238000ff%22%2C%20%22fillOpacity%22%3A%200.7%2C%20%22fillRule%22%3A%20%22evenodd%22%2C%20%22lineCap%22%3A%20%22round%22%2C%20%22lineJoin%22%3A%20%22round%22%2C%20%22opacity%22%3A%201.0%2C%20%22radius%22%3A%205%2C%20%22stroke%22%3A%20true%2C%20%22weight%22%3A%203%7D%0A%20%20%20%20%20%20%20%20%20%20%20%20%29.addTo%28map_de5b9ea3f44742b4ab10e6c52d81254e%29%3B%0A%20%20%20%20%20%20%20%20%0A%20%20%20%20%0A%20%20%20%20%20%20%20%20var%20popup_813bb10072294988813273f4e6887ec3%20%3D%20L.popup%28%7B%22maxWidth%22%3A%20%22100%25%22%7D%29%3B%0A%0A%20%20%20%20%20%20%20%20%0A%20%20%20%20%20%20%20%20%20%20%20%20var%20html_a4aaaefcf0654b18a81b056e2aadbcd2%20%3D%20%24%28%60%3Cdiv%20id%3D%22html_a4aaaefcf0654b18a81b056e2aadbcd2%22%20style%3D%22width%3A%20100.0%25%3B%20height%3A%20100.0%25%3B%22%3E0%20%20%20%20%20%20%20%20%20East%20Toronto%201%20%20%20%20%20%20%20%20%20East%20Toronto%202%20%20%20%20%20%20%20%20%20East%20Toronto%203%20%20%20%20%20%20%20%20%20East%20Toronto%204%20%20%20%20%20%20Central%20Toronto%205%20%20%20%20%20%20Central%20Toronto%206%20%20%20%20%20%20Central%20Toronto%207%20%20%20%20%20%20Central%20Toronto%208%20%20%20%20%20%20Central%20Toronto%209%20%20%20%20%20%20Central%20Toronto%2010%20%20%20%20Downtown%20Toronto%2011%20%20%20%20Downtown%20Toronto%2012%20%20%20%20Downtown%20Toronto%2013%20%20%20%20Downtown%20Toronto%2014%20%20%20%20Downtown%20Toronto%2015%20%20%20%20Downtown%20Toronto%2016%20%20%20%20Downtown%20Toronto%2017%20%20%20%20Downtown%20Toronto%2018%20%20%20%20Downtown%20Toronto%2019%20%20%20%20Downtown%20Toronto%2020%20%20%20%20Downtown%20Toronto%2021%20%20%20%20Downtown%20Toronto%2022%20%20%20%20%20Central%20Toronto%2023%20%20%20%20%20Central%20Toronto%2024%20%20%20%20%20Central%20Toronto%2025%20%20%20%20Downtown%20Toronto%2026%20%20%20%20Downtown%20Toronto%2027%20%20%20%20Downtown%20Toronto%2028%20%20%20%20Downtown%20Toronto%2029%20%20%20%20Downtown%20Toronto%2030%20%20%20%20Downtown%20Toronto%2031%20%20%20%20%20%20%20%20West%20Toronto%2032%20%20%20%20%20%20%20%20West%20Toronto%2033%20%20%20%20%20%20%20%20West%20Toronto%2034%20%20%20%20%20%20%20%20West%20Toronto%2035%20%20%20%20%20%20%20%20West%20Toronto%2036%20%20%20%20%20%20%20%20West%20Toronto%2037%20%20%20%20%20%20%20%20East%20Toronto%20Name%3A%20Borough%2C%20dtype%3A%20object%20Cluster%201%3C/div%3E%60%29%5B0%5D%3B%0A%20%20%20%20%20%20%20%20%20%20%20%20popup_813bb10072294988813273f4e6887ec3.setContent%28html_a4aaaefcf0654b18a81b056e2aadbcd2%29%3B%0A%20%20%20%20%20%20%20%20%0A%0A%20%20%20%20%20%20%20%20circle_marker_346676097c8a4404b5bc0c6ac4c4a0d6.bindPopup%28popup_813bb10072294988813273f4e6887ec3%29%0A%20%20%20%20%20%20%20%20%3B%0A%0A%20%20%20%20%20%20%20%20%0A%20%20%20%20%0A%20%20%20%20%0A%20%20%20%20%20%20%20%20%20%20%20%20var%20circle_marker_b6bf5c8f52e54e2e806afd0735798b99%20%3D%20L.circleMarker%28%0A%20%20%20%20%20%20%20%20%20%20%20%20%20%20%20%20%5B43.6571618%2C%20-79.3789371%5D%2C%0A%20%20%20%20%20%20%20%20%20%20%20%20%20%20%20%20%7B%22bubblingMouseEvents%22%3A%20true%2C%20%22color%22%3A%20%22%238000ff%22%2C%20%22dashArray%22%3A%20null%2C%20%22dashOffset%22%3A%20null%2C%20%22fill%22%3A%20true%2C%20%22fillColor%22%3A%20%22%238000ff%22%2C%20%22fillOpacity%22%3A%200.7%2C%20%22fillRule%22%3A%20%22evenodd%22%2C%20%22lineCap%22%3A%20%22round%22%2C%20%22lineJoin%22%3A%20%22round%22%2C%20%22opacity%22%3A%201.0%2C%20%22radius%22%3A%205%2C%20%22stroke%22%3A%20true%2C%20%22weight%22%3A%203%7D%0A%20%20%20%20%20%20%20%20%20%20%20%20%29.addTo%28map_de5b9ea3f44742b4ab10e6c52d81254e%29%3B%0A%20%20%20%20%20%20%20%20%0A%20%20%20%20%0A%20%20%20%20%20%20%20%20var%20popup_834f8fd457a54627b7a17aeae56f4fee%20%3D%20L.popup%28%7B%22maxWidth%22%3A%20%22100%25%22%7D%29%3B%0A%0A%20%20%20%20%20%20%20%20%0A%20%20%20%20%20%20%20%20%20%20%20%20var%20html_1a5ad49b7b5f43d0acf6cc3574cb8faf%20%3D%20%24%28%60%3Cdiv%20id%3D%22html_1a5ad49b7b5f43d0acf6cc3574cb8faf%22%20style%3D%22width%3A%20100.0%25%3B%20height%3A%20100.0%25%3B%22%3E0%20%20%20%20%20%20%20%20%20East%20Toronto%201%20%20%20%20%20%20%20%20%20East%20Toronto%202%20%20%20%20%20%20%20%20%20East%20Toronto%203%20%20%20%20%20%20%20%20%20East%20Toronto%204%20%20%20%20%20%20Central%20Toronto%205%20%20%20%20%20%20Central%20Toronto%206%20%20%20%20%20%20Central%20Toronto%207%20%20%20%20%20%20Central%20Toronto%208%20%20%20%20%20%20Central%20Toronto%209%20%20%20%20%20%20Central%20Toronto%2010%20%20%20%20Downtown%20Toronto%2011%20%20%20%20Downtown%20Toronto%2012%20%20%20%20Downtown%20Toronto%2013%20%20%20%20Downtown%20Toronto%2014%20%20%20%20Downtown%20Toronto%2015%20%20%20%20Downtown%20Toronto%2016%20%20%20%20Downtown%20Toronto%2017%20%20%20%20Downtown%20Toronto%2018%20%20%20%20Downtown%20Toronto%2019%20%20%20%20Downtown%20Toronto%2020%20%20%20%20Downtown%20Toronto%2021%20%20%20%20Downtown%20Toronto%2022%20%20%20%20%20Central%20Toronto%2023%20%20%20%20%20Central%20Toronto%2024%20%20%20%20%20Central%20Toronto%2025%20%20%20%20Downtown%20Toronto%2026%20%20%20%20Downtown%20Toronto%2027%20%20%20%20Downtown%20Toronto%2028%20%20%20%20Downtown%20Toronto%2029%20%20%20%20Downtown%20Toronto%2030%20%20%20%20Downtown%20Toronto%2031%20%20%20%20%20%20%20%20West%20Toronto%2032%20%20%20%20%20%20%20%20West%20Toronto%2033%20%20%20%20%20%20%20%20West%20Toronto%2034%20%20%20%20%20%20%20%20West%20Toronto%2035%20%20%20%20%20%20%20%20West%20Toronto%2036%20%20%20%20%20%20%20%20West%20Toronto%2037%20%20%20%20%20%20%20%20East%20Toronto%20Name%3A%20Borough%2C%20dtype%3A%20object%20Cluster%201%3C/div%3E%60%29%5B0%5D%3B%0A%20%20%20%20%20%20%20%20%20%20%20%20popup_834f8fd457a54627b7a17aeae56f4fee.setContent%28html_1a5ad49b7b5f43d0acf6cc3574cb8faf%29%3B%0A%20%20%20%20%20%20%20%20%0A%0A%20%20%20%20%20%20%20%20circle_marker_b6bf5c8f52e54e2e806afd0735798b99.bindPopup%28popup_834f8fd457a54627b7a17aeae56f4fee%29%0A%20%20%20%20%20%20%20%20%3B%0A%0A%20%20%20%20%20%20%20%20%0A%20%20%20%20%0A%20%20%20%20%0A%20%20%20%20%20%20%20%20%20%20%20%20var%20circle_marker_f3be2338ad944664b603bb4b87d88383%20%3D%20L.circleMarker%28%0A%20%20%20%20%20%20%20%20%20%20%20%20%20%20%20%20%5B43.6514939%2C%20-79.3754179%5D%2C%0A%20%20%20%20%20%20%20%20%20%20%20%20%20%20%20%20%7B%22bubblingMouseEvents%22%3A%20true%2C%20%22color%22%3A%20%22%238000ff%22%2C%20%22dashArray%22%3A%20null%2C%20%22dashOffset%22%3A%20null%2C%20%22fill%22%3A%20true%2C%20%22fillColor%22%3A%20%22%238000ff%22%2C%20%22fillOpacity%22%3A%200.7%2C%20%22fillRule%22%3A%20%22evenodd%22%2C%20%22lineCap%22%3A%20%22round%22%2C%20%22lineJoin%22%3A%20%22round%22%2C%20%22opacity%22%3A%201.0%2C%20%22radius%22%3A%205%2C%20%22stroke%22%3A%20true%2C%20%22weight%22%3A%203%7D%0A%20%20%20%20%20%20%20%20%20%20%20%20%29.addTo%28map_de5b9ea3f44742b4ab10e6c52d81254e%29%3B%0A%20%20%20%20%20%20%20%20%0A%20%20%20%20%0A%20%20%20%20%20%20%20%20var%20popup_3cf69b42e855420687b4de09a8af6bb2%20%3D%20L.popup%28%7B%22maxWidth%22%3A%20%22100%25%22%7D%29%3B%0A%0A%20%20%20%20%20%20%20%20%0A%20%20%20%20%20%20%20%20%20%20%20%20var%20html_bf4edfaaec634e29bb7b86f8c3e21c91%20%3D%20%24%28%60%3Cdiv%20id%3D%22html_bf4edfaaec634e29bb7b86f8c3e21c91%22%20style%3D%22width%3A%20100.0%25%3B%20height%3A%20100.0%25%3B%22%3E0%20%20%20%20%20%20%20%20%20East%20Toronto%201%20%20%20%20%20%20%20%20%20East%20Toronto%202%20%20%20%20%20%20%20%20%20East%20Toronto%203%20%20%20%20%20%20%20%20%20East%20Toronto%204%20%20%20%20%20%20Central%20Toronto%205%20%20%20%20%20%20Central%20Toronto%206%20%20%20%20%20%20Central%20Toronto%207%20%20%20%20%20%20Central%20Toronto%208%20%20%20%20%20%20Central%20Toronto%209%20%20%20%20%20%20Central%20Toronto%2010%20%20%20%20Downtown%20Toronto%2011%20%20%20%20Downtown%20Toronto%2012%20%20%20%20Downtown%20Toronto%2013%20%20%20%20Downtown%20Toronto%2014%20%20%20%20Downtown%20Toronto%2015%20%20%20%20Downtown%20Toronto%2016%20%20%20%20Downtown%20Toronto%2017%20%20%20%20Downtown%20Toronto%2018%20%20%20%20Downtown%20Toronto%2019%20%20%20%20Downtown%20Toronto%2020%20%20%20%20Downtown%20Toronto%2021%20%20%20%20Downtown%20Toronto%2022%20%20%20%20%20Central%20Toronto%2023%20%20%20%20%20Central%20Toronto%2024%20%20%20%20%20Central%20Toronto%2025%20%20%20%20Downtown%20Toronto%2026%20%20%20%20Downtown%20Toronto%2027%20%20%20%20Downtown%20Toronto%2028%20%20%20%20Downtown%20Toronto%2029%20%20%20%20Downtown%20Toronto%2030%20%20%20%20Downtown%20Toronto%2031%20%20%20%20%20%20%20%20West%20Toronto%2032%20%20%20%20%20%20%20%20West%20Toronto%2033%20%20%20%20%20%20%20%20West%20Toronto%2034%20%20%20%20%20%20%20%20West%20Toronto%2035%20%20%20%20%20%20%20%20West%20Toronto%2036%20%20%20%20%20%20%20%20West%20Toronto%2037%20%20%20%20%20%20%20%20East%20Toronto%20Name%3A%20Borough%2C%20dtype%3A%20object%20Cluster%201%3C/div%3E%60%29%5B0%5D%3B%0A%20%20%20%20%20%20%20%20%20%20%20%20popup_3cf69b42e855420687b4de09a8af6bb2.setContent%28html_bf4edfaaec634e29bb7b86f8c3e21c91%29%3B%0A%20%20%20%20%20%20%20%20%0A%0A%20%20%20%20%20%20%20%20circle_marker_f3be2338ad944664b603bb4b87d88383.bindPopup%28popup_3cf69b42e855420687b4de09a8af6bb2%29%0A%20%20%20%20%20%20%20%20%3B%0A%0A%20%20%20%20%20%20%20%20%0A%20%20%20%20%0A%20%20%20%20%0A%20%20%20%20%20%20%20%20%20%20%20%20var%20circle_marker_24c1a95ad8444a0bbd094439d8d7666f%20%3D%20L.circleMarker%28%0A%20%20%20%20%20%20%20%20%20%20%20%20%20%20%20%20%5B43.6447708%2C%20-79.3733064%5D%2C%0A%20%20%20%20%20%20%20%20%20%20%20%20%20%20%20%20%7B%22bubblingMouseEvents%22%3A%20true%2C%20%22color%22%3A%20%22%238000ff%22%2C%20%22dashArray%22%3A%20null%2C%20%22dashOffset%22%3A%20null%2C%20%22fill%22%3A%20true%2C%20%22fillColor%22%3A%20%22%238000ff%22%2C%20%22fillOpacity%22%3A%200.7%2C%20%22fillRule%22%3A%20%22evenodd%22%2C%20%22lineCap%22%3A%20%22round%22%2C%20%22lineJoin%22%3A%20%22round%22%2C%20%22opacity%22%3A%201.0%2C%20%22radius%22%3A%205%2C%20%22stroke%22%3A%20true%2C%20%22weight%22%3A%203%7D%0A%20%20%20%20%20%20%20%20%20%20%20%20%29.addTo%28map_de5b9ea3f44742b4ab10e6c52d81254e%29%3B%0A%20%20%20%20%20%20%20%20%0A%20%20%20%20%0A%20%20%20%20%20%20%20%20var%20popup_2100503983a247f3ae3eb0c6fa3b202a%20%3D%20L.popup%28%7B%22maxWidth%22%3A%20%22100%25%22%7D%29%3B%0A%0A%20%20%20%20%20%20%20%20%0A%20%20%20%20%20%20%20%20%20%20%20%20var%20html_775cd936d3124398ad15f0efc2a4618e%20%3D%20%24%28%60%3Cdiv%20id%3D%22html_775cd936d3124398ad15f0efc2a4618e%22%20style%3D%22width%3A%20100.0%25%3B%20height%3A%20100.0%25%3B%22%3E0%20%20%20%20%20%20%20%20%20East%20Toronto%201%20%20%20%20%20%20%20%20%20East%20Toronto%202%20%20%20%20%20%20%20%20%20East%20Toronto%203%20%20%20%20%20%20%20%20%20East%20Toronto%204%20%20%20%20%20%20Central%20Toronto%205%20%20%20%20%20%20Central%20Toronto%206%20%20%20%20%20%20Central%20Toronto%207%20%20%20%20%20%20Central%20Toronto%208%20%20%20%20%20%20Central%20Toronto%209%20%20%20%20%20%20Central%20Toronto%2010%20%20%20%20Downtown%20Toronto%2011%20%20%20%20Downtown%20Toronto%2012%20%20%20%20Downtown%20Toronto%2013%20%20%20%20Downtown%20Toronto%2014%20%20%20%20Downtown%20Toronto%2015%20%20%20%20Downtown%20Toronto%2016%20%20%20%20Downtown%20Toronto%2017%20%20%20%20Downtown%20Toronto%2018%20%20%20%20Downtown%20Toronto%2019%20%20%20%20Downtown%20Toronto%2020%20%20%20%20Downtown%20Toronto%2021%20%20%20%20Downtown%20Toronto%2022%20%20%20%20%20Central%20Toronto%2023%20%20%20%20%20Central%20Toronto%2024%20%20%20%20%20Central%20Toronto%2025%20%20%20%20Downtown%20Toronto%2026%20%20%20%20Downtown%20Toronto%2027%20%20%20%20Downtown%20Toronto%2028%20%20%20%20Downtown%20Toronto%2029%20%20%20%20Downtown%20Toronto%2030%20%20%20%20Downtown%20Toronto%2031%20%20%20%20%20%20%20%20West%20Toronto%2032%20%20%20%20%20%20%20%20West%20Toronto%2033%20%20%20%20%20%20%20%20West%20Toronto%2034%20%20%20%20%20%20%20%20West%20Toronto%2035%20%20%20%20%20%20%20%20West%20Toronto%2036%20%20%20%20%20%20%20%20West%20Toronto%2037%20%20%20%20%20%20%20%20East%20Toronto%20Name%3A%20Borough%2C%20dtype%3A%20object%20Cluster%201%3C/div%3E%60%29%5B0%5D%3B%0A%20%20%20%20%20%20%20%20%20%20%20%20popup_2100503983a247f3ae3eb0c6fa3b202a.setContent%28html_775cd936d3124398ad15f0efc2a4618e%29%3B%0A%20%20%20%20%20%20%20%20%0A%0A%20%20%20%20%20%20%20%20circle_marker_24c1a95ad8444a0bbd094439d8d7666f.bindPopup%28popup_2100503983a247f3ae3eb0c6fa3b202a%29%0A%20%20%20%20%20%20%20%20%3B%0A%0A%20%20%20%20%20%20%20%20%0A%20%20%20%20%0A%20%20%20%20%0A%20%20%20%20%20%20%20%20%20%20%20%20var%20circle_marker_0c8540e2480e4b20b45d75ac5c6285d8%20%3D%20L.circleMarker%28%0A%20%20%20%20%20%20%20%20%20%20%20%20%20%20%20%20%5B43.6579524%2C%20-79.3873826%5D%2C%0A%20%20%20%20%20%20%20%20%20%20%20%20%20%20%20%20%7B%22bubblingMouseEvents%22%3A%20true%2C%20%22color%22%3A%20%22%238000ff%22%2C%20%22dashArray%22%3A%20null%2C%20%22dashOffset%22%3A%20null%2C%20%22fill%22%3A%20true%2C%20%22fillColor%22%3A%20%22%238000ff%22%2C%20%22fillOpacity%22%3A%200.7%2C%20%22fillRule%22%3A%20%22evenodd%22%2C%20%22lineCap%22%3A%20%22round%22%2C%20%22lineJoin%22%3A%20%22round%22%2C%20%22opacity%22%3A%201.0%2C%20%22radius%22%3A%205%2C%20%22stroke%22%3A%20true%2C%20%22weight%22%3A%203%7D%0A%20%20%20%20%20%20%20%20%20%20%20%20%29.addTo%28map_de5b9ea3f44742b4ab10e6c52d81254e%29%3B%0A%20%20%20%20%20%20%20%20%0A%20%20%20%20%0A%20%20%20%20%20%20%20%20var%20popup_0d6fd85c00324276ab7df3fd4b0e9ec2%20%3D%20L.popup%28%7B%22maxWidth%22%3A%20%22100%25%22%7D%29%3B%0A%0A%20%20%20%20%20%20%20%20%0A%20%20%20%20%20%20%20%20%20%20%20%20var%20html_1e6520da76244fb98b4efc87a27af6af%20%3D%20%24%28%60%3Cdiv%20id%3D%22html_1e6520da76244fb98b4efc87a27af6af%22%20style%3D%22width%3A%20100.0%25%3B%20height%3A%20100.0%25%3B%22%3E0%20%20%20%20%20%20%20%20%20East%20Toronto%201%20%20%20%20%20%20%20%20%20East%20Toronto%202%20%20%20%20%20%20%20%20%20East%20Toronto%203%20%20%20%20%20%20%20%20%20East%20Toronto%204%20%20%20%20%20%20Central%20Toronto%205%20%20%20%20%20%20Central%20Toronto%206%20%20%20%20%20%20Central%20Toronto%207%20%20%20%20%20%20Central%20Toronto%208%20%20%20%20%20%20Central%20Toronto%209%20%20%20%20%20%20Central%20Toronto%2010%20%20%20%20Downtown%20Toronto%2011%20%20%20%20Downtown%20Toronto%2012%20%20%20%20Downtown%20Toronto%2013%20%20%20%20Downtown%20Toronto%2014%20%20%20%20Downtown%20Toronto%2015%20%20%20%20Downtown%20Toronto%2016%20%20%20%20Downtown%20Toronto%2017%20%20%20%20Downtown%20Toronto%2018%20%20%20%20Downtown%20Toronto%2019%20%20%20%20Downtown%20Toronto%2020%20%20%20%20Downtown%20Toronto%2021%20%20%20%20Downtown%20Toronto%2022%20%20%20%20%20Central%20Toronto%2023%20%20%20%20%20Central%20Toronto%2024%20%20%20%20%20Central%20Toronto%2025%20%20%20%20Downtown%20Toronto%2026%20%20%20%20Downtown%20Toronto%2027%20%20%20%20Downtown%20Toronto%2028%20%20%20%20Downtown%20Toronto%2029%20%20%20%20Downtown%20Toronto%2030%20%20%20%20Downtown%20Toronto%2031%20%20%20%20%20%20%20%20West%20Toronto%2032%20%20%20%20%20%20%20%20West%20Toronto%2033%20%20%20%20%20%20%20%20West%20Toronto%2034%20%20%20%20%20%20%20%20West%20Toronto%2035%20%20%20%20%20%20%20%20West%20Toronto%2036%20%20%20%20%20%20%20%20West%20Toronto%2037%20%20%20%20%20%20%20%20East%20Toronto%20Name%3A%20Borough%2C%20dtype%3A%20object%20Cluster%201%3C/div%3E%60%29%5B0%5D%3B%0A%20%20%20%20%20%20%20%20%20%20%20%20popup_0d6fd85c00324276ab7df3fd4b0e9ec2.setContent%28html_1e6520da76244fb98b4efc87a27af6af%29%3B%0A%20%20%20%20%20%20%20%20%0A%0A%20%20%20%20%20%20%20%20circle_marker_0c8540e2480e4b20b45d75ac5c6285d8.bindPopup%28popup_0d6fd85c00324276ab7df3fd4b0e9ec2%29%0A%20%20%20%20%20%20%20%20%3B%0A%0A%20%20%20%20%20%20%20%20%0A%20%20%20%20%0A%20%20%20%20%0A%20%20%20%20%20%20%20%20%20%20%20%20var%20circle_marker_eacf0f143ebd4d8bbd611526ce5431fc%20%3D%20L.circleMarker%28%0A%20%20%20%20%20%20%20%20%20%20%20%20%20%20%20%20%5B43.6505712%2C%20-79.3845675%5D%2C%0A%20%20%20%20%20%20%20%20%20%20%20%20%20%20%20%20%7B%22bubblingMouseEvents%22%3A%20true%2C%20%22color%22%3A%20%22%238000ff%22%2C%20%22dashArray%22%3A%20null%2C%20%22dashOffset%22%3A%20null%2C%20%22fill%22%3A%20true%2C%20%22fillColor%22%3A%20%22%238000ff%22%2C%20%22fillOpacity%22%3A%200.7%2C%20%22fillRule%22%3A%20%22evenodd%22%2C%20%22lineCap%22%3A%20%22round%22%2C%20%22lineJoin%22%3A%20%22round%22%2C%20%22opacity%22%3A%201.0%2C%20%22radius%22%3A%205%2C%20%22stroke%22%3A%20true%2C%20%22weight%22%3A%203%7D%0A%20%20%20%20%20%20%20%20%20%20%20%20%29.addTo%28map_de5b9ea3f44742b4ab10e6c52d81254e%29%3B%0A%20%20%20%20%20%20%20%20%0A%20%20%20%20%0A%20%20%20%20%20%20%20%20var%20popup_fe01a725a7a44881b99b637ea699a6c5%20%3D%20L.popup%28%7B%22maxWidth%22%3A%20%22100%25%22%7D%29%3B%0A%0A%20%20%20%20%20%20%20%20%0A%20%20%20%20%20%20%20%20%20%20%20%20var%20html_8d04c673d4a64c5891f275123b76e95b%20%3D%20%24%28%60%3Cdiv%20id%3D%22html_8d04c673d4a64c5891f275123b76e95b%22%20style%3D%22width%3A%20100.0%25%3B%20height%3A%20100.0%25%3B%22%3E0%20%20%20%20%20%20%20%20%20East%20Toronto%201%20%20%20%20%20%20%20%20%20East%20Toronto%202%20%20%20%20%20%20%20%20%20East%20Toronto%203%20%20%20%20%20%20%20%20%20East%20Toronto%204%20%20%20%20%20%20Central%20Toronto%205%20%20%20%20%20%20Central%20Toronto%206%20%20%20%20%20%20Central%20Toronto%207%20%20%20%20%20%20Central%20Toronto%208%20%20%20%20%20%20Central%20Toronto%209%20%20%20%20%20%20Central%20Toronto%2010%20%20%20%20Downtown%20Toronto%2011%20%20%20%20Downtown%20Toronto%2012%20%20%20%20Downtown%20Toronto%2013%20%20%20%20Downtown%20Toronto%2014%20%20%20%20Downtown%20Toronto%2015%20%20%20%20Downtown%20Toronto%2016%20%20%20%20Downtown%20Toronto%2017%20%20%20%20Downtown%20Toronto%2018%20%20%20%20Downtown%20Toronto%2019%20%20%20%20Downtown%20Toronto%2020%20%20%20%20Downtown%20Toronto%2021%20%20%20%20Downtown%20Toronto%2022%20%20%20%20%20Central%20Toronto%2023%20%20%20%20%20Central%20Toronto%2024%20%20%20%20%20Central%20Toronto%2025%20%20%20%20Downtown%20Toronto%2026%20%20%20%20Downtown%20Toronto%2027%20%20%20%20Downtown%20Toronto%2028%20%20%20%20Downtown%20Toronto%2029%20%20%20%20Downtown%20Toronto%2030%20%20%20%20Downtown%20Toronto%2031%20%20%20%20%20%20%20%20West%20Toronto%2032%20%20%20%20%20%20%20%20West%20Toronto%2033%20%20%20%20%20%20%20%20West%20Toronto%2034%20%20%20%20%20%20%20%20West%20Toronto%2035%20%20%20%20%20%20%20%20West%20Toronto%2036%20%20%20%20%20%20%20%20West%20Toronto%2037%20%20%20%20%20%20%20%20East%20Toronto%20Name%3A%20Borough%2C%20dtype%3A%20object%20Cluster%201%3C/div%3E%60%29%5B0%5D%3B%0A%20%20%20%20%20%20%20%20%20%20%20%20popup_fe01a725a7a44881b99b637ea699a6c5.setContent%28html_8d04c673d4a64c5891f275123b76e95b%29%3B%0A%20%20%20%20%20%20%20%20%0A%0A%20%20%20%20%20%20%20%20circle_marker_eacf0f143ebd4d8bbd611526ce5431fc.bindPopup%28popup_fe01a725a7a44881b99b637ea699a6c5%29%0A%20%20%20%20%20%20%20%20%3B%0A%0A%20%20%20%20%20%20%20%20%0A%20%20%20%20%0A%20%20%20%20%0A%20%20%20%20%20%20%20%20%20%20%20%20var%20circle_marker_3a5dda1d0d4346e5874a1d4ba2de4ba5%20%3D%20L.circleMarker%28%0A%20%20%20%20%20%20%20%20%20%20%20%20%20%20%20%20%5B43.6408157%2C%20-79.3817523%5D%2C%0A%20%20%20%20%20%20%20%20%20%20%20%20%20%20%20%20%7B%22bubblingMouseEvents%22%3A%20true%2C%20%22color%22%3A%20%22%238000ff%22%2C%20%22dashArray%22%3A%20null%2C%20%22dashOffset%22%3A%20null%2C%20%22fill%22%3A%20true%2C%20%22fillColor%22%3A%20%22%238000ff%22%2C%20%22fillOpacity%22%3A%200.7%2C%20%22fillRule%22%3A%20%22evenodd%22%2C%20%22lineCap%22%3A%20%22round%22%2C%20%22lineJoin%22%3A%20%22round%22%2C%20%22opacity%22%3A%201.0%2C%20%22radius%22%3A%205%2C%20%22stroke%22%3A%20true%2C%20%22weight%22%3A%203%7D%0A%20%20%20%20%20%20%20%20%20%20%20%20%29.addTo%28map_de5b9ea3f44742b4ab10e6c52d81254e%29%3B%0A%20%20%20%20%20%20%20%20%0A%20%20%20%20%0A%20%20%20%20%20%20%20%20var%20popup_abf11fae35314a758e6fc6a43fbf446c%20%3D%20L.popup%28%7B%22maxWidth%22%3A%20%22100%25%22%7D%29%3B%0A%0A%20%20%20%20%20%20%20%20%0A%20%20%20%20%20%20%20%20%20%20%20%20var%20html_0ddda1475e734130b63f35ded9eb6a45%20%3D%20%24%28%60%3Cdiv%20id%3D%22html_0ddda1475e734130b63f35ded9eb6a45%22%20style%3D%22width%3A%20100.0%25%3B%20height%3A%20100.0%25%3B%22%3E0%20%20%20%20%20%20%20%20%20East%20Toronto%201%20%20%20%20%20%20%20%20%20East%20Toronto%202%20%20%20%20%20%20%20%20%20East%20Toronto%203%20%20%20%20%20%20%20%20%20East%20Toronto%204%20%20%20%20%20%20Central%20Toronto%205%20%20%20%20%20%20Central%20Toronto%206%20%20%20%20%20%20Central%20Toronto%207%20%20%20%20%20%20Central%20Toronto%208%20%20%20%20%20%20Central%20Toronto%209%20%20%20%20%20%20Central%20Toronto%2010%20%20%20%20Downtown%20Toronto%2011%20%20%20%20Downtown%20Toronto%2012%20%20%20%20Downtown%20Toronto%2013%20%20%20%20Downtown%20Toronto%2014%20%20%20%20Downtown%20Toronto%2015%20%20%20%20Downtown%20Toronto%2016%20%20%20%20Downtown%20Toronto%2017%20%20%20%20Downtown%20Toronto%2018%20%20%20%20Downtown%20Toronto%2019%20%20%20%20Downtown%20Toronto%2020%20%20%20%20Downtown%20Toronto%2021%20%20%20%20Downtown%20Toronto%2022%20%20%20%20%20Central%20Toronto%2023%20%20%20%20%20Central%20Toronto%2024%20%20%20%20%20Central%20Toronto%2025%20%20%20%20Downtown%20Toronto%2026%20%20%20%20Downtown%20Toronto%2027%20%20%20%20Downtown%20Toronto%2028%20%20%20%20Downtown%20Toronto%2029%20%20%20%20Downtown%20Toronto%2030%20%20%20%20Downtown%20Toronto%2031%20%20%20%20%20%20%20%20West%20Toronto%2032%20%20%20%20%20%20%20%20West%20Toronto%2033%20%20%20%20%20%20%20%20West%20Toronto%2034%20%20%20%20%20%20%20%20West%20Toronto%2035%20%20%20%20%20%20%20%20West%20Toronto%2036%20%20%20%20%20%20%20%20West%20Toronto%2037%20%20%20%20%20%20%20%20East%20Toronto%20Name%3A%20Borough%2C%20dtype%3A%20object%20Cluster%201%3C/div%3E%60%29%5B0%5D%3B%0A%20%20%20%20%20%20%20%20%20%20%20%20popup_abf11fae35314a758e6fc6a43fbf446c.setContent%28html_0ddda1475e734130b63f35ded9eb6a45%29%3B%0A%20%20%20%20%20%20%20%20%0A%0A%20%20%20%20%20%20%20%20circle_marker_3a5dda1d0d4346e5874a1d4ba2de4ba5.bindPopup%28popup_abf11fae35314a758e6fc6a43fbf446c%29%0A%20%20%20%20%20%20%20%20%3B%0A%0A%20%20%20%20%20%20%20%20%0A%20%20%20%20%0A%20%20%20%20%0A%20%20%20%20%20%20%20%20%20%20%20%20var%20circle_marker_a96c29c5cfb84d65921712431bea808c%20%3D%20L.circleMarker%28%0A%20%20%20%20%20%20%20%20%20%20%20%20%20%20%20%20%5B43.6471768%2C%20-79.3815764%5D%2C%0A%20%20%20%20%20%20%20%20%20%20%20%20%20%20%20%20%7B%22bubblingMouseEvents%22%3A%20true%2C%20%22color%22%3A%20%22%238000ff%22%2C%20%22dashArray%22%3A%20null%2C%20%22dashOffset%22%3A%20null%2C%20%22fill%22%3A%20true%2C%20%22fillColor%22%3A%20%22%238000ff%22%2C%20%22fillOpacity%22%3A%200.7%2C%20%22fillRule%22%3A%20%22evenodd%22%2C%20%22lineCap%22%3A%20%22round%22%2C%20%22lineJoin%22%3A%20%22round%22%2C%20%22opacity%22%3A%201.0%2C%20%22radius%22%3A%205%2C%20%22stroke%22%3A%20true%2C%20%22weight%22%3A%203%7D%0A%20%20%20%20%20%20%20%20%20%20%20%20%29.addTo%28map_de5b9ea3f44742b4ab10e6c52d81254e%29%3B%0A%20%20%20%20%20%20%20%20%0A%20%20%20%20%0A%20%20%20%20%20%20%20%20var%20popup_cf3e8dcbb8d449dd91952c65596c6d39%20%3D%20L.popup%28%7B%22maxWidth%22%3A%20%22100%25%22%7D%29%3B%0A%0A%20%20%20%20%20%20%20%20%0A%20%20%20%20%20%20%20%20%20%20%20%20var%20html_25afc91c1aad4ce9bac84d9a2d2ef30f%20%3D%20%24%28%60%3Cdiv%20id%3D%22html_25afc91c1aad4ce9bac84d9a2d2ef30f%22%20style%3D%22width%3A%20100.0%25%3B%20height%3A%20100.0%25%3B%22%3E0%20%20%20%20%20%20%20%20%20East%20Toronto%201%20%20%20%20%20%20%20%20%20East%20Toronto%202%20%20%20%20%20%20%20%20%20East%20Toronto%203%20%20%20%20%20%20%20%20%20East%20Toronto%204%20%20%20%20%20%20Central%20Toronto%205%20%20%20%20%20%20Central%20Toronto%206%20%20%20%20%20%20Central%20Toronto%207%20%20%20%20%20%20Central%20Toronto%208%20%20%20%20%20%20Central%20Toronto%209%20%20%20%20%20%20Central%20Toronto%2010%20%20%20%20Downtown%20Toronto%2011%20%20%20%20Downtown%20Toronto%2012%20%20%20%20Downtown%20Toronto%2013%20%20%20%20Downtown%20Toronto%2014%20%20%20%20Downtown%20Toronto%2015%20%20%20%20Downtown%20Toronto%2016%20%20%20%20Downtown%20Toronto%2017%20%20%20%20Downtown%20Toronto%2018%20%20%20%20Downtown%20Toronto%2019%20%20%20%20Downtown%20Toronto%2020%20%20%20%20Downtown%20Toronto%2021%20%20%20%20Downtown%20Toronto%2022%20%20%20%20%20Central%20Toronto%2023%20%20%20%20%20Central%20Toronto%2024%20%20%20%20%20Central%20Toronto%2025%20%20%20%20Downtown%20Toronto%2026%20%20%20%20Downtown%20Toronto%2027%20%20%20%20Downtown%20Toronto%2028%20%20%20%20Downtown%20Toronto%2029%20%20%20%20Downtown%20Toronto%2030%20%20%20%20Downtown%20Toronto%2031%20%20%20%20%20%20%20%20West%20Toronto%2032%20%20%20%20%20%20%20%20West%20Toronto%2033%20%20%20%20%20%20%20%20West%20Toronto%2034%20%20%20%20%20%20%20%20West%20Toronto%2035%20%20%20%20%20%20%20%20West%20Toronto%2036%20%20%20%20%20%20%20%20West%20Toronto%2037%20%20%20%20%20%20%20%20East%20Toronto%20Name%3A%20Borough%2C%20dtype%3A%20object%20Cluster%201%3C/div%3E%60%29%5B0%5D%3B%0A%20%20%20%20%20%20%20%20%20%20%20%20popup_cf3e8dcbb8d449dd91952c65596c6d39.setContent%28html_25afc91c1aad4ce9bac84d9a2d2ef30f%29%3B%0A%20%20%20%20%20%20%20%20%0A%0A%20%20%20%20%20%20%20%20circle_marker_a96c29c5cfb84d65921712431bea808c.bindPopup%28popup_cf3e8dcbb8d449dd91952c65596c6d39%29%0A%20%20%20%20%20%20%20%20%3B%0A%0A%20%20%20%20%20%20%20%20%0A%20%20%20%20%0A%20%20%20%20%0A%20%20%20%20%20%20%20%20%20%20%20%20var%20circle_marker_61161e32cab2431f9c5413e61891faa8%20%3D%20L.circleMarker%28%0A%20%20%20%20%20%20%20%20%20%20%20%20%20%20%20%20%5B43.6481985%2C%20-79.3798169%5D%2C%0A%20%20%20%20%20%20%20%20%20%20%20%20%20%20%20%20%7B%22bubblingMouseEvents%22%3A%20true%2C%20%22color%22%3A%20%22%238000ff%22%2C%20%22dashArray%22%3A%20null%2C%20%22dashOffset%22%3A%20null%2C%20%22fill%22%3A%20true%2C%20%22fillColor%22%3A%20%22%238000ff%22%2C%20%22fillOpacity%22%3A%200.7%2C%20%22fillRule%22%3A%20%22evenodd%22%2C%20%22lineCap%22%3A%20%22round%22%2C%20%22lineJoin%22%3A%20%22round%22%2C%20%22opacity%22%3A%201.0%2C%20%22radius%22%3A%205%2C%20%22stroke%22%3A%20true%2C%20%22weight%22%3A%203%7D%0A%20%20%20%20%20%20%20%20%20%20%20%20%29.addTo%28map_de5b9ea3f44742b4ab10e6c52d81254e%29%3B%0A%20%20%20%20%20%20%20%20%0A%20%20%20%20%0A%20%20%20%20%20%20%20%20var%20popup_fcbe8c9572de42969db862eedff13d69%20%3D%20L.popup%28%7B%22maxWidth%22%3A%20%22100%25%22%7D%29%3B%0A%0A%20%20%20%20%20%20%20%20%0A%20%20%20%20%20%20%20%20%20%20%20%20var%20html_5ee2bcb1687b483cabf775ca7d36eeeb%20%3D%20%24%28%60%3Cdiv%20id%3D%22html_5ee2bcb1687b483cabf775ca7d36eeeb%22%20style%3D%22width%3A%20100.0%25%3B%20height%3A%20100.0%25%3B%22%3E0%20%20%20%20%20%20%20%20%20East%20Toronto%201%20%20%20%20%20%20%20%20%20East%20Toronto%202%20%20%20%20%20%20%20%20%20East%20Toronto%203%20%20%20%20%20%20%20%20%20East%20Toronto%204%20%20%20%20%20%20Central%20Toronto%205%20%20%20%20%20%20Central%20Toronto%206%20%20%20%20%20%20Central%20Toronto%207%20%20%20%20%20%20Central%20Toronto%208%20%20%20%20%20%20Central%20Toronto%209%20%20%20%20%20%20Central%20Toronto%2010%20%20%20%20Downtown%20Toronto%2011%20%20%20%20Downtown%20Toronto%2012%20%20%20%20Downtown%20Toronto%2013%20%20%20%20Downtown%20Toronto%2014%20%20%20%20Downtown%20Toronto%2015%20%20%20%20Downtown%20Toronto%2016%20%20%20%20Downtown%20Toronto%2017%20%20%20%20Downtown%20Toronto%2018%20%20%20%20Downtown%20Toronto%2019%20%20%20%20Downtown%20Toronto%2020%20%20%20%20Downtown%20Toronto%2021%20%20%20%20Downtown%20Toronto%2022%20%20%20%20%20Central%20Toronto%2023%20%20%20%20%20Central%20Toronto%2024%20%20%20%20%20Central%20Toronto%2025%20%20%20%20Downtown%20Toronto%2026%20%20%20%20Downtown%20Toronto%2027%20%20%20%20Downtown%20Toronto%2028%20%20%20%20Downtown%20Toronto%2029%20%20%20%20Downtown%20Toronto%2030%20%20%20%20Downtown%20Toronto%2031%20%20%20%20%20%20%20%20West%20Toronto%2032%20%20%20%20%20%20%20%20West%20Toronto%2033%20%20%20%20%20%20%20%20West%20Toronto%2034%20%20%20%20%20%20%20%20West%20Toronto%2035%20%20%20%20%20%20%20%20West%20Toronto%2036%20%20%20%20%20%20%20%20West%20Toronto%2037%20%20%20%20%20%20%20%20East%20Toronto%20Name%3A%20Borough%2C%20dtype%3A%20object%20Cluster%201%3C/div%3E%60%29%5B0%5D%3B%0A%20%20%20%20%20%20%20%20%20%20%20%20popup_fcbe8c9572de42969db862eedff13d69.setContent%28html_5ee2bcb1687b483cabf775ca7d36eeeb%29%3B%0A%20%20%20%20%20%20%20%20%0A%0A%20%20%20%20%20%20%20%20circle_marker_61161e32cab2431f9c5413e61891faa8.bindPopup%28popup_fcbe8c9572de42969db862eedff13d69%29%0A%20%20%20%20%20%20%20%20%3B%0A%0A%20%20%20%20%20%20%20%20%0A%20%20%20%20%0A%20%20%20%20%0A%20%20%20%20%20%20%20%20%20%20%20%20var%20circle_marker_286191a7a5f247979cb9d36a213c78a2%20%3D%20L.circleMarker%28%0A%20%20%20%20%20%20%20%20%20%20%20%20%20%20%20%20%5B43.7116948%2C%20-79.4169356%5D%2C%0A%20%20%20%20%20%20%20%20%20%20%20%20%20%20%20%20%7B%22bubblingMouseEvents%22%3A%20true%2C%20%22color%22%3A%20%22%232adddd%22%2C%20%22dashArray%22%3A%20null%2C%20%22dashOffset%22%3A%20null%2C%20%22fill%22%3A%20true%2C%20%22fillColor%22%3A%20%22%232adddd%22%2C%20%22fillOpacity%22%3A%200.7%2C%20%22fillRule%22%3A%20%22evenodd%22%2C%20%22lineCap%22%3A%20%22round%22%2C%20%22lineJoin%22%3A%20%22round%22%2C%20%22opacity%22%3A%201.0%2C%20%22radius%22%3A%205%2C%20%22stroke%22%3A%20true%2C%20%22weight%22%3A%203%7D%0A%20%20%20%20%20%20%20%20%20%20%20%20%29.addTo%28map_de5b9ea3f44742b4ab10e6c52d81254e%29%3B%0A%20%20%20%20%20%20%20%20%0A%20%20%20%20%0A%20%20%20%20%20%20%20%20var%20popup_3131871c65e44adf9d7b335a56605107%20%3D%20L.popup%28%7B%22maxWidth%22%3A%20%22100%25%22%7D%29%3B%0A%0A%20%20%20%20%20%20%20%20%0A%20%20%20%20%20%20%20%20%20%20%20%20var%20html_85fc58285e644ec6bf7c656cc2cde1e2%20%3D%20%24%28%60%3Cdiv%20id%3D%22html_85fc58285e644ec6bf7c656cc2cde1e2%22%20style%3D%22width%3A%20100.0%25%3B%20height%3A%20100.0%25%3B%22%3E0%20%20%20%20%20%20%20%20%20East%20Toronto%201%20%20%20%20%20%20%20%20%20East%20Toronto%202%20%20%20%20%20%20%20%20%20East%20Toronto%203%20%20%20%20%20%20%20%20%20East%20Toronto%204%20%20%20%20%20%20Central%20Toronto%205%20%20%20%20%20%20Central%20Toronto%206%20%20%20%20%20%20Central%20Toronto%207%20%20%20%20%20%20Central%20Toronto%208%20%20%20%20%20%20Central%20Toronto%209%20%20%20%20%20%20Central%20Toronto%2010%20%20%20%20Downtown%20Toronto%2011%20%20%20%20Downtown%20Toronto%2012%20%20%20%20Downtown%20Toronto%2013%20%20%20%20Downtown%20Toronto%2014%20%20%20%20Downtown%20Toronto%2015%20%20%20%20Downtown%20Toronto%2016%20%20%20%20Downtown%20Toronto%2017%20%20%20%20Downtown%20Toronto%2018%20%20%20%20Downtown%20Toronto%2019%20%20%20%20Downtown%20Toronto%2020%20%20%20%20Downtown%20Toronto%2021%20%20%20%20Downtown%20Toronto%2022%20%20%20%20%20Central%20Toronto%2023%20%20%20%20%20Central%20Toronto%2024%20%20%20%20%20Central%20Toronto%2025%20%20%20%20Downtown%20Toronto%2026%20%20%20%20Downtown%20Toronto%2027%20%20%20%20Downtown%20Toronto%2028%20%20%20%20Downtown%20Toronto%2029%20%20%20%20Downtown%20Toronto%2030%20%20%20%20Downtown%20Toronto%2031%20%20%20%20%20%20%20%20West%20Toronto%2032%20%20%20%20%20%20%20%20West%20Toronto%2033%20%20%20%20%20%20%20%20West%20Toronto%2034%20%20%20%20%20%20%20%20West%20Toronto%2035%20%20%20%20%20%20%20%20West%20Toronto%2036%20%20%20%20%20%20%20%20West%20Toronto%2037%20%20%20%20%20%20%20%20East%20Toronto%20Name%3A%20Borough%2C%20dtype%3A%20object%20Cluster%202%3C/div%3E%60%29%5B0%5D%3B%0A%20%20%20%20%20%20%20%20%20%20%20%20popup_3131871c65e44adf9d7b335a56605107.setContent%28html_85fc58285e644ec6bf7c656cc2cde1e2%29%3B%0A%20%20%20%20%20%20%20%20%0A%0A%20%20%20%20%20%20%20%20circle_marker_286191a7a5f247979cb9d36a213c78a2.bindPopup%28popup_3131871c65e44adf9d7b335a56605107%29%0A%20%20%20%20%20%20%20%20%3B%0A%0A%20%20%20%20%20%20%20%20%0A%20%20%20%20%0A%20%20%20%20%0A%20%20%20%20%20%20%20%20%20%20%20%20var%20circle_marker_6db5ba4405954f6483050a13ce8a62ad%20%3D%20L.circleMarker%28%0A%20%20%20%20%20%20%20%20%20%20%20%20%20%20%20%20%5B43.6969476%2C%20-79.4113072%5D%2C%0A%20%20%20%20%20%20%20%20%20%20%20%20%20%20%20%20%7B%22bubblingMouseEvents%22%3A%20true%2C%20%22color%22%3A%20%22%232adddd%22%2C%20%22dashArray%22%3A%20null%2C%20%22dashOffset%22%3A%20null%2C%20%22fill%22%3A%20true%2C%20%22fillColor%22%3A%20%22%232adddd%22%2C%20%22fillOpacity%22%3A%200.7%2C%20%22fillRule%22%3A%20%22evenodd%22%2C%20%22lineCap%22%3A%20%22round%22%2C%20%22lineJoin%22%3A%20%22round%22%2C%20%22opacity%22%3A%201.0%2C%20%22radius%22%3A%205%2C%20%22stroke%22%3A%20true%2C%20%22weight%22%3A%203%7D%0A%20%20%20%20%20%20%20%20%20%20%20%20%29.addTo%28map_de5b9ea3f44742b4ab10e6c52d81254e%29%3B%0A%20%20%20%20%20%20%20%20%0A%20%20%20%20%0A%20%20%20%20%20%20%20%20var%20popup_44f93fd6c3414fdf8d6be3f75949b84d%20%3D%20L.popup%28%7B%22maxWidth%22%3A%20%22100%25%22%7D%29%3B%0A%0A%20%20%20%20%20%20%20%20%0A%20%20%20%20%20%20%20%20%20%20%20%20var%20html_c0ee2c7eb5614da5a1f21da844af69cb%20%3D%20%24%28%60%3Cdiv%20id%3D%22html_c0ee2c7eb5614da5a1f21da844af69cb%22%20style%3D%22width%3A%20100.0%25%3B%20height%3A%20100.0%25%3B%22%3E0%20%20%20%20%20%20%20%20%20East%20Toronto%201%20%20%20%20%20%20%20%20%20East%20Toronto%202%20%20%20%20%20%20%20%20%20East%20Toronto%203%20%20%20%20%20%20%20%20%20East%20Toronto%204%20%20%20%20%20%20Central%20Toronto%205%20%20%20%20%20%20Central%20Toronto%206%20%20%20%20%20%20Central%20Toronto%207%20%20%20%20%20%20Central%20Toronto%208%20%20%20%20%20%20Central%20Toronto%209%20%20%20%20%20%20Central%20Toronto%2010%20%20%20%20Downtown%20Toronto%2011%20%20%20%20Downtown%20Toronto%2012%20%20%20%20Downtown%20Toronto%2013%20%20%20%20Downtown%20Toronto%2014%20%20%20%20Downtown%20Toronto%2015%20%20%20%20Downtown%20Toronto%2016%20%20%20%20Downtown%20Toronto%2017%20%20%20%20Downtown%20Toronto%2018%20%20%20%20Downtown%20Toronto%2019%20%20%20%20Downtown%20Toronto%2020%20%20%20%20Downtown%20Toronto%2021%20%20%20%20Downtown%20Toronto%2022%20%20%20%20%20Central%20Toronto%2023%20%20%20%20%20Central%20Toronto%2024%20%20%20%20%20Central%20Toronto%2025%20%20%20%20Downtown%20Toronto%2026%20%20%20%20Downtown%20Toronto%2027%20%20%20%20Downtown%20Toronto%2028%20%20%20%20Downtown%20Toronto%2029%20%20%20%20Downtown%20Toronto%2030%20%20%20%20Downtown%20Toronto%2031%20%20%20%20%20%20%20%20West%20Toronto%2032%20%20%20%20%20%20%20%20West%20Toronto%2033%20%20%20%20%20%20%20%20West%20Toronto%2034%20%20%20%20%20%20%20%20West%20Toronto%2035%20%20%20%20%20%20%20%20West%20Toronto%2036%20%20%20%20%20%20%20%20West%20Toronto%2037%20%20%20%20%20%20%20%20East%20Toronto%20Name%3A%20Borough%2C%20dtype%3A%20object%20Cluster%202%3C/div%3E%60%29%5B0%5D%3B%0A%20%20%20%20%20%20%20%20%20%20%20%20popup_44f93fd6c3414fdf8d6be3f75949b84d.setContent%28html_c0ee2c7eb5614da5a1f21da844af69cb%29%3B%0A%20%20%20%20%20%20%20%20%0A%0A%20%20%20%20%20%20%20%20circle_marker_6db5ba4405954f6483050a13ce8a62ad.bindPopup%28popup_44f93fd6c3414fdf8d6be3f75949b84d%29%0A%20%20%20%20%20%20%20%20%3B%0A%0A%20%20%20%20%20%20%20%20%0A%20%20%20%20%0A%20%20%20%20%0A%20%20%20%20%20%20%20%20%20%20%20%20var%20circle_marker_a3dff25941e34e74a433687a0ef35969%20%3D%20L.circleMarker%28%0A%20%20%20%20%20%20%20%20%20%20%20%20%20%20%20%20%5B43.6727097%2C%20-79.4056784%5D%2C%0A%20%20%20%20%20%20%20%20%20%20%20%20%20%20%20%20%7B%22bubblingMouseEvents%22%3A%20true%2C%20%22color%22%3A%20%22%232adddd%22%2C%20%22dashArray%22%3A%20null%2C%20%22dashOffset%22%3A%20null%2C%20%22fill%22%3A%20true%2C%20%22fillColor%22%3A%20%22%232adddd%22%2C%20%22fillOpacity%22%3A%200.7%2C%20%22fillRule%22%3A%20%22evenodd%22%2C%20%22lineCap%22%3A%20%22round%22%2C%20%22lineJoin%22%3A%20%22round%22%2C%20%22opacity%22%3A%201.0%2C%20%22radius%22%3A%205%2C%20%22stroke%22%3A%20true%2C%20%22weight%22%3A%203%7D%0A%20%20%20%20%20%20%20%20%20%20%20%20%29.addTo%28map_de5b9ea3f44742b4ab10e6c52d81254e%29%3B%0A%20%20%20%20%20%20%20%20%0A%20%20%20%20%0A%20%20%20%20%20%20%20%20var%20popup_cf7977537c2349f892b9ab56d97abeb8%20%3D%20L.popup%28%7B%22maxWidth%22%3A%20%22100%25%22%7D%29%3B%0A%0A%20%20%20%20%20%20%20%20%0A%20%20%20%20%20%20%20%20%20%20%20%20var%20html_b4e9a7e1591a463d8132910d0328c8e6%20%3D%20%24%28%60%3Cdiv%20id%3D%22html_b4e9a7e1591a463d8132910d0328c8e6%22%20style%3D%22width%3A%20100.0%25%3B%20height%3A%20100.0%25%3B%22%3E0%20%20%20%20%20%20%20%20%20East%20Toronto%201%20%20%20%20%20%20%20%20%20East%20Toronto%202%20%20%20%20%20%20%20%20%20East%20Toronto%203%20%20%20%20%20%20%20%20%20East%20Toronto%204%20%20%20%20%20%20Central%20Toronto%205%20%20%20%20%20%20Central%20Toronto%206%20%20%20%20%20%20Central%20Toronto%207%20%20%20%20%20%20Central%20Toronto%208%20%20%20%20%20%20Central%20Toronto%209%20%20%20%20%20%20Central%20Toronto%2010%20%20%20%20Downtown%20Toronto%2011%20%20%20%20Downtown%20Toronto%2012%20%20%20%20Downtown%20Toronto%2013%20%20%20%20Downtown%20Toronto%2014%20%20%20%20Downtown%20Toronto%2015%20%20%20%20Downtown%20Toronto%2016%20%20%20%20Downtown%20Toronto%2017%20%20%20%20Downtown%20Toronto%2018%20%20%20%20Downtown%20Toronto%2019%20%20%20%20Downtown%20Toronto%2020%20%20%20%20Downtown%20Toronto%2021%20%20%20%20Downtown%20Toronto%2022%20%20%20%20%20Central%20Toronto%2023%20%20%20%20%20Central%20Toronto%2024%20%20%20%20%20Central%20Toronto%2025%20%20%20%20Downtown%20Toronto%2026%20%20%20%20Downtown%20Toronto%2027%20%20%20%20Downtown%20Toronto%2028%20%20%20%20Downtown%20Toronto%2029%20%20%20%20Downtown%20Toronto%2030%20%20%20%20Downtown%20Toronto%2031%20%20%20%20%20%20%20%20West%20Toronto%2032%20%20%20%20%20%20%20%20West%20Toronto%2033%20%20%20%20%20%20%20%20West%20Toronto%2034%20%20%20%20%20%20%20%20West%20Toronto%2035%20%20%20%20%20%20%20%20West%20Toronto%2036%20%20%20%20%20%20%20%20West%20Toronto%2037%20%20%20%20%20%20%20%20East%20Toronto%20Name%3A%20Borough%2C%20dtype%3A%20object%20Cluster%202%3C/div%3E%60%29%5B0%5D%3B%0A%20%20%20%20%20%20%20%20%20%20%20%20popup_cf7977537c2349f892b9ab56d97abeb8.setContent%28html_b4e9a7e1591a463d8132910d0328c8e6%29%3B%0A%20%20%20%20%20%20%20%20%0A%0A%20%20%20%20%20%20%20%20circle_marker_a3dff25941e34e74a433687a0ef35969.bindPopup%28popup_cf7977537c2349f892b9ab56d97abeb8%29%0A%20%20%20%20%20%20%20%20%3B%0A%0A%20%20%20%20%20%20%20%20%0A%20%20%20%20%0A%20%20%20%20%0A%20%20%20%20%20%20%20%20%20%20%20%20var%20circle_marker_ff27092be63f4002967bff920df2d33e%20%3D%20L.circleMarker%28%0A%20%20%20%20%20%20%20%20%20%20%20%20%20%20%20%20%5B43.6626956%2C%20-79.4000493%5D%2C%0A%20%20%20%20%20%20%20%20%20%20%20%20%20%20%20%20%7B%22bubblingMouseEvents%22%3A%20true%2C%20%22color%22%3A%20%22%238000ff%22%2C%20%22dashArray%22%3A%20null%2C%20%22dashOffset%22%3A%20null%2C%20%22fill%22%3A%20true%2C%20%22fillColor%22%3A%20%22%238000ff%22%2C%20%22fillOpacity%22%3A%200.7%2C%20%22fillRule%22%3A%20%22evenodd%22%2C%20%22lineCap%22%3A%20%22round%22%2C%20%22lineJoin%22%3A%20%22round%22%2C%20%22opacity%22%3A%201.0%2C%20%22radius%22%3A%205%2C%20%22stroke%22%3A%20true%2C%20%22weight%22%3A%203%7D%0A%20%20%20%20%20%20%20%20%20%20%20%20%29.addTo%28map_de5b9ea3f44742b4ab10e6c52d81254e%29%3B%0A%20%20%20%20%20%20%20%20%0A%20%20%20%20%0A%20%20%20%20%20%20%20%20var%20popup_d090ac7fd38a4a008fed2cae7fd73e16%20%3D%20L.popup%28%7B%22maxWidth%22%3A%20%22100%25%22%7D%29%3B%0A%0A%20%20%20%20%20%20%20%20%0A%20%20%20%20%20%20%20%20%20%20%20%20var%20html_fe26b3091a054f6591e1a6c1b6ca7787%20%3D%20%24%28%60%3Cdiv%20id%3D%22html_fe26b3091a054f6591e1a6c1b6ca7787%22%20style%3D%22width%3A%20100.0%25%3B%20height%3A%20100.0%25%3B%22%3E0%20%20%20%20%20%20%20%20%20East%20Toronto%201%20%20%20%20%20%20%20%20%20East%20Toronto%202%20%20%20%20%20%20%20%20%20East%20Toronto%203%20%20%20%20%20%20%20%20%20East%20Toronto%204%20%20%20%20%20%20Central%20Toronto%205%20%20%20%20%20%20Central%20Toronto%206%20%20%20%20%20%20Central%20Toronto%207%20%20%20%20%20%20Central%20Toronto%208%20%20%20%20%20%20Central%20Toronto%209%20%20%20%20%20%20Central%20Toronto%2010%20%20%20%20Downtown%20Toronto%2011%20%20%20%20Downtown%20Toronto%2012%20%20%20%20Downtown%20Toronto%2013%20%20%20%20Downtown%20Toronto%2014%20%20%20%20Downtown%20Toronto%2015%20%20%20%20Downtown%20Toronto%2016%20%20%20%20Downtown%20Toronto%2017%20%20%20%20Downtown%20Toronto%2018%20%20%20%20Downtown%20Toronto%2019%20%20%20%20Downtown%20Toronto%2020%20%20%20%20Downtown%20Toronto%2021%20%20%20%20Downtown%20Toronto%2022%20%20%20%20%20Central%20Toronto%2023%20%20%20%20%20Central%20Toronto%2024%20%20%20%20%20Central%20Toronto%2025%20%20%20%20Downtown%20Toronto%2026%20%20%20%20Downtown%20Toronto%2027%20%20%20%20Downtown%20Toronto%2028%20%20%20%20Downtown%20Toronto%2029%20%20%20%20Downtown%20Toronto%2030%20%20%20%20Downtown%20Toronto%2031%20%20%20%20%20%20%20%20West%20Toronto%2032%20%20%20%20%20%20%20%20West%20Toronto%2033%20%20%20%20%20%20%20%20West%20Toronto%2034%20%20%20%20%20%20%20%20West%20Toronto%2035%20%20%20%20%20%20%20%20West%20Toronto%2036%20%20%20%20%20%20%20%20West%20Toronto%2037%20%20%20%20%20%20%20%20East%20Toronto%20Name%3A%20Borough%2C%20dtype%3A%20object%20Cluster%201%3C/div%3E%60%29%5B0%5D%3B%0A%20%20%20%20%20%20%20%20%20%20%20%20popup_d090ac7fd38a4a008fed2cae7fd73e16.setContent%28html_fe26b3091a054f6591e1a6c1b6ca7787%29%3B%0A%20%20%20%20%20%20%20%20%0A%0A%20%20%20%20%20%20%20%20circle_marker_ff27092be63f4002967bff920df2d33e.bindPopup%28popup_d090ac7fd38a4a008fed2cae7fd73e16%29%0A%20%20%20%20%20%20%20%20%3B%0A%0A%20%20%20%20%20%20%20%20%0A%20%20%20%20%0A%20%20%20%20%0A%20%20%20%20%20%20%20%20%20%20%20%20var%20circle_marker_5fbf91b9a0e742af9e2b8e89e43b6e10%20%3D%20L.circleMarker%28%0A%20%20%20%20%20%20%20%20%20%20%20%20%20%20%20%20%5B43.6532057%2C%20-79.4000493%5D%2C%0A%20%20%20%20%20%20%20%20%20%20%20%20%20%20%20%20%7B%22bubblingMouseEvents%22%3A%20true%2C%20%22color%22%3A%20%22%238000ff%22%2C%20%22dashArray%22%3A%20null%2C%20%22dashOffset%22%3A%20null%2C%20%22fill%22%3A%20true%2C%20%22fillColor%22%3A%20%22%238000ff%22%2C%20%22fillOpacity%22%3A%200.7%2C%20%22fillRule%22%3A%20%22evenodd%22%2C%20%22lineCap%22%3A%20%22round%22%2C%20%22lineJoin%22%3A%20%22round%22%2C%20%22opacity%22%3A%201.0%2C%20%22radius%22%3A%205%2C%20%22stroke%22%3A%20true%2C%20%22weight%22%3A%203%7D%0A%20%20%20%20%20%20%20%20%20%20%20%20%29.addTo%28map_de5b9ea3f44742b4ab10e6c52d81254e%29%3B%0A%20%20%20%20%20%20%20%20%0A%20%20%20%20%0A%20%20%20%20%20%20%20%20var%20popup_9afa32154d664ef28a475c0470ff1d77%20%3D%20L.popup%28%7B%22maxWidth%22%3A%20%22100%25%22%7D%29%3B%0A%0A%20%20%20%20%20%20%20%20%0A%20%20%20%20%20%20%20%20%20%20%20%20var%20html_a3aa62baa4a94dd796c15a19c7f3c0ca%20%3D%20%24%28%60%3Cdiv%20id%3D%22html_a3aa62baa4a94dd796c15a19c7f3c0ca%22%20style%3D%22width%3A%20100.0%25%3B%20height%3A%20100.0%25%3B%22%3E0%20%20%20%20%20%20%20%20%20East%20Toronto%201%20%20%20%20%20%20%20%20%20East%20Toronto%202%20%20%20%20%20%20%20%20%20East%20Toronto%203%20%20%20%20%20%20%20%20%20East%20Toronto%204%20%20%20%20%20%20Central%20Toronto%205%20%20%20%20%20%20Central%20Toronto%206%20%20%20%20%20%20Central%20Toronto%207%20%20%20%20%20%20Central%20Toronto%208%20%20%20%20%20%20Central%20Toronto%209%20%20%20%20%20%20Central%20Toronto%2010%20%20%20%20Downtown%20Toronto%2011%20%20%20%20Downtown%20Toronto%2012%20%20%20%20Downtown%20Toronto%2013%20%20%20%20Downtown%20Toronto%2014%20%20%20%20Downtown%20Toronto%2015%20%20%20%20Downtown%20Toronto%2016%20%20%20%20Downtown%20Toronto%2017%20%20%20%20Downtown%20Toronto%2018%20%20%20%20Downtown%20Toronto%2019%20%20%20%20Downtown%20Toronto%2020%20%20%20%20Downtown%20Toronto%2021%20%20%20%20Downtown%20Toronto%2022%20%20%20%20%20Central%20Toronto%2023%20%20%20%20%20Central%20Toronto%2024%20%20%20%20%20Central%20Toronto%2025%20%20%20%20Downtown%20Toronto%2026%20%20%20%20Downtown%20Toronto%2027%20%20%20%20Downtown%20Toronto%2028%20%20%20%20Downtown%20Toronto%2029%20%20%20%20Downtown%20Toronto%2030%20%20%20%20Downtown%20Toronto%2031%20%20%20%20%20%20%20%20West%20Toronto%2032%20%20%20%20%20%20%20%20West%20Toronto%2033%20%20%20%20%20%20%20%20West%20Toronto%2034%20%20%20%20%20%20%20%20West%20Toronto%2035%20%20%20%20%20%20%20%20West%20Toronto%2036%20%20%20%20%20%20%20%20West%20Toronto%2037%20%20%20%20%20%20%20%20East%20Toronto%20Name%3A%20Borough%2C%20dtype%3A%20object%20Cluster%201%3C/div%3E%60%29%5B0%5D%3B%0A%20%20%20%20%20%20%20%20%20%20%20%20popup_9afa32154d664ef28a475c0470ff1d77.setContent%28html_a3aa62baa4a94dd796c15a19c7f3c0ca%29%3B%0A%20%20%20%20%20%20%20%20%0A%0A%20%20%20%20%20%20%20%20circle_marker_5fbf91b9a0e742af9e2b8e89e43b6e10.bindPopup%28popup_9afa32154d664ef28a475c0470ff1d77%29%0A%20%20%20%20%20%20%20%20%3B%0A%0A%20%20%20%20%20%20%20%20%0A%20%20%20%20%0A%20%20%20%20%0A%20%20%20%20%20%20%20%20%20%20%20%20var%20circle_marker_6482e5db33414b37be6cf885d436abd7%20%3D%20L.circleMarker%28%0A%20%20%20%20%20%20%20%20%20%20%20%20%20%20%20%20%5B43.6289467%2C%20-79.3944199%5D%2C%0A%20%20%20%20%20%20%20%20%20%20%20%20%20%20%20%20%7B%22bubblingMouseEvents%22%3A%20true%2C%20%22color%22%3A%20%22%238000ff%22%2C%20%22dashArray%22%3A%20null%2C%20%22dashOffset%22%3A%20null%2C%20%22fill%22%3A%20true%2C%20%22fillColor%22%3A%20%22%238000ff%22%2C%20%22fillOpacity%22%3A%200.7%2C%20%22fillRule%22%3A%20%22evenodd%22%2C%20%22lineCap%22%3A%20%22round%22%2C%20%22lineJoin%22%3A%20%22round%22%2C%20%22opacity%22%3A%201.0%2C%20%22radius%22%3A%205%2C%20%22stroke%22%3A%20true%2C%20%22weight%22%3A%203%7D%0A%20%20%20%20%20%20%20%20%20%20%20%20%29.addTo%28map_de5b9ea3f44742b4ab10e6c52d81254e%29%3B%0A%20%20%20%20%20%20%20%20%0A%20%20%20%20%0A%20%20%20%20%20%20%20%20var%20popup_48d83f3c946c4d7d94f9910afe26fddf%20%3D%20L.popup%28%7B%22maxWidth%22%3A%20%22100%25%22%7D%29%3B%0A%0A%20%20%20%20%20%20%20%20%0A%20%20%20%20%20%20%20%20%20%20%20%20var%20html_b254200aa34c4f6fa94111ced7ac0700%20%3D%20%24%28%60%3Cdiv%20id%3D%22html_b254200aa34c4f6fa94111ced7ac0700%22%20style%3D%22width%3A%20100.0%25%3B%20height%3A%20100.0%25%3B%22%3E0%20%20%20%20%20%20%20%20%20East%20Toronto%201%20%20%20%20%20%20%20%20%20East%20Toronto%202%20%20%20%20%20%20%20%20%20East%20Toronto%203%20%20%20%20%20%20%20%20%20East%20Toronto%204%20%20%20%20%20%20Central%20Toronto%205%20%20%20%20%20%20Central%20Toronto%206%20%20%20%20%20%20Central%20Toronto%207%20%20%20%20%20%20Central%20Toronto%208%20%20%20%20%20%20Central%20Toronto%209%20%20%20%20%20%20Central%20Toronto%2010%20%20%20%20Downtown%20Toronto%2011%20%20%20%20Downtown%20Toronto%2012%20%20%20%20Downtown%20Toronto%2013%20%20%20%20Downtown%20Toronto%2014%20%20%20%20Downtown%20Toronto%2015%20%20%20%20Downtown%20Toronto%2016%20%20%20%20Downtown%20Toronto%2017%20%20%20%20Downtown%20Toronto%2018%20%20%20%20Downtown%20Toronto%2019%20%20%20%20Downtown%20Toronto%2020%20%20%20%20Downtown%20Toronto%2021%20%20%20%20Downtown%20Toronto%2022%20%20%20%20%20Central%20Toronto%2023%20%20%20%20%20Central%20Toronto%2024%20%20%20%20%20Central%20Toronto%2025%20%20%20%20Downtown%20Toronto%2026%20%20%20%20Downtown%20Toronto%2027%20%20%20%20Downtown%20Toronto%2028%20%20%20%20Downtown%20Toronto%2029%20%20%20%20Downtown%20Toronto%2030%20%20%20%20Downtown%20Toronto%2031%20%20%20%20%20%20%20%20West%20Toronto%2032%20%20%20%20%20%20%20%20West%20Toronto%2033%20%20%20%20%20%20%20%20West%20Toronto%2034%20%20%20%20%20%20%20%20West%20Toronto%2035%20%20%20%20%20%20%20%20West%20Toronto%2036%20%20%20%20%20%20%20%20West%20Toronto%2037%20%20%20%20%20%20%20%20East%20Toronto%20Name%3A%20Borough%2C%20dtype%3A%20object%20Cluster%201%3C/div%3E%60%29%5B0%5D%3B%0A%20%20%20%20%20%20%20%20%20%20%20%20popup_48d83f3c946c4d7d94f9910afe26fddf.setContent%28html_b254200aa34c4f6fa94111ced7ac0700%29%3B%0A%20%20%20%20%20%20%20%20%0A%0A%20%20%20%20%20%20%20%20circle_marker_6482e5db33414b37be6cf885d436abd7.bindPopup%28popup_48d83f3c946c4d7d94f9910afe26fddf%29%0A%20%20%20%20%20%20%20%20%3B%0A%0A%20%20%20%20%20%20%20%20%0A%20%20%20%20%0A%20%20%20%20%0A%20%20%20%20%20%20%20%20%20%20%20%20var%20circle_marker_812b8c0379a942838732b03331c711d0%20%3D%20L.circleMarker%28%0A%20%20%20%20%20%20%20%20%20%20%20%20%20%20%20%20%5B43.6464352%2C%20-79.374846%5D%2C%0A%20%20%20%20%20%20%20%20%20%20%20%20%20%20%20%20%7B%22bubblingMouseEvents%22%3A%20true%2C%20%22color%22%3A%20%22%238000ff%22%2C%20%22dashArray%22%3A%20null%2C%20%22dashOffset%22%3A%20null%2C%20%22fill%22%3A%20true%2C%20%22fillColor%22%3A%20%22%238000ff%22%2C%20%22fillOpacity%22%3A%200.7%2C%20%22fillRule%22%3A%20%22evenodd%22%2C%20%22lineCap%22%3A%20%22round%22%2C%20%22lineJoin%22%3A%20%22round%22%2C%20%22opacity%22%3A%201.0%2C%20%22radius%22%3A%205%2C%20%22stroke%22%3A%20true%2C%20%22weight%22%3A%203%7D%0A%20%20%20%20%20%20%20%20%20%20%20%20%29.addTo%28map_de5b9ea3f44742b4ab10e6c52d81254e%29%3B%0A%20%20%20%20%20%20%20%20%0A%20%20%20%20%0A%20%20%20%20%20%20%20%20var%20popup_122a98659b0c4c06a2cb4de79e7912b7%20%3D%20L.popup%28%7B%22maxWidth%22%3A%20%22100%25%22%7D%29%3B%0A%0A%20%20%20%20%20%20%20%20%0A%20%20%20%20%20%20%20%20%20%20%20%20var%20html_f631573fffc84219b7958aa7925ef720%20%3D%20%24%28%60%3Cdiv%20id%3D%22html_f631573fffc84219b7958aa7925ef720%22%20style%3D%22width%3A%20100.0%25%3B%20height%3A%20100.0%25%3B%22%3E0%20%20%20%20%20%20%20%20%20East%20Toronto%201%20%20%20%20%20%20%20%20%20East%20Toronto%202%20%20%20%20%20%20%20%20%20East%20Toronto%203%20%20%20%20%20%20%20%20%20East%20Toronto%204%20%20%20%20%20%20Central%20Toronto%205%20%20%20%20%20%20Central%20Toronto%206%20%20%20%20%20%20Central%20Toronto%207%20%20%20%20%20%20Central%20Toronto%208%20%20%20%20%20%20Central%20Toronto%209%20%20%20%20%20%20Central%20Toronto%2010%20%20%20%20Downtown%20Toronto%2011%20%20%20%20Downtown%20Toronto%2012%20%20%20%20Downtown%20Toronto%2013%20%20%20%20Downtown%20Toronto%2014%20%20%20%20Downtown%20Toronto%2015%20%20%20%20Downtown%20Toronto%2016%20%20%20%20Downtown%20Toronto%2017%20%20%20%20Downtown%20Toronto%2018%20%20%20%20Downtown%20Toronto%2019%20%20%20%20Downtown%20Toronto%2020%20%20%20%20Downtown%20Toronto%2021%20%20%20%20Downtown%20Toronto%2022%20%20%20%20%20Central%20Toronto%2023%20%20%20%20%20Central%20Toronto%2024%20%20%20%20%20Central%20Toronto%2025%20%20%20%20Downtown%20Toronto%2026%20%20%20%20Downtown%20Toronto%2027%20%20%20%20Downtown%20Toronto%2028%20%20%20%20Downtown%20Toronto%2029%20%20%20%20Downtown%20Toronto%2030%20%20%20%20Downtown%20Toronto%2031%20%20%20%20%20%20%20%20West%20Toronto%2032%20%20%20%20%20%20%20%20West%20Toronto%2033%20%20%20%20%20%20%20%20West%20Toronto%2034%20%20%20%20%20%20%20%20West%20Toronto%2035%20%20%20%20%20%20%20%20West%20Toronto%2036%20%20%20%20%20%20%20%20West%20Toronto%2037%20%20%20%20%20%20%20%20East%20Toronto%20Name%3A%20Borough%2C%20dtype%3A%20object%20Cluster%201%3C/div%3E%60%29%5B0%5D%3B%0A%20%20%20%20%20%20%20%20%20%20%20%20popup_122a98659b0c4c06a2cb4de79e7912b7.setContent%28html_f631573fffc84219b7958aa7925ef720%29%3B%0A%20%20%20%20%20%20%20%20%0A%0A%20%20%20%20%20%20%20%20circle_marker_812b8c0379a942838732b03331c711d0.bindPopup%28popup_122a98659b0c4c06a2cb4de79e7912b7%29%0A%20%20%20%20%20%20%20%20%3B%0A%0A%20%20%20%20%20%20%20%20%0A%20%20%20%20%0A%20%20%20%20%0A%20%20%20%20%20%20%20%20%20%20%20%20var%20circle_marker_9ae992519fda41879b8b5d62676d2784%20%3D%20L.circleMarker%28%0A%20%20%20%20%20%20%20%20%20%20%20%20%20%20%20%20%5B43.6484292%2C%20-79.3822802%5D%2C%0A%20%20%20%20%20%20%20%20%20%20%20%20%20%20%20%20%7B%22bubblingMouseEvents%22%3A%20true%2C%20%22color%22%3A%20%22%238000ff%22%2C%20%22dashArray%22%3A%20null%2C%20%22dashOffset%22%3A%20null%2C%20%22fill%22%3A%20true%2C%20%22fillColor%22%3A%20%22%238000ff%22%2C%20%22fillOpacity%22%3A%200.7%2C%20%22fillRule%22%3A%20%22evenodd%22%2C%20%22lineCap%22%3A%20%22round%22%2C%20%22lineJoin%22%3A%20%22round%22%2C%20%22opacity%22%3A%201.0%2C%20%22radius%22%3A%205%2C%20%22stroke%22%3A%20true%2C%20%22weight%22%3A%203%7D%0A%20%20%20%20%20%20%20%20%20%20%20%20%29.addTo%28map_de5b9ea3f44742b4ab10e6c52d81254e%29%3B%0A%20%20%20%20%20%20%20%20%0A%20%20%20%20%0A%20%20%20%20%20%20%20%20var%20popup_83b4ec2613244018a6a223cc152cf284%20%3D%20L.popup%28%7B%22maxWidth%22%3A%20%22100%25%22%7D%29%3B%0A%0A%20%20%20%20%20%20%20%20%0A%20%20%20%20%20%20%20%20%20%20%20%20var%20html_67e3cfaeb2cd49fe9026c0812af8160d%20%3D%20%24%28%60%3Cdiv%20id%3D%22html_67e3cfaeb2cd49fe9026c0812af8160d%22%20style%3D%22width%3A%20100.0%25%3B%20height%3A%20100.0%25%3B%22%3E0%20%20%20%20%20%20%20%20%20East%20Toronto%201%20%20%20%20%20%20%20%20%20East%20Toronto%202%20%20%20%20%20%20%20%20%20East%20Toronto%203%20%20%20%20%20%20%20%20%20East%20Toronto%204%20%20%20%20%20%20Central%20Toronto%205%20%20%20%20%20%20Central%20Toronto%206%20%20%20%20%20%20Central%20Toronto%207%20%20%20%20%20%20Central%20Toronto%208%20%20%20%20%20%20Central%20Toronto%209%20%20%20%20%20%20Central%20Toronto%2010%20%20%20%20Downtown%20Toronto%2011%20%20%20%20Downtown%20Toronto%2012%20%20%20%20Downtown%20Toronto%2013%20%20%20%20Downtown%20Toronto%2014%20%20%20%20Downtown%20Toronto%2015%20%20%20%20Downtown%20Toronto%2016%20%20%20%20Downtown%20Toronto%2017%20%20%20%20Downtown%20Toronto%2018%20%20%20%20Downtown%20Toronto%2019%20%20%20%20Downtown%20Toronto%2020%20%20%20%20Downtown%20Toronto%2021%20%20%20%20Downtown%20Toronto%2022%20%20%20%20%20Central%20Toronto%2023%20%20%20%20%20Central%20Toronto%2024%20%20%20%20%20Central%20Toronto%2025%20%20%20%20Downtown%20Toronto%2026%20%20%20%20Downtown%20Toronto%2027%20%20%20%20Downtown%20Toronto%2028%20%20%20%20Downtown%20Toronto%2029%20%20%20%20Downtown%20Toronto%2030%20%20%20%20Downtown%20Toronto%2031%20%20%20%20%20%20%20%20West%20Toronto%2032%20%20%20%20%20%20%20%20West%20Toronto%2033%20%20%20%20%20%20%20%20West%20Toronto%2034%20%20%20%20%20%20%20%20West%20Toronto%2035%20%20%20%20%20%20%20%20West%20Toronto%2036%20%20%20%20%20%20%20%20West%20Toronto%2037%20%20%20%20%20%20%20%20East%20Toronto%20Name%3A%20Borough%2C%20dtype%3A%20object%20Cluster%201%3C/div%3E%60%29%5B0%5D%3B%0A%20%20%20%20%20%20%20%20%20%20%20%20popup_83b4ec2613244018a6a223cc152cf284.setContent%28html_67e3cfaeb2cd49fe9026c0812af8160d%29%3B%0A%20%20%20%20%20%20%20%20%0A%0A%20%20%20%20%20%20%20%20circle_marker_9ae992519fda41879b8b5d62676d2784.bindPopup%28popup_83b4ec2613244018a6a223cc152cf284%29%0A%20%20%20%20%20%20%20%20%3B%0A%0A%20%20%20%20%20%20%20%20%0A%20%20%20%20%0A%20%20%20%20%0A%20%20%20%20%20%20%20%20%20%20%20%20var%20circle_marker_f4699f6715b54a22b4c1778789f44114%20%3D%20L.circleMarker%28%0A%20%20%20%20%20%20%20%20%20%20%20%20%20%20%20%20%5B43.669542%2C%20-79.4225637%5D%2C%0A%20%20%20%20%20%20%20%20%20%20%20%20%20%20%20%20%7B%22bubblingMouseEvents%22%3A%20true%2C%20%22color%22%3A%20%22%238000ff%22%2C%20%22dashArray%22%3A%20null%2C%20%22dashOffset%22%3A%20null%2C%20%22fill%22%3A%20true%2C%20%22fillColor%22%3A%20%22%238000ff%22%2C%20%22fillOpacity%22%3A%200.7%2C%20%22fillRule%22%3A%20%22evenodd%22%2C%20%22lineCap%22%3A%20%22round%22%2C%20%22lineJoin%22%3A%20%22round%22%2C%20%22opacity%22%3A%201.0%2C%20%22radius%22%3A%205%2C%20%22stroke%22%3A%20true%2C%20%22weight%22%3A%203%7D%0A%20%20%20%20%20%20%20%20%20%20%20%20%29.addTo%28map_de5b9ea3f44742b4ab10e6c52d81254e%29%3B%0A%20%20%20%20%20%20%20%20%0A%20%20%20%20%0A%20%20%20%20%20%20%20%20var%20popup_b9394e34365b48138c9bad25d76a148d%20%3D%20L.popup%28%7B%22maxWidth%22%3A%20%22100%25%22%7D%29%3B%0A%0A%20%20%20%20%20%20%20%20%0A%20%20%20%20%20%20%20%20%20%20%20%20var%20html_670e67e195be427185602860f26970d6%20%3D%20%24%28%60%3Cdiv%20id%3D%22html_670e67e195be427185602860f26970d6%22%20style%3D%22width%3A%20100.0%25%3B%20height%3A%20100.0%25%3B%22%3E0%20%20%20%20%20%20%20%20%20East%20Toronto%201%20%20%20%20%20%20%20%20%20East%20Toronto%202%20%20%20%20%20%20%20%20%20East%20Toronto%203%20%20%20%20%20%20%20%20%20East%20Toronto%204%20%20%20%20%20%20Central%20Toronto%205%20%20%20%20%20%20Central%20Toronto%206%20%20%20%20%20%20Central%20Toronto%207%20%20%20%20%20%20Central%20Toronto%208%20%20%20%20%20%20Central%20Toronto%209%20%20%20%20%20%20Central%20Toronto%2010%20%20%20%20Downtown%20Toronto%2011%20%20%20%20Downtown%20Toronto%2012%20%20%20%20Downtown%20Toronto%2013%20%20%20%20Downtown%20Toronto%2014%20%20%20%20Downtown%20Toronto%2015%20%20%20%20Downtown%20Toronto%2016%20%20%20%20Downtown%20Toronto%2017%20%20%20%20Downtown%20Toronto%2018%20%20%20%20Downtown%20Toronto%2019%20%20%20%20Downtown%20Toronto%2020%20%20%20%20Downtown%20Toronto%2021%20%20%20%20Downtown%20Toronto%2022%20%20%20%20%20Central%20Toronto%2023%20%20%20%20%20Central%20Toronto%2024%20%20%20%20%20Central%20Toronto%2025%20%20%20%20Downtown%20Toronto%2026%20%20%20%20Downtown%20Toronto%2027%20%20%20%20Downtown%20Toronto%2028%20%20%20%20Downtown%20Toronto%2029%20%20%20%20Downtown%20Toronto%2030%20%20%20%20Downtown%20Toronto%2031%20%20%20%20%20%20%20%20West%20Toronto%2032%20%20%20%20%20%20%20%20West%20Toronto%2033%20%20%20%20%20%20%20%20West%20Toronto%2034%20%20%20%20%20%20%20%20West%20Toronto%2035%20%20%20%20%20%20%20%20West%20Toronto%2036%20%20%20%20%20%20%20%20West%20Toronto%2037%20%20%20%20%20%20%20%20East%20Toronto%20Name%3A%20Borough%2C%20dtype%3A%20object%20Cluster%201%3C/div%3E%60%29%5B0%5D%3B%0A%20%20%20%20%20%20%20%20%20%20%20%20popup_b9394e34365b48138c9bad25d76a148d.setContent%28html_670e67e195be427185602860f26970d6%29%3B%0A%20%20%20%20%20%20%20%20%0A%0A%20%20%20%20%20%20%20%20circle_marker_f4699f6715b54a22b4c1778789f44114.bindPopup%28popup_b9394e34365b48138c9bad25d76a148d%29%0A%20%20%20%20%20%20%20%20%3B%0A%0A%20%20%20%20%20%20%20%20%0A%20%20%20%20%0A%20%20%20%20%0A%20%20%20%20%20%20%20%20%20%20%20%20var%20circle_marker_393f047a434d4bc8997ab77b5e35cdfd%20%3D%20L.circleMarker%28%0A%20%20%20%20%20%20%20%20%20%20%20%20%20%20%20%20%5B43.6690051%2C%20-79.4422593%5D%2C%0A%20%20%20%20%20%20%20%20%20%20%20%20%20%20%20%20%7B%22bubblingMouseEvents%22%3A%20true%2C%20%22color%22%3A%20%22%23d4dd80%22%2C%20%22dashArray%22%3A%20null%2C%20%22dashOffset%22%3A%20null%2C%20%22fill%22%3A%20true%2C%20%22fillColor%22%3A%20%22%23d4dd80%22%2C%20%22fillOpacity%22%3A%200.7%2C%20%22fillRule%22%3A%20%22evenodd%22%2C%20%22lineCap%22%3A%20%22round%22%2C%20%22lineJoin%22%3A%20%22round%22%2C%20%22opacity%22%3A%201.0%2C%20%22radius%22%3A%205%2C%20%22stroke%22%3A%20true%2C%20%22weight%22%3A%203%7D%0A%20%20%20%20%20%20%20%20%20%20%20%20%29.addTo%28map_de5b9ea3f44742b4ab10e6c52d81254e%29%3B%0A%20%20%20%20%20%20%20%20%0A%20%20%20%20%0A%20%20%20%20%20%20%20%20var%20popup_640905a1e40a4883a1b673ec4a528d1d%20%3D%20L.popup%28%7B%22maxWidth%22%3A%20%22100%25%22%7D%29%3B%0A%0A%20%20%20%20%20%20%20%20%0A%20%20%20%20%20%20%20%20%20%20%20%20var%20html_8587f51a0a3f424fa6ac0d469cf0032c%20%3D%20%24%28%60%3Cdiv%20id%3D%22html_8587f51a0a3f424fa6ac0d469cf0032c%22%20style%3D%22width%3A%20100.0%25%3B%20height%3A%20100.0%25%3B%22%3E0%20%20%20%20%20%20%20%20%20East%20Toronto%201%20%20%20%20%20%20%20%20%20East%20Toronto%202%20%20%20%20%20%20%20%20%20East%20Toronto%203%20%20%20%20%20%20%20%20%20East%20Toronto%204%20%20%20%20%20%20Central%20Toronto%205%20%20%20%20%20%20Central%20Toronto%206%20%20%20%20%20%20Central%20Toronto%207%20%20%20%20%20%20Central%20Toronto%208%20%20%20%20%20%20Central%20Toronto%209%20%20%20%20%20%20Central%20Toronto%2010%20%20%20%20Downtown%20Toronto%2011%20%20%20%20Downtown%20Toronto%2012%20%20%20%20Downtown%20Toronto%2013%20%20%20%20Downtown%20Toronto%2014%20%20%20%20Downtown%20Toronto%2015%20%20%20%20Downtown%20Toronto%2016%20%20%20%20Downtown%20Toronto%2017%20%20%20%20Downtown%20Toronto%2018%20%20%20%20Downtown%20Toronto%2019%20%20%20%20Downtown%20Toronto%2020%20%20%20%20Downtown%20Toronto%2021%20%20%20%20Downtown%20Toronto%2022%20%20%20%20%20Central%20Toronto%2023%20%20%20%20%20Central%20Toronto%2024%20%20%20%20%20Central%20Toronto%2025%20%20%20%20Downtown%20Toronto%2026%20%20%20%20Downtown%20Toronto%2027%20%20%20%20Downtown%20Toronto%2028%20%20%20%20Downtown%20Toronto%2029%20%20%20%20Downtown%20Toronto%2030%20%20%20%20Downtown%20Toronto%2031%20%20%20%20%20%20%20%20West%20Toronto%2032%20%20%20%20%20%20%20%20West%20Toronto%2033%20%20%20%20%20%20%20%20West%20Toronto%2034%20%20%20%20%20%20%20%20West%20Toronto%2035%20%20%20%20%20%20%20%20West%20Toronto%2036%20%20%20%20%20%20%20%20West%20Toronto%2037%20%20%20%20%20%20%20%20East%20Toronto%20Name%3A%20Borough%2C%20dtype%3A%20object%20Cluster%203%3C/div%3E%60%29%5B0%5D%3B%0A%20%20%20%20%20%20%20%20%20%20%20%20popup_640905a1e40a4883a1b673ec4a528d1d.setContent%28html_8587f51a0a3f424fa6ac0d469cf0032c%29%3B%0A%20%20%20%20%20%20%20%20%0A%0A%20%20%20%20%20%20%20%20circle_marker_393f047a434d4bc8997ab77b5e35cdfd.bindPopup%28popup_640905a1e40a4883a1b673ec4a528d1d%29%0A%20%20%20%20%20%20%20%20%3B%0A%0A%20%20%20%20%20%20%20%20%0A%20%20%20%20%0A%20%20%20%20%0A%20%20%20%20%20%20%20%20%20%20%20%20var%20circle_marker_7e0ce0aa4b01471e915223c2c42df625%20%3D%20L.circleMarker%28%0A%20%20%20%20%20%20%20%20%20%20%20%20%20%20%20%20%5B43.6479267%2C%20-79.4197497%5D%2C%0A%20%20%20%20%20%20%20%20%20%20%20%20%20%20%20%20%7B%22bubblingMouseEvents%22%3A%20true%2C%20%22color%22%3A%20%22%23d4dd80%22%2C%20%22dashArray%22%3A%20null%2C%20%22dashOffset%22%3A%20null%2C%20%22fill%22%3A%20true%2C%20%22fillColor%22%3A%20%22%23d4dd80%22%2C%20%22fillOpacity%22%3A%200.7%2C%20%22fillRule%22%3A%20%22evenodd%22%2C%20%22lineCap%22%3A%20%22round%22%2C%20%22lineJoin%22%3A%20%22round%22%2C%20%22opacity%22%3A%201.0%2C%20%22radius%22%3A%205%2C%20%22stroke%22%3A%20true%2C%20%22weight%22%3A%203%7D%0A%20%20%20%20%20%20%20%20%20%20%20%20%29.addTo%28map_de5b9ea3f44742b4ab10e6c52d81254e%29%3B%0A%20%20%20%20%20%20%20%20%0A%20%20%20%20%0A%20%20%20%20%20%20%20%20var%20popup_47beec4bc082466fb553804deb46d669%20%3D%20L.popup%28%7B%22maxWidth%22%3A%20%22100%25%22%7D%29%3B%0A%0A%20%20%20%20%20%20%20%20%0A%20%20%20%20%20%20%20%20%20%20%20%20var%20html_ed019ee1ea6d49fd8f7f090075c7f640%20%3D%20%24%28%60%3Cdiv%20id%3D%22html_ed019ee1ea6d49fd8f7f090075c7f640%22%20style%3D%22width%3A%20100.0%25%3B%20height%3A%20100.0%25%3B%22%3E0%20%20%20%20%20%20%20%20%20East%20Toronto%201%20%20%20%20%20%20%20%20%20East%20Toronto%202%20%20%20%20%20%20%20%20%20East%20Toronto%203%20%20%20%20%20%20%20%20%20East%20Toronto%204%20%20%20%20%20%20Central%20Toronto%205%20%20%20%20%20%20Central%20Toronto%206%20%20%20%20%20%20Central%20Toronto%207%20%20%20%20%20%20Central%20Toronto%208%20%20%20%20%20%20Central%20Toronto%209%20%20%20%20%20%20Central%20Toronto%2010%20%20%20%20Downtown%20Toronto%2011%20%20%20%20Downtown%20Toronto%2012%20%20%20%20Downtown%20Toronto%2013%20%20%20%20Downtown%20Toronto%2014%20%20%20%20Downtown%20Toronto%2015%20%20%20%20Downtown%20Toronto%2016%20%20%20%20Downtown%20Toronto%2017%20%20%20%20Downtown%20Toronto%2018%20%20%20%20Downtown%20Toronto%2019%20%20%20%20Downtown%20Toronto%2020%20%20%20%20Downtown%20Toronto%2021%20%20%20%20Downtown%20Toronto%2022%20%20%20%20%20Central%20Toronto%2023%20%20%20%20%20Central%20Toronto%2024%20%20%20%20%20Central%20Toronto%2025%20%20%20%20Downtown%20Toronto%2026%20%20%20%20Downtown%20Toronto%2027%20%20%20%20Downtown%20Toronto%2028%20%20%20%20Downtown%20Toronto%2029%20%20%20%20Downtown%20Toronto%2030%20%20%20%20Downtown%20Toronto%2031%20%20%20%20%20%20%20%20West%20Toronto%2032%20%20%20%20%20%20%20%20West%20Toronto%2033%20%20%20%20%20%20%20%20West%20Toronto%2034%20%20%20%20%20%20%20%20West%20Toronto%2035%20%20%20%20%20%20%20%20West%20Toronto%2036%20%20%20%20%20%20%20%20West%20Toronto%2037%20%20%20%20%20%20%20%20East%20Toronto%20Name%3A%20Borough%2C%20dtype%3A%20object%20Cluster%203%3C/div%3E%60%29%5B0%5D%3B%0A%20%20%20%20%20%20%20%20%20%20%20%20popup_47beec4bc082466fb553804deb46d669.setContent%28html_ed019ee1ea6d49fd8f7f090075c7f640%29%3B%0A%20%20%20%20%20%20%20%20%0A%0A%20%20%20%20%20%20%20%20circle_marker_7e0ce0aa4b01471e915223c2c42df625.bindPopup%28popup_47beec4bc082466fb553804deb46d669%29%0A%20%20%20%20%20%20%20%20%3B%0A%0A%20%20%20%20%20%20%20%20%0A%20%20%20%20%0A%20%20%20%20%0A%20%20%20%20%20%20%20%20%20%20%20%20var%20circle_marker_4adc27f422254aeea872d45b09ddab19%20%3D%20L.circleMarker%28%0A%20%20%20%20%20%20%20%20%20%20%20%20%20%20%20%20%5B43.6368472%2C%20-79.4281914%5D%2C%0A%20%20%20%20%20%20%20%20%20%20%20%20%20%20%20%20%7B%22bubblingMouseEvents%22%3A%20true%2C%20%22color%22%3A%20%22%23d4dd80%22%2C%20%22dashArray%22%3A%20null%2C%20%22dashOffset%22%3A%20null%2C%20%22fill%22%3A%20true%2C%20%22fillColor%22%3A%20%22%23d4dd80%22%2C%20%22fillOpacity%22%3A%200.7%2C%20%22fillRule%22%3A%20%22evenodd%22%2C%20%22lineCap%22%3A%20%22round%22%2C%20%22lineJoin%22%3A%20%22round%22%2C%20%22opacity%22%3A%201.0%2C%20%22radius%22%3A%205%2C%20%22stroke%22%3A%20true%2C%20%22weight%22%3A%203%7D%0A%20%20%20%20%20%20%20%20%20%20%20%20%29.addTo%28map_de5b9ea3f44742b4ab10e6c52d81254e%29%3B%0A%20%20%20%20%20%20%20%20%0A%20%20%20%20%0A%20%20%20%20%20%20%20%20var%20popup_13147e8472a5416d92a4d85cbda1ce0c%20%3D%20L.popup%28%7B%22maxWidth%22%3A%20%22100%25%22%7D%29%3B%0A%0A%20%20%20%20%20%20%20%20%0A%20%20%20%20%20%20%20%20%20%20%20%20var%20html_be28545ac201428d92f07b0ea0540d74%20%3D%20%24%28%60%3Cdiv%20id%3D%22html_be28545ac201428d92f07b0ea0540d74%22%20style%3D%22width%3A%20100.0%25%3B%20height%3A%20100.0%25%3B%22%3E0%20%20%20%20%20%20%20%20%20East%20Toronto%201%20%20%20%20%20%20%20%20%20East%20Toronto%202%20%20%20%20%20%20%20%20%20East%20Toronto%203%20%20%20%20%20%20%20%20%20East%20Toronto%204%20%20%20%20%20%20Central%20Toronto%205%20%20%20%20%20%20Central%20Toronto%206%20%20%20%20%20%20Central%20Toronto%207%20%20%20%20%20%20Central%20Toronto%208%20%20%20%20%20%20Central%20Toronto%209%20%20%20%20%20%20Central%20Toronto%2010%20%20%20%20Downtown%20Toronto%2011%20%20%20%20Downtown%20Toronto%2012%20%20%20%20Downtown%20Toronto%2013%20%20%20%20Downtown%20Toronto%2014%20%20%20%20Downtown%20Toronto%2015%20%20%20%20Downtown%20Toronto%2016%20%20%20%20Downtown%20Toronto%2017%20%20%20%20Downtown%20Toronto%2018%20%20%20%20Downtown%20Toronto%2019%20%20%20%20Downtown%20Toronto%2020%20%20%20%20Downtown%20Toronto%2021%20%20%20%20Downtown%20Toronto%2022%20%20%20%20%20Central%20Toronto%2023%20%20%20%20%20Central%20Toronto%2024%20%20%20%20%20Central%20Toronto%2025%20%20%20%20Downtown%20Toronto%2026%20%20%20%20Downtown%20Toronto%2027%20%20%20%20Downtown%20Toronto%2028%20%20%20%20Downtown%20Toronto%2029%20%20%20%20Downtown%20Toronto%2030%20%20%20%20Downtown%20Toronto%2031%20%20%20%20%20%20%20%20West%20Toronto%2032%20%20%20%20%20%20%20%20West%20Toronto%2033%20%20%20%20%20%20%20%20West%20Toronto%2034%20%20%20%20%20%20%20%20West%20Toronto%2035%20%20%20%20%20%20%20%20West%20Toronto%2036%20%20%20%20%20%20%20%20West%20Toronto%2037%20%20%20%20%20%20%20%20East%20Toronto%20Name%3A%20Borough%2C%20dtype%3A%20object%20Cluster%203%3C/div%3E%60%29%5B0%5D%3B%0A%20%20%20%20%20%20%20%20%20%20%20%20popup_13147e8472a5416d92a4d85cbda1ce0c.setContent%28html_be28545ac201428d92f07b0ea0540d74%29%3B%0A%20%20%20%20%20%20%20%20%0A%0A%20%20%20%20%20%20%20%20circle_marker_4adc27f422254aeea872d45b09ddab19.bindPopup%28popup_13147e8472a5416d92a4d85cbda1ce0c%29%0A%20%20%20%20%20%20%20%20%3B%0A%0A%20%20%20%20%20%20%20%20%0A%20%20%20%20%0A%20%20%20%20%0A%20%20%20%20%20%20%20%20%20%20%20%20var%20circle_marker_c77ca24d0d0f46c5968c8e0f0e737e6e%20%3D%20L.circleMarker%28%0A%20%20%20%20%20%20%20%20%20%20%20%20%20%20%20%20%5B43.6616083%2C%20-79.4647633%5D%2C%0A%20%20%20%20%20%20%20%20%20%20%20%20%20%20%20%20%7B%22bubblingMouseEvents%22%3A%20true%2C%20%22color%22%3A%20%22%23d4dd80%22%2C%20%22dashArray%22%3A%20null%2C%20%22dashOffset%22%3A%20null%2C%20%22fill%22%3A%20true%2C%20%22fillColor%22%3A%20%22%23d4dd80%22%2C%20%22fillOpacity%22%3A%200.7%2C%20%22fillRule%22%3A%20%22evenodd%22%2C%20%22lineCap%22%3A%20%22round%22%2C%20%22lineJoin%22%3A%20%22round%22%2C%20%22opacity%22%3A%201.0%2C%20%22radius%22%3A%205%2C%20%22stroke%22%3A%20true%2C%20%22weight%22%3A%203%7D%0A%20%20%20%20%20%20%20%20%20%20%20%20%29.addTo%28map_de5b9ea3f44742b4ab10e6c52d81254e%29%3B%0A%20%20%20%20%20%20%20%20%0A%20%20%20%20%0A%20%20%20%20%20%20%20%20var%20popup_a6b382d07c084bbab8d6faf0770cc1c6%20%3D%20L.popup%28%7B%22maxWidth%22%3A%20%22100%25%22%7D%29%3B%0A%0A%20%20%20%20%20%20%20%20%0A%20%20%20%20%20%20%20%20%20%20%20%20var%20html_2011f1a92d9c452c964c697eb4897ace%20%3D%20%24%28%60%3Cdiv%20id%3D%22html_2011f1a92d9c452c964c697eb4897ace%22%20style%3D%22width%3A%20100.0%25%3B%20height%3A%20100.0%25%3B%22%3E0%20%20%20%20%20%20%20%20%20East%20Toronto%201%20%20%20%20%20%20%20%20%20East%20Toronto%202%20%20%20%20%20%20%20%20%20East%20Toronto%203%20%20%20%20%20%20%20%20%20East%20Toronto%204%20%20%20%20%20%20Central%20Toronto%205%20%20%20%20%20%20Central%20Toronto%206%20%20%20%20%20%20Central%20Toronto%207%20%20%20%20%20%20Central%20Toronto%208%20%20%20%20%20%20Central%20Toronto%209%20%20%20%20%20%20Central%20Toronto%2010%20%20%20%20Downtown%20Toronto%2011%20%20%20%20Downtown%20Toronto%2012%20%20%20%20Downtown%20Toronto%2013%20%20%20%20Downtown%20Toronto%2014%20%20%20%20Downtown%20Toronto%2015%20%20%20%20Downtown%20Toronto%2016%20%20%20%20Downtown%20Toronto%2017%20%20%20%20Downtown%20Toronto%2018%20%20%20%20Downtown%20Toronto%2019%20%20%20%20Downtown%20Toronto%2020%20%20%20%20Downtown%20Toronto%2021%20%20%20%20Downtown%20Toronto%2022%20%20%20%20%20Central%20Toronto%2023%20%20%20%20%20Central%20Toronto%2024%20%20%20%20%20Central%20Toronto%2025%20%20%20%20Downtown%20Toronto%2026%20%20%20%20Downtown%20Toronto%2027%20%20%20%20Downtown%20Toronto%2028%20%20%20%20Downtown%20Toronto%2029%20%20%20%20Downtown%20Toronto%2030%20%20%20%20Downtown%20Toronto%2031%20%20%20%20%20%20%20%20West%20Toronto%2032%20%20%20%20%20%20%20%20West%20Toronto%2033%20%20%20%20%20%20%20%20West%20Toronto%2034%20%20%20%20%20%20%20%20West%20Toronto%2035%20%20%20%20%20%20%20%20West%20Toronto%2036%20%20%20%20%20%20%20%20West%20Toronto%2037%20%20%20%20%20%20%20%20East%20Toronto%20Name%3A%20Borough%2C%20dtype%3A%20object%20Cluster%203%3C/div%3E%60%29%5B0%5D%3B%0A%20%20%20%20%20%20%20%20%20%20%20%20popup_a6b382d07c084bbab8d6faf0770cc1c6.setContent%28html_2011f1a92d9c452c964c697eb4897ace%29%3B%0A%20%20%20%20%20%20%20%20%0A%0A%20%20%20%20%20%20%20%20circle_marker_c77ca24d0d0f46c5968c8e0f0e737e6e.bindPopup%28popup_a6b382d07c084bbab8d6faf0770cc1c6%29%0A%20%20%20%20%20%20%20%20%3B%0A%0A%20%20%20%20%20%20%20%20%0A%20%20%20%20%0A%20%20%20%20%0A%20%20%20%20%20%20%20%20%20%20%20%20var%20circle_marker_286948315d8248e9b14420d439ce4e74%20%3D%20L.circleMarker%28%0A%20%20%20%20%20%20%20%20%20%20%20%20%20%20%20%20%5B43.6489597%2C%20-79.456325%5D%2C%0A%20%20%20%20%20%20%20%20%20%20%20%20%20%20%20%20%7B%22bubblingMouseEvents%22%3A%20true%2C%20%22color%22%3A%20%22%23d4dd80%22%2C%20%22dashArray%22%3A%20null%2C%20%22dashOffset%22%3A%20null%2C%20%22fill%22%3A%20true%2C%20%22fillColor%22%3A%20%22%23d4dd80%22%2C%20%22fillOpacity%22%3A%200.7%2C%20%22fillRule%22%3A%20%22evenodd%22%2C%20%22lineCap%22%3A%20%22round%22%2C%20%22lineJoin%22%3A%20%22round%22%2C%20%22opacity%22%3A%201.0%2C%20%22radius%22%3A%205%2C%20%22stroke%22%3A%20true%2C%20%22weight%22%3A%203%7D%0A%20%20%20%20%20%20%20%20%20%20%20%20%29.addTo%28map_de5b9ea3f44742b4ab10e6c52d81254e%29%3B%0A%20%20%20%20%20%20%20%20%0A%20%20%20%20%0A%20%20%20%20%20%20%20%20var%20popup_f9f097480f824aa8955746364f843f05%20%3D%20L.popup%28%7B%22maxWidth%22%3A%20%22100%25%22%7D%29%3B%0A%0A%20%20%20%20%20%20%20%20%0A%20%20%20%20%20%20%20%20%20%20%20%20var%20html_fca9bc309fe5409c94616f4b1d9ba6a7%20%3D%20%24%28%60%3Cdiv%20id%3D%22html_fca9bc309fe5409c94616f4b1d9ba6a7%22%20style%3D%22width%3A%20100.0%25%3B%20height%3A%20100.0%25%3B%22%3E0%20%20%20%20%20%20%20%20%20East%20Toronto%201%20%20%20%20%20%20%20%20%20East%20Toronto%202%20%20%20%20%20%20%20%20%20East%20Toronto%203%20%20%20%20%20%20%20%20%20East%20Toronto%204%20%20%20%20%20%20Central%20Toronto%205%20%20%20%20%20%20Central%20Toronto%206%20%20%20%20%20%20Central%20Toronto%207%20%20%20%20%20%20Central%20Toronto%208%20%20%20%20%20%20Central%20Toronto%209%20%20%20%20%20%20Central%20Toronto%2010%20%20%20%20Downtown%20Toronto%2011%20%20%20%20Downtown%20Toronto%2012%20%20%20%20Downtown%20Toronto%2013%20%20%20%20Downtown%20Toronto%2014%20%20%20%20Downtown%20Toronto%2015%20%20%20%20Downtown%20Toronto%2016%20%20%20%20Downtown%20Toronto%2017%20%20%20%20Downtown%20Toronto%2018%20%20%20%20Downtown%20Toronto%2019%20%20%20%20Downtown%20Toronto%2020%20%20%20%20Downtown%20Toronto%2021%20%20%20%20Downtown%20Toronto%2022%20%20%20%20%20Central%20Toronto%2023%20%20%20%20%20Central%20Toronto%2024%20%20%20%20%20Central%20Toronto%2025%20%20%20%20Downtown%20Toronto%2026%20%20%20%20Downtown%20Toronto%2027%20%20%20%20Downtown%20Toronto%2028%20%20%20%20Downtown%20Toronto%2029%20%20%20%20Downtown%20Toronto%2030%20%20%20%20Downtown%20Toronto%2031%20%20%20%20%20%20%20%20West%20Toronto%2032%20%20%20%20%20%20%20%20West%20Toronto%2033%20%20%20%20%20%20%20%20West%20Toronto%2034%20%20%20%20%20%20%20%20West%20Toronto%2035%20%20%20%20%20%20%20%20West%20Toronto%2036%20%20%20%20%20%20%20%20West%20Toronto%2037%20%20%20%20%20%20%20%20East%20Toronto%20Name%3A%20Borough%2C%20dtype%3A%20object%20Cluster%203%3C/div%3E%60%29%5B0%5D%3B%0A%20%20%20%20%20%20%20%20%20%20%20%20popup_f9f097480f824aa8955746364f843f05.setContent%28html_fca9bc309fe5409c94616f4b1d9ba6a7%29%3B%0A%20%20%20%20%20%20%20%20%0A%0A%20%20%20%20%20%20%20%20circle_marker_286948315d8248e9b14420d439ce4e74.bindPopup%28popup_f9f097480f824aa8955746364f843f05%29%0A%20%20%20%20%20%20%20%20%3B%0A%0A%20%20%20%20%20%20%20%20%0A%20%20%20%20%0A%20%20%20%20%0A%20%20%20%20%20%20%20%20%20%20%20%20var%20circle_marker_4e349c0c72f5498982662dff1087ac2b%20%3D%20L.circleMarker%28%0A%20%20%20%20%20%20%20%20%20%20%20%20%20%20%20%20%5B43.6515706%2C%20-79.4844499%5D%2C%0A%20%20%20%20%20%20%20%20%20%20%20%20%20%20%20%20%7B%22bubblingMouseEvents%22%3A%20true%2C%20%22color%22%3A%20%22%23d4dd80%22%2C%20%22dashArray%22%3A%20null%2C%20%22dashOffset%22%3A%20null%2C%20%22fill%22%3A%20true%2C%20%22fillColor%22%3A%20%22%23d4dd80%22%2C%20%22fillOpacity%22%3A%200.7%2C%20%22fillRule%22%3A%20%22evenodd%22%2C%20%22lineCap%22%3A%20%22round%22%2C%20%22lineJoin%22%3A%20%22round%22%2C%20%22opacity%22%3A%201.0%2C%20%22radius%22%3A%205%2C%20%22stroke%22%3A%20true%2C%20%22weight%22%3A%203%7D%0A%20%20%20%20%20%20%20%20%20%20%20%20%29.addTo%28map_de5b9ea3f44742b4ab10e6c52d81254e%29%3B%0A%20%20%20%20%20%20%20%20%0A%20%20%20%20%0A%20%20%20%20%20%20%20%20var%20popup_a7cee99b7c1a4caf96e922e913f648e0%20%3D%20L.popup%28%7B%22maxWidth%22%3A%20%22100%25%22%7D%29%3B%0A%0A%20%20%20%20%20%20%20%20%0A%20%20%20%20%20%20%20%20%20%20%20%20var%20html_233cdc690dec4198af873c589edd30ed%20%3D%20%24%28%60%3Cdiv%20id%3D%22html_233cdc690dec4198af873c589edd30ed%22%20style%3D%22width%3A%20100.0%25%3B%20height%3A%20100.0%25%3B%22%3E0%20%20%20%20%20%20%20%20%20East%20Toronto%201%20%20%20%20%20%20%20%20%20East%20Toronto%202%20%20%20%20%20%20%20%20%20East%20Toronto%203%20%20%20%20%20%20%20%20%20East%20Toronto%204%20%20%20%20%20%20Central%20Toronto%205%20%20%20%20%20%20Central%20Toronto%206%20%20%20%20%20%20Central%20Toronto%207%20%20%20%20%20%20Central%20Toronto%208%20%20%20%20%20%20Central%20Toronto%209%20%20%20%20%20%20Central%20Toronto%2010%20%20%20%20Downtown%20Toronto%2011%20%20%20%20Downtown%20Toronto%2012%20%20%20%20Downtown%20Toronto%2013%20%20%20%20Downtown%20Toronto%2014%20%20%20%20Downtown%20Toronto%2015%20%20%20%20Downtown%20Toronto%2016%20%20%20%20Downtown%20Toronto%2017%20%20%20%20Downtown%20Toronto%2018%20%20%20%20Downtown%20Toronto%2019%20%20%20%20Downtown%20Toronto%2020%20%20%20%20Downtown%20Toronto%2021%20%20%20%20Downtown%20Toronto%2022%20%20%20%20%20Central%20Toronto%2023%20%20%20%20%20Central%20Toronto%2024%20%20%20%20%20Central%20Toronto%2025%20%20%20%20Downtown%20Toronto%2026%20%20%20%20Downtown%20Toronto%2027%20%20%20%20Downtown%20Toronto%2028%20%20%20%20Downtown%20Toronto%2029%20%20%20%20Downtown%20Toronto%2030%20%20%20%20Downtown%20Toronto%2031%20%20%20%20%20%20%20%20West%20Toronto%2032%20%20%20%20%20%20%20%20West%20Toronto%2033%20%20%20%20%20%20%20%20West%20Toronto%2034%20%20%20%20%20%20%20%20West%20Toronto%2035%20%20%20%20%20%20%20%20West%20Toronto%2036%20%20%20%20%20%20%20%20West%20Toronto%2037%20%20%20%20%20%20%20%20East%20Toronto%20Name%3A%20Borough%2C%20dtype%3A%20object%20Cluster%203%3C/div%3E%60%29%5B0%5D%3B%0A%20%20%20%20%20%20%20%20%20%20%20%20popup_a7cee99b7c1a4caf96e922e913f648e0.setContent%28html_233cdc690dec4198af873c589edd30ed%29%3B%0A%20%20%20%20%20%20%20%20%0A%0A%20%20%20%20%20%20%20%20circle_marker_4e349c0c72f5498982662dff1087ac2b.bindPopup%28popup_a7cee99b7c1a4caf96e922e913f648e0%29%0A%20%20%20%20%20%20%20%20%3B%0A%0A%20%20%20%20%20%20%20%20%0A%20%20%20%20%0A%20%20%20%20%0A%20%20%20%20%20%20%20%20%20%20%20%20var%20circle_marker_ab5f3605687b46a9ac2b084264816f1a%20%3D%20L.circleMarker%28%0A%20%20%20%20%20%20%20%20%20%20%20%20%20%20%20%20%5B43.6627439%2C%20-79.321558%5D%2C%0A%20%20%20%20%20%20%20%20%20%20%20%20%20%20%20%20%7B%22bubblingMouseEvents%22%3A%20true%2C%20%22color%22%3A%20%22%23ff0000%22%2C%20%22dashArray%22%3A%20null%2C%20%22dashOffset%22%3A%20null%2C%20%22fill%22%3A%20true%2C%20%22fillColor%22%3A%20%22%23ff0000%22%2C%20%22fillOpacity%22%3A%200.7%2C%20%22fillRule%22%3A%20%22evenodd%22%2C%20%22lineCap%22%3A%20%22round%22%2C%20%22lineJoin%22%3A%20%22round%22%2C%20%22opacity%22%3A%201.0%2C%20%22radius%22%3A%205%2C%20%22stroke%22%3A%20true%2C%20%22weight%22%3A%203%7D%0A%20%20%20%20%20%20%20%20%20%20%20%20%29.addTo%28map_de5b9ea3f44742b4ab10e6c52d81254e%29%3B%0A%20%20%20%20%20%20%20%20%0A%20%20%20%20%0A%20%20%20%20%20%20%20%20var%20popup_0981d6e3aca24d779885cbdccbb9ae4e%20%3D%20L.popup%28%7B%22maxWidth%22%3A%20%22100%25%22%7D%29%3B%0A%0A%20%20%20%20%20%20%20%20%0A%20%20%20%20%20%20%20%20%20%20%20%20var%20html_c7590a3016c94bdb87fe4e158934cadd%20%3D%20%24%28%60%3Cdiv%20id%3D%22html_c7590a3016c94bdb87fe4e158934cadd%22%20style%3D%22width%3A%20100.0%25%3B%20height%3A%20100.0%25%3B%22%3E0%20%20%20%20%20%20%20%20%20East%20Toronto%201%20%20%20%20%20%20%20%20%20East%20Toronto%202%20%20%20%20%20%20%20%20%20East%20Toronto%203%20%20%20%20%20%20%20%20%20East%20Toronto%204%20%20%20%20%20%20Central%20Toronto%205%20%20%20%20%20%20Central%20Toronto%206%20%20%20%20%20%20Central%20Toronto%207%20%20%20%20%20%20Central%20Toronto%208%20%20%20%20%20%20Central%20Toronto%209%20%20%20%20%20%20Central%20Toronto%2010%20%20%20%20Downtown%20Toronto%2011%20%20%20%20Downtown%20Toronto%2012%20%20%20%20Downtown%20Toronto%2013%20%20%20%20Downtown%20Toronto%2014%20%20%20%20Downtown%20Toronto%2015%20%20%20%20Downtown%20Toronto%2016%20%20%20%20Downtown%20Toronto%2017%20%20%20%20Downtown%20Toronto%2018%20%20%20%20Downtown%20Toronto%2019%20%20%20%20Downtown%20Toronto%2020%20%20%20%20Downtown%20Toronto%2021%20%20%20%20Downtown%20Toronto%2022%20%20%20%20%20Central%20Toronto%2023%20%20%20%20%20Central%20Toronto%2024%20%20%20%20%20Central%20Toronto%2025%20%20%20%20Downtown%20Toronto%2026%20%20%20%20Downtown%20Toronto%2027%20%20%20%20Downtown%20Toronto%2028%20%20%20%20Downtown%20Toronto%2029%20%20%20%20Downtown%20Toronto%2030%20%20%20%20Downtown%20Toronto%2031%20%20%20%20%20%20%20%20West%20Toronto%2032%20%20%20%20%20%20%20%20West%20Toronto%2033%20%20%20%20%20%20%20%20West%20Toronto%2034%20%20%20%20%20%20%20%20West%20Toronto%2035%20%20%20%20%20%20%20%20West%20Toronto%2036%20%20%20%20%20%20%20%20West%20Toronto%2037%20%20%20%20%20%20%20%20East%20Toronto%20Name%3A%20Borough%2C%20dtype%3A%20object%20Cluster%204%3C/div%3E%60%29%5B0%5D%3B%0A%20%20%20%20%20%20%20%20%20%20%20%20popup_0981d6e3aca24d779885cbdccbb9ae4e.setContent%28html_c7590a3016c94bdb87fe4e158934cadd%29%3B%0A%20%20%20%20%20%20%20%20%0A%0A%20%20%20%20%20%20%20%20circle_marker_ab5f3605687b46a9ac2b084264816f1a.bindPopup%28popup_0981d6e3aca24d779885cbdccbb9ae4e%29%0A%20%20%20%20%20%20%20%20%3B%0A%0A%20%20%20%20%20%20%20%20%0A%20%20%20%20%0A%3C/script%3E onload=\"this.contentDocument.open();this.contentDocument.write(    decodeURIComponent(this.getAttribute('data-html')));this.contentDocument.close();\" allowfullscreen webkitallowfullscreen mozallowfullscreen></iframe></div></div>"
      ],
      "text/plain": [
       "<folium.folium.Map at 0x26a55bfd640>"
      ]
     },
     "execution_count": 20,
     "metadata": {},
     "output_type": "execute_result"
    }
   ],
   "source": [
    "map_toronto"
   ]
  },
  {
   "cell_type": "code",
   "execution_count": 21,
   "metadata": {
    "scrolled": true
   },
   "outputs": [
    {
     "name": "stdout",
     "output_type": "stream",
     "text": [
      "End of project\n"
     ]
    }
   ],
   "source": [
    "print('End of project')"
   ]
  }
 ],
 "metadata": {
  "kernelspec": {
   "display_name": "Python 3",
   "language": "python",
   "name": "python3"
  },
  "language_info": {
   "codemirror_mode": {
    "name": "ipython",
    "version": 3
   },
   "file_extension": ".py",
   "mimetype": "text/x-python",
   "name": "python",
   "nbconvert_exporter": "python",
   "pygments_lexer": "ipython3",
   "version": "3.8.3"
  }
 },
 "nbformat": 4,
 "nbformat_minor": 4
}
